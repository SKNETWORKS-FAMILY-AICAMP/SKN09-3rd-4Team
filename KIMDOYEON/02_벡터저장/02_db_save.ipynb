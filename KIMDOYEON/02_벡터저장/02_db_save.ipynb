{
 "cells": [
  {
   "cell_type": "markdown",
   "metadata": {},
   "source": [
    "## 1. import"
   ]
  },
  {
   "cell_type": "code",
   "execution_count": 2,
   "metadata": {},
   "outputs": [
    {
     "name": "stderr",
     "output_type": "stream",
     "text": [
      "c:\\Users\\Playdata\\AppData\\Local\\anaconda3\\envs\\vectordb_env\\lib\\site-packages\\tqdm\\auto.py:21: TqdmWarning: IProgress not found. Please update jupyter and ipywidgets. See https://ipywidgets.readthedocs.io/en/stable/user_install.html\n",
      "  from .autonotebook import tqdm as notebook_tqdm\n"
     ]
    },
    {
     "data": {
      "text/plain": [
       "True"
      ]
     },
     "execution_count": 2,
     "metadata": {},
     "output_type": "execute_result"
    }
   ],
   "source": [
    "import os\n",
    "from langchain.document_loaders import PyPDFLoader\n",
    "from langchain.text_splitter import RecursiveCharacterTextSplitter\n",
    "from sentence_transformers import SentenceTransformer\n",
    "import faiss\n",
    "import numpy as np\n",
    "from tqdm import tqdm\n",
    "from dotenv import load_dotenv\n",
    "load_dotenv()\n"
   ]
  },
  {
   "cell_type": "markdown",
   "metadata": {},
   "source": [
    "## 2. pdf load"
   ]
  },
  {
   "cell_type": "code",
   "execution_count": null,
   "metadata": {},
   "outputs": [],
   "source": [
    "\n",
    "# 피디에프 로드\n",
    "path = './하나손해보험 약관파일/1_자동차보험/1_3_공동인수 자동차보험(개인용)_pdf.pdf'\n",
    "loader = PyPDFLoader(path)\n",
    "pages = loader.load()\n",
    "\n",
    "# 텍스트 나누기\n",
    "text_splitter = RecursiveCharacterTextSplitter(\n",
    "    chunk_size=1000,\n",
    "    chunk_overlap=100\n",
    ")\n",
    "documents = text_splitter.split_documents(pages)\n",
    "\n",
    "# 문장 추출\n",
    "sentences = [doc.page_content for doc in documents]\n",
    "\n",
    "len(sentences)"
   ]
  },
  {
   "cell_type": "markdown",
   "metadata": {},
   "source": [
    "## 3. embedding"
   ]
  },
  {
   "cell_type": "code",
   "execution_count": null,
   "metadata": {},
   "outputs": [],
   "source": [
    "# 허깅 페이스에서 임베딩 모델 로드\n",
    "embed_model_name = \"MLP-KTLim/llama-3-Korean-Bllossom-8B\"\n",
    "embed_model = SentenceTransformer(embed_model_name)"
   ]
  },
  {
   "cell_type": "code",
   "execution_count": null,
   "metadata": {},
   "outputs": [],
   "source": [
    "# 방법 1\n",
    "# 임베딩 진행하면서 진행상황 확인\n",
    "from tqdm import tqdm\n",
    "\n",
    "embeddings = []\n",
    "sentence = sentences[:100]\n",
    "for sent in tqdm(sentence, desc=\"임베딩 중\"):\n",
    "    emb = embed_model.encode(sent)\n",
    "    embeddings.append(emb)"
   ]
  },
  {
   "cell_type": "code",
   "execution_count": null,
   "metadata": {},
   "outputs": [],
   "source": [
    "# 방법 2\n",
    "# 문장을 배치 단위로 나눠서 처리 + 진행률 출력 : 더 빠름\n",
    "batch_size = 32\n",
    "embeddings = []\n",
    "\n",
    "for i in tqdm(range(0, len(sentences), batch_size), desc=\"배치 임베딩 중\"):\n",
    "    batch = sentences[i:i+batch_size]\n",
    "    emb = embed_model.encode(batch)\n",
    "    embeddings.extend(emb)"
   ]
  },
  {
   "cell_type": "code",
   "execution_count": null,
   "metadata": {},
   "outputs": [],
   "source": [
    "metadata = [{\"text\": s, \"page\": i+1} for i, s in enumerate(sentences)]"
   ]
  },
  {
   "cell_type": "markdown",
   "metadata": {},
   "source": [
    "## 4. faiss DB"
   ]
  },
  {
   "cell_type": "code",
   "execution_count": null,
   "metadata": {},
   "outputs": [],
   "source": [
    "import pickle\n",
    "\n",
    "# numpy array로 변환\n",
    "embeddings_np = np.array(embeddings).astype('float32')\n",
    "\n",
    "# FAISS 인덱스 생성 (L2 거리 기반)\n",
    "dim = embeddings_np.shape[1]\n",
    "index = faiss.IndexFlatL2(dim)\n",
    "\n",
    "# 벡터 추가\n",
    "index.add(embeddings_np)\n",
    "\n",
    "\n",
    "# 저장할 경로 설정\n",
    "save_dir = \"./faiss_data\"\n",
    "\n",
    "save_path = os.path.join(save_dir, \"my_index.idx\")\n",
    "\n",
    "# 디렉토리 없으면 생성\n",
    "os.makedirs(save_dir, exist_ok=True)\n",
    "\n",
    "# 저장\n",
    "faiss.write_index(index, save_path)\n",
    "with open(os.path.join(save_dir, \"metadata.pkl\"), \"wb\") as f:\n",
    "    pickle.dump(metadata, f)"
   ]
  }
 ],
 "metadata": {
  "kernelspec": {
   "display_name": "vectordb_env",
   "language": "python",
   "name": "python3"
  },
  "language_info": {
   "codemirror_mode": {
    "name": "ipython",
    "version": 3
   },
   "file_extension": ".py",
   "mimetype": "text/x-python",
   "name": "python",
   "nbconvert_exporter": "python",
   "pygments_lexer": "ipython3",
   "version": "3.9.21"
  }
 },
 "nbformat": 4,
 "nbformat_minor": 2
}
