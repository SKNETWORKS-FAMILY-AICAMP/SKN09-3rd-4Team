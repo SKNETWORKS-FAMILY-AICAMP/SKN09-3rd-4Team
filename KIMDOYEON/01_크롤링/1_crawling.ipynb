{
 "cells": [
  {
   "cell_type": "markdown",
   "metadata": {},
   "source": [
    "### 설명\n",
    "- 하나손해보험 웹페이지 크롤링\n",
    "- 보험 최근 약관만 다운로드\n",
    "- 코드 정리"
   ]
  },
  {
   "cell_type": "markdown",
   "metadata": {},
   "source": [
    "## 1. 모듈 임포트"
   ]
  },
  {
   "cell_type": "code",
   "execution_count": null,
   "metadata": {},
   "outputs": [],
   "source": [
    "from selenium import webdriver  # 브라우저를 제어하는 라이브러리\n",
    "from selenium.webdriver.common.by import By  # HTML 요소를 찾을 때 사용\n",
    "from selenium.webdriver.common.keys import Keys  # 키보드 입력을 자동화할 때 사용\n",
    "from selenium.webdriver.support.ui import WebDriverWait\n",
    "from selenium.webdriver.support import expected_conditions as EC\n",
    "import time\n",
    "import requests"
   ]
  },
  {
   "cell_type": "markdown",
   "metadata": {},
   "source": [
    "## 2. 크롬 브라우저로 사이트 열기"
   ]
  },
  {
   "cell_type": "code",
   "execution_count": null,
   "metadata": {},
   "outputs": [],
   "source": [
    "# Chrome 브라우저 실행\n",
    "driver = webdriver.Chrome()\n",
    "driver.get(\"https://www.hanainsure.co.kr/w/disclosure/product/saleProduct\")\n",
    "time.sleep(1)"
   ]
  },
  {
   "cell_type": "markdown",
   "metadata": {},
   "source": [
    "## 3. 태그를 찾고 클릭 & 약관 pdf 다운로드"
   ]
  },
  {
   "cell_type": "code",
   "execution_count": null,
   "metadata": {},
   "outputs": [],
   "source": [
    "# 보험 상품 선택 -> 보험 상품 목록 -> 판매 기간 -> 약관 보기 -> pdf 다운로드\n",
    "# (1) 자동차보험 -> (2) 5가지(개인용/업무용/등) -> (3) n개(보험상품목록) -> (4) 현재 -> (5) 약관보기 -> (6) pdf창 -> (7) 다운로드 -> (8) 원래 창으로 이동\n",
    "\n",
    "\n",
    "# (1) 자동차보험 선택\n",
    "button = driver.find_element(By.XPATH, f\"//a[@data-ins_type='0' and text()='자동차보험']\")\n",
    "driver.execute_script(\"arguments[0].click();\", button)\n",
    "time.sleep(0.5)\n",
    "\n",
    "# (2) 5가지 상품 목차 순회\n",
    "for j in range(1,6):\n",
    "    button = driver.find_element(By.XPATH, f\"//a[@data-ins_type='0' and @data-ins_dtl_type='0{j}']\")\n",
    "    driver.execute_script(\"arguments[0].click();\", button)\n",
    "    time.sleep(0.5)\n",
    "\n",
    "    # (3) links로 받아서 순회\n",
    "    links = driver.find_elements(By.XPATH, \"//div[@id='divStep02']//a\")\n",
    "    for i, link in enumerate(links):\n",
    "        name = link.text        # 보험상품 이름 저장\n",
    "        driver.execute_script(\"arguments[0].click();\", link)\n",
    "        time.sleep(0.1)\n",
    "\n",
    "        # (4) 현재\n",
    "        button = driver.find_element(By.XPATH, \"//div[@id='divStep03']//a[1]\")\n",
    "        driver.execute_script(\"arguments[0].click();\", button)\n",
    "        time.sleep(0.1)\n",
    "\n",
    "        # (5) 약관보기\n",
    "        button = driver.find_element(By.XPATH, \"//div[@class='btn_group']/a[1]\")\n",
    "        driver.execute_script(\"arguments[0].click();\", button)\n",
    "\n",
    "        # (6) pdf창 페이지로 이동\n",
    "        all_tabs = driver.window_handles    # 모든 탭을 리스트형태로\n",
    "        new_tab = all_tabs[1]               # 새 탭(리스트의 두번째)로 선택\n",
    "        driver.switch_to.window(new_tab)    # 새 탭으로 이동\n",
    "        time.sleep(1)\n",
    "\n",
    "        # (7) 다운로드\n",
    "        pdf_url = driver.current_url\n",
    "        response = requests.get(pdf_url)\n",
    "        file_name = f\"./하나손해보험 약관파일/1_자동차보험/{j}_{i+1}_{name}_pdf.pdf\"\n",
    "        with open(file_name, \"wb\") as f:\n",
    "            f.write(response.content)\n",
    "            time.sleep(0.1)\n",
    "        \n",
    "        # (8) 두번째 창을 닫고 원래 창으로 이동\n",
    "        driver.close()  # 현재 탭 닫기\n",
    "        driver.switch_to.window(all_tabs[0])  # 다시 원래 첫 번째 탭으로 돌아가기\n",
    "\n",
    "# 종료\n",
    "driver.quit()"
   ]
  }
 ],
 "metadata": {
  "kernelspec": {
   "display_name": "pystudy_env",
   "language": "python",
   "name": "python3"
  },
  "language_info": {
   "codemirror_mode": {
    "name": "ipython",
    "version": 3
   },
   "file_extension": ".py",
   "mimetype": "text/x-python",
   "name": "python",
   "nbconvert_exporter": "python",
   "pygments_lexer": "ipython3",
   "version": "3.12.9"
  }
 },
 "nbformat": 4,
 "nbformat_minor": 2
}
