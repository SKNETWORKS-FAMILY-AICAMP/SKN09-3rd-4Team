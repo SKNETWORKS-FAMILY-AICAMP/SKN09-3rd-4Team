{
 "cells": [
  {
   "cell_type": "code",
   "execution_count": 2,
   "metadata": {},
   "outputs": [
    {
     "data": {
      "text/plain": [
       "True"
      ]
     },
     "execution_count": 2,
     "metadata": {},
     "output_type": "execute_result"
    }
   ],
   "source": [
    "from dotenv import load_dotenv\n",
    "load_dotenv()"
   ]
  },
  {
   "cell_type": "code",
   "execution_count": 3,
   "metadata": {},
   "outputs": [],
   "source": [
    "import os\n",
    "from langchain.embeddings import HuggingFaceEmbeddings\n",
    "from langchain_community.document_loaders import PyPDFLoader\n",
    "from langchain.text_splitter import RecursiveCharacterTextSplitter\n",
    "from langchain.vectorstores import Chroma\n",
    "from langchain.embeddings import HuggingFaceEmbeddings\n",
    "import fitz  # PyMuPDF\n",
    "from langchain.schema import Document\n"
   ]
  },
  {
   "cell_type": "code",
   "execution_count": null,
   "metadata": {},
   "outputs": [],
   "source": [
    "# PDF 파일이 저장된 폴더 경로\n",
    "path = \"data\"\n",
    "pdf_folder = \"data\"\n",
    "file_list = os.listdir(path)\n",
    "\n",
    "# 원하는 모델 선택\n",
    "# model_name = \"Bllossom/llama-3.2-Korean-Bllossom-3B\"\n",
    "# model_name = \"kakaocorp/kanana-nano-2.1b-embedding\"\n",
    "model_name = \"sentence-transformers/all-MiniLM-L6-v2\"  \n",
    "embedder = HuggingFaceEmbeddings(model_name=model_name)\n",
    "\n",
    "vectorstore_path = \"./chroma_db\"  # 로컬 저장 경로\n",
    "vectorstore = Chroma(embedding_function=embedder, persist_directory=vectorstore_path)\n"
   ]
  },
  {
   "cell_type": "code",
   "execution_count": 16,
   "metadata": {},
   "outputs": [],
   "source": [
    "# PDF 파일 목록 가져오기\n",
    "pdf_files = [f for f in os.listdir(pdf_folder) if f.endswith(\".pdf\")]\n",
    "\n",
    "for file in file_list[80:]:\n",
    "    file_path = os.path.join(pdf_folder, file)\n",
    "    try:\n",
    "        loader = PyPDFLoader(path + '\\\\' + file)\n",
    "        documents = loader.load()\n",
    "    except:\n",
    "        documents = []\n",
    "        with fitz.open(file_path) as pdf:\n",
    "            metadata = pdf.metadata # PDF의 메타데이터 추출\n",
    "            \n",
    "            for page_num, page in enumerate(pdf):\n",
    "                page_text = page.get_text()\n",
    "                if \"MuPDF error:\" not in page_text:\n",
    "                    documents.append(Document(\n",
    "                        page_content=page_text,\n",
    "                        metadata={\n",
    "                            'producer': metadata.get('producer', ''),\n",
    "                            'creator': metadata.get('creator', ''),\n",
    "                            'creationdate': metadata.get('creationDate', ''),\n",
    "                            'title': metadata.get('title', ''),\n",
    "                            'author': metadata.get('author', ''),\n",
    "                            'moddate': metadata.get('modDate', ''),\n",
    "                            'pdfversion': metadata.get('pdfVersion', ''),\n",
    "                            'source': file_path,\n",
    "                            'total_pages': pdf.page_count,\n",
    "                            'page': page_num,\n",
    "                            'page_label': str(page_num + 1)\n",
    "                        }\n",
    "                    ))\n",
    "\n",
    "\n",
    "    for doc in documents:\n",
    "        doc.page_content = doc.page_content.replace('\\n', ' ')\n",
    "        doc.page_content = doc.page_content.replace('  ', ' ')\n",
    "        doc.metadata[\"source\"] = file  # 파일명 추가\n",
    "\n",
    "    splitter = RecursiveCharacterTextSplitter(\n",
    "        chunk_size=2000,    # 각 chunk의 최대 문자 수 (기본값: 1000)\n",
    "        chunk_overlap=1000   # 인접한 텍스트 조각 간 겹치는 문자 수 (기본값: 200) 문맥 이해를 위해 사용\n",
    "                       # seperators: 텍스트 분할 구분자 우선순위 (기본값: ['\\n\\n', '\\n', ' ', ''])\n",
    "    )\n",
    "    docs = splitter.split_documents(documents)\n",
    "    vectorstore.add_documents(docs)\n",
    "    print(file)\n",
    "vectorstore.persist()  # 로컬에 저장"
   ]
  }
 ],
 "metadata": {
  "kernelspec": {
   "display_name": "vectordb_env",
   "language": "python",
   "name": "python3"
  },
  "language_info": {
   "codemirror_mode": {
    "name": "ipython",
    "version": 3
   },
   "file_extension": ".py",
   "mimetype": "text/x-python",
   "name": "python",
   "nbconvert_exporter": "python",
   "pygments_lexer": "ipython3",
   "version": "3.9.21"
  }
 },
 "nbformat": 4,
 "nbformat_minor": 2
}
