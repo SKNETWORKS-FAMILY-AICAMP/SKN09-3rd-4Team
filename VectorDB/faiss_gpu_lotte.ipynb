{
 "cells": [
  {
   "cell_type": "code",
   "execution_count": 1,
   "metadata": {},
   "outputs": [
    {
     "name": "stdout",
     "output_type": "stream",
     "text": [
      "/home/kwj/team_proj/faiss_2/bin/python3\n"
     ]
    }
   ],
   "source": [
    "import sys\n",
    "print(sys.executable)"
   ]
  },
  {
   "cell_type": "code",
   "execution_count": 2,
   "metadata": {},
   "outputs": [
    {
     "name": "stdout",
     "output_type": "stream",
     "text": [
      "3.8.20 (default, Sep  7 2024, 18:35:08) \n",
      "[GCC 11.4.0]\n"
     ]
    }
   ],
   "source": [
    "import sys\n",
    "print(sys.version)"
   ]
  },
  {
   "cell_type": "code",
   "execution_count": null,
   "metadata": {
    "collapsed": true,
    "jupyter": {
     "outputs_hidden": true
    }
   },
   "outputs": [
    {
     "name": "stdout",
     "output_type": "stream",
     "text": [
      "Requirement already satisfied: fitz in ./lib/python3.8/site-packages (0.0.1.dev2)\n",
      "Collecting frontend\n",
      "  Downloading frontend-0.0.3-py3-none-any.whl.metadata (847 bytes)\n",
      "Collecting pymupdf\n",
      "  Downloading PyMuPDF-1.24.11-cp38-abi3-manylinux2014_x86_64.manylinux_2_17_x86_64.whl.metadata (3.4 kB)\n",
      "Requirement already satisfied: configobj in ./lib/python3.8/site-packages (from fitz) (5.0.9)\n",
      "Requirement already satisfied: configparser in ./lib/python3.8/site-packages (from fitz) (7.1.0)\n",
      "Requirement already satisfied: httplib2 in ./lib/python3.8/site-packages (from fitz) (0.22.0)\n",
      "Requirement already satisfied: nibabel in ./lib/python3.8/site-packages (from fitz) (5.2.1)\n",
      "Requirement already satisfied: nipype in ./lib/python3.8/site-packages (from fitz) (1.8.6)\n",
      "Requirement already satisfied: numpy in ./lib/python3.8/site-packages (from fitz) (1.24.4)\n",
      "Requirement already satisfied: pandas in ./lib/python3.8/site-packages (from fitz) (2.0.3)\n",
      "Requirement already satisfied: pyxnat in ./lib/python3.8/site-packages (from fitz) (1.6.3)\n",
      "Requirement already satisfied: scipy in ./lib/python3.8/site-packages (from fitz) (1.10.1)\n",
      "Collecting starlette>=0.12.0 (from frontend)\n",
      "  Downloading starlette-0.44.0-py3-none-any.whl.metadata (6.3 kB)\n",
      "Collecting uvicorn>=0.7.1 (from frontend)\n",
      "  Downloading uvicorn-0.33.0-py3-none-any.whl.metadata (6.6 kB)\n",
      "Collecting itsdangerous>=1.1.0 (from frontend)\n",
      "  Downloading itsdangerous-2.2.0-py3-none-any.whl.metadata (1.9 kB)\n",
      "Collecting aiofiles (from frontend)\n",
      "  Downloading aiofiles-24.1.0-py3-none-any.whl.metadata (10 kB)\n",
      "Requirement already satisfied: anyio<5,>=3.4.0 in ./lib/python3.8/site-packages (from starlette>=0.12.0->frontend) (4.5.2)\n",
      "Requirement already satisfied: typing-extensions>=3.10.0 in ./lib/python3.8/site-packages (from starlette>=0.12.0->frontend) (4.12.2)\n",
      "Requirement already satisfied: click>=7.0 in ./lib/python3.8/site-packages (from uvicorn>=0.7.1->frontend) (8.1.8)\n",
      "Requirement already satisfied: h11>=0.8 in ./lib/python3.8/site-packages (from uvicorn>=0.7.1->frontend) (0.14.0)\n",
      "Requirement already satisfied: pyparsing!=3.0.0,!=3.0.1,!=3.0.2,!=3.0.3,<4,>=2.4.2 in ./lib/python3.8/site-packages (from httplib2->fitz) (3.1.4)\n",
      "Requirement already satisfied: importlib-resources>=1.3 in ./lib/python3.8/site-packages (from nibabel->fitz) (6.4.5)\n",
      "Requirement already satisfied: packaging>=17 in ./lib/python3.8/site-packages (from nibabel->fitz) (24.2)\n",
      "Requirement already satisfied: networkx>=2.0 in ./lib/python3.8/site-packages (from nipype->fitz) (3.1)\n",
      "Requirement already satisfied: prov>=1.5.2 in ./lib/python3.8/site-packages (from nipype->fitz) (2.0.1)\n",
      "Requirement already satisfied: pydot>=1.2.3 in ./lib/python3.8/site-packages (from nipype->fitz) (3.0.4)\n",
      "Requirement already satisfied: python-dateutil>=2.2 in ./lib/python3.8/site-packages (from nipype->fitz) (2.9.0.post0)\n",
      "Requirement already satisfied: rdflib>=5.0.0 in ./lib/python3.8/site-packages (from nipype->fitz) (6.3.2)\n",
      "Requirement already satisfied: simplejson>=3.8.0 in ./lib/python3.8/site-packages (from nipype->fitz) (3.20.1)\n",
      "Requirement already satisfied: traits!=5.0,<6.4,>=4.6 in ./lib/python3.8/site-packages (from nipype->fitz) (6.3.2)\n",
      "Requirement already satisfied: filelock>=3.0.0 in ./lib/python3.8/site-packages (from nipype->fitz) (3.16.1)\n",
      "Requirement already satisfied: etelemetry>=0.2.0 in ./lib/python3.8/site-packages (from nipype->fitz) (0.3.1)\n",
      "Requirement already satisfied: looseversion in ./lib/python3.8/site-packages (from nipype->fitz) (1.3.0)\n",
      "Requirement already satisfied: pytz>=2020.1 in ./lib/python3.8/site-packages (from pandas->fitz) (2025.1)\n",
      "Requirement already satisfied: tzdata>=2022.1 in ./lib/python3.8/site-packages (from pandas->fitz) (2025.1)\n",
      "Requirement already satisfied: lxml>=4.3 in ./lib/python3.8/site-packages (from pyxnat->fitz) (5.3.1)\n",
      "Requirement already satisfied: requests>=2.20 in ./lib/python3.8/site-packages (from pyxnat->fitz) (2.32.3)\n",
      "Requirement already satisfied: pathlib>=1.0 in ./lib/python3.8/site-packages (from pyxnat->fitz) (1.0.1)\n",
      "Requirement already satisfied: idna>=2.8 in ./lib/python3.8/site-packages (from anyio<5,>=3.4.0->starlette>=0.12.0->frontend) (3.10)\n",
      "Requirement already satisfied: sniffio>=1.1 in ./lib/python3.8/site-packages (from anyio<5,>=3.4.0->starlette>=0.12.0->frontend) (1.3.1)\n",
      "Requirement already satisfied: exceptiongroup>=1.0.2 in ./lib/python3.8/site-packages (from anyio<5,>=3.4.0->starlette>=0.12.0->frontend) (1.2.2)\n",
      "Requirement already satisfied: ci-info>=0.2 in ./lib/python3.8/site-packages (from etelemetry>=0.2.0->nipype->fitz) (0.3.0)\n",
      "Requirement already satisfied: zipp>=3.1.0 in ./lib/python3.8/site-packages (from importlib-resources>=1.3->nibabel->fitz) (3.20.2)\n",
      "Requirement already satisfied: six>=1.5 in ./lib/python3.8/site-packages (from python-dateutil>=2.2->nipype->fitz) (1.17.0)\n",
      "Requirement already satisfied: isodate<0.7.0,>=0.6.0 in ./lib/python3.8/site-packages (from rdflib>=5.0.0->nipype->fitz) (0.6.1)\n",
      "Requirement already satisfied: charset-normalizer<4,>=2 in ./lib/python3.8/site-packages (from requests>=2.20->pyxnat->fitz) (3.4.1)\n",
      "Requirement already satisfied: urllib3<3,>=1.21.1 in ./lib/python3.8/site-packages (from requests>=2.20->pyxnat->fitz) (2.2.3)\n",
      "Requirement already satisfied: certifi>=2017.4.17 in ./lib/python3.8/site-packages (from requests>=2.20->pyxnat->fitz) (2025.1.31)\n",
      "Downloading frontend-0.0.3-py3-none-any.whl (32 kB)\n",
      "Downloading PyMuPDF-1.24.11-cp38-abi3-manylinux2014_x86_64.manylinux_2_17_x86_64.whl (19.6 MB)\n",
      "\u001b[2K   \u001b[38;2;114;156;31m━━━━━━━━━━━━━━━━━━━━━━━━━━━━━━━━━━━━━━━━\u001b[0m \u001b[32m19.6/19.6 MB\u001b[0m \u001b[31m11.0 MB/s\u001b[0m eta \u001b[36m0:00:00\u001b[0m MB/s\u001b[0m eta \u001b[36m0:00:01\u001b[0m:01\u001b[0m\n",
      "\u001b[?25hDownloading itsdangerous-2.2.0-py3-none-any.whl (16 kB)\n",
      "Downloading starlette-0.44.0-py3-none-any.whl (73 kB)\n",
      "Downloading uvicorn-0.33.0-py3-none-any.whl (62 kB)\n",
      "Downloading aiofiles-24.1.0-py3-none-any.whl (15 kB)\n",
      "Installing collected packages: uvicorn, pymupdf, itsdangerous, aiofiles, starlette, frontend\n",
      "Successfully installed aiofiles-24.1.0 frontend-0.0.3 itsdangerous-2.2.0 pymupdf-1.24.11 starlette-0.44.0 uvicorn-0.33.0\n"
     ]
    }
   ],
   "source": [
    "!pip install fitz frontend pymupdf pypdf dotenv langchain torch langchain_community transformers datasets\n",
    "!pip install \"numpy<2\"\n",
    "!pip install --upgrade pybind11\n",
    "!pip install faiss-gpu"
   ]
  },
  {
   "cell_type": "code",
   "execution_count": 3,
   "metadata": {},
   "outputs": [
    {
     "name": "stdout",
     "output_type": "stream",
     "text": [
      "1.24.4\n"
     ]
    }
   ],
   "source": [
    "import numpy as np\n",
    "print(np.__version__)"
   ]
  },
  {
   "cell_type": "code",
   "execution_count": 4,
   "metadata": {},
   "outputs": [
    {
     "data": {
      "text/plain": [
       "True"
      ]
     },
     "execution_count": 4,
     "metadata": {},
     "output_type": "execute_result"
    }
   ],
   "source": [
    "from dotenv import load_dotenv\n",
    "load_dotenv()"
   ]
  },
  {
   "cell_type": "code",
   "execution_count": 5,
   "metadata": {
    "scrolled": true
   },
   "outputs": [
    {
     "name": "stdout",
     "output_type": "stream",
     "text": [
      "file_list: ['일반_let safe 팬덤안심 상해보험.pdf', '일반_let safe 골프보험.pdf', '일반_let safe 주택화재보험Ⅱ.pdf', '공동인수_영업용 자동차보험(공동).pdf', '상해,질병_(무) let care 실손의료보험Ⅳ(개인 단체연계용)(2501).pdf', '상해,질병_(무) 암보험(2502).pdf', '이륜차_let way 이륜자동차보험.pdf', '일반_let safe 레저상해보험.pdf', '상해,질병_(무) let smile 종합건강보험(더끌림 포우먼)(2501) 1~2종.pdf', '일반_let safe 시민안전보험.pdf', '개인용_let click 개인용자동차보험(인터넷).pdf', '일반_let safe 원게임골프보험.pdf', '상해,질병_(무) 미니암보험(2404).pdf', '상해,질병_(무) 입원비보험(2409).pdf', '일반_let discover 국내여행보험Ⅱ.pdf', '업무용_let way 업무용법인소유자동차보험.pdf', '일반_let safe 실손의료보험(해외여행).pdf', '상해,질병_(무) let simple 간편311 건강보험(2501).pdf', '연금보험_let care 연금저축손해보험Ⅰ(2401).pdf', '상해,질병_(무) let play 종합건강보험(토닥토닥)(2501).pdf', '일반_let safe 실손의료보험(국내여행).pdf', '기타_let way 자동차취급업자종합보험.pdf', '일반_주택 임차보증금반환 민사소송 및 강제집행 변호사선임비용 보장보험.pdf', '상해,질병_(무) 직장인보험(2501).pdf', '제도성특약_4세대 실손의료비보장 계약전환제도(2021) 특별약관.pdf', '운전자_(무) 운전자보험(2501).pdf', '일반_let safe 주택화재보험.pdf', '상해,질병_(무) let smile 종합건강보험(더채움 베이직)(2501).pdf', '일반_let safe 상해보험.pdf', '일반_let safe 제품보증연장보험(간단손해보험대리점).pdf', '상해,질병_(무) let smile 종합건강보험(더끌림 포맨)(2501).pdf', '운전면허교습생_let way 운전면허교습생자동차보험.pdf', '일반_let discover 해외여행보험Ⅱ.pdf', '일반_let safe 펫보험.pdf', '일반_let click 운전자보험.pdf', '제도성특약_장기요양등급 변경적용 특별약관.pdf', '상해,질병_(무) let care 단체보험(2501).pdf', '일반_let safe 안심화재종합보험.pdf', '상해,질병_(무) let click 실손의료보험Ⅳ(계약전환용)(2501).pdf', '공동인수_업무용 자동차보험(공동).pdf', '일반_let safe 휴대폰보험.pdf', '일반_let safe 타이어교체보험.pdf', '일반_let safe 가정종합보험.pdf', '일반_let safe 제품보증연장보험.pdf', '제도성특약_연금저축보험 계약이전수수료 면제 특별약관.pdf', '일반_let discover 국내여행보험.pdf', '상해,질병_(무) let play 1540종합보험(10플러스)(2501).pdf', '상해,질병_(무) let care 노후실손의료보험Ⅱ(2501).pdf', '상해,질병_(무) let simple 간편325 건강보험(라이트)(2404).pdf', '일반_let safe 도난보험Ⅱ.pdf', '상해,질병_(무) 의료진보험(2404).pdf', '상해,질병_(무) 청소년보험(2409).pdf', '상해,질병_(무) let simple 간편355 간병보험(for VIP)(2404).pdf', '개인용_let way 개인용자동차보험.pdf', '일반_let discover 해외여행보험.pdf', '상해,질병_(무) 미니뇌심보험(2404).pdf', '상해,질병_(무) let care 간병보험Ⅱ(2501).pdf', '일반_let safe 롯데카드회원여행보험.pdf', '일반_let safe 군인보험.pdf', '업무용_let way 업무용개인소유자동차보험.pdf', '일반_let discover 국내여행보험Ⅲ.pdf', '업무용_let click 업무용법인소유자동차보험(인터넷).pdf', '일반_let click 해외여행보험Ⅲ.pdf', '농기계_let way 농기계보험.pdf', '제도성특약_군장병 실손의료보험 중지 및 재개 특별약관.pdf', '운전자_let way 운전자보험.pdf', '제도성특약_장애인전용보험전환 특별약관.pdf', '상해,질병_(무) 레이디보험(2404).pdf', '일반_let discover 해외장기체류자보험Ⅱ.pdf', '상해,질병_(무) 뇌심보험(2502).pdf', '공동인수_개인용 자동차보험(공동).pdf', '제도성특약_자동차사고변호사선임비용 변호사 직접지급 특별약관Ⅲ.pdf', '기타_let way 배달플랫폼자동차보험.pdf', '일반_let safe 웨딩보험.pdf', '일반_let safe 동산종합보험.pdf', '일반_let safe 레저투데이보험.pdf', '상해,질병_(무) let smile 4060종합보험(10플러스 세만기형)(2501).pdf', '제도성특약_실손의료보험 개인실손전환(단체→개인) 특별약관.pdf', '제도성특약_조건부계약 계약전환 제도성 특별약관.pdf', '상해,질병_(무) let simple 3N5 간편맞춤 건강보험(연만기형)(2501).pdf', '일반_let hug 키즈보험.pdf', '제도성특약_유병력자 실손의료비보장 안정화 할인(2023) 특별약관.pdf', '업무용_let click 업무용개인소유자동차보험(TM).pdf', '상해,질병_(무) let simple 3N5 간편맞춤 건강보험(세만기형)(2501).pdf', '제도성특약_실손의료보험 중지 및 재개 특별약관.pdf', '일반_let safe 실손의료보험(해외장기체류자).pdf', '일반_let safe 아파트종합보험.pdf', '일반_let safe 실손의료보험(단체).pdf', '상해,질병_(무) let care 상해보험(2404) 2종.pdf', '일반_let safe 실손의료보험(개인).pdf', '영업용_let click 영업용자동차보험(TM).pdf', '일반_let safe 금융사기보상보험.pdf', '일반_let safe 원라운딩골프보험.pdf', '상해,질병_(무) let care 실손의료보험Ⅳ(2501).pdf', '상해,질병_(무) let care 실손의료보험Ⅳ(계약전환용)(2501).pdf', '일반_let safe 수리비용보험.pdf', '상해,질병_(무) let smile 종합암보험(88플러스)(2501).pdf', '상해,질병_(무) 베이비보험(2404).pdf', '상해,질병_(무) let smile 종합건강보험(더끌림 포우먼)(2501) 3종.pdf', '상해,질병_(무) let simple 간편3·10·10 건강보험(세만기형)(2501).pdf', '제도성특약_다자녀가정 할인 제도성 특별약관.pdf', '상해,질병_(무) let smile 4060종합보험(10플러스 연만기형)(2501).pdf', '연금보험_let care 연금저축손해보험Ⅱ(2401).pdf', '일반_let safe 도난보험.pdf', '상해,질병_(무) let care 유병력자실손의료보험(2406).pdf', '업무용_let click 업무용개인소유자동차보험(인터넷).pdf', '제도성특약_자동차사고변호사선임비용 변호사 직접지급 특별약관Ⅰ.pdf', '기타_CREW 원데이자동차보험.pdf', '상해,질병_(무) let simple 간편335 암보험(88)(2410).pdf', '제도성특약_교통사고처리지원금(스쿨존, 6주미만) 추가보장 특별약관.pdf', '일반_let safe 아파트종합보험(공제용).pdf', '일반_let safe 수상레저종합보험.pdf', '운전자_(무) let drive 운전자보험(2501).pdf', '개인용_let click 개인용자동차보험(TM).pdf', '일반_let guard 안심사이버보험.pdf', '재물_(무) let care 화재배상책임보험(2404).pdf', '재물_(무) let care 재물종합보험(2404).pdf', '일반_let safe 다이버상해보험.pdf', '일반_let safe 단체상해보험.pdf', '상해,질병_(무) 소방관보험(2404).pdf', '일반_let 안심 가전보험(수리).pdf', '상해,질병_(무) let play 자녀보험(도담도담)(2501).pdf', '업무용_let click 업무용법인소유자동차보험(TM).pdf', '일반_let discover 해외장기체류자보험.pdf', '일반_let safe 아파트종합보험Ⅱ.pdf', '일반_let safe 수리비용보험Ⅱ.pdf', '제도성특약_자동차사고변호사선임비용 변호사 직접지급 특별약관Ⅱ.pdf', '공동인수_이륜자동차보험(공동).pdf', '일반_let 안심케어보험.pdf', '상해,질병_(무) let smile 종합건강보험(for VIP)(2404).pdf', '연금보험_let care 연금저축손해보험(계약이전)(2401).pdf', '영업용_let way 영업용자동차보험.pdf', '일반_let safe 지방자치단체 자전거상해보험.pdf', '일반_let 안심 가전보험(보증연장).pdf', '일반_let celebrate 홀인원보험.pdf', '상해,질병_(무) let simple 간편 암보험(2404).pdf', '일반_let safe 공무원상해보험.pdf', '기타_let click 배달플랫폼자동차보험(인터넷).pdf', '제도성특약_실손의료비 보장 무사고할인 특별약관 [2011.4.1 이후 갱신도래 계약 적용].pdf', '상해,질병_(무) let care 치아보험(2404).pdf', '상해,질병_(무) let care 상해보험(2404) 1종.pdf']\n"
     ]
    }
   ],
   "source": [
    "import os\n",
    "\n",
    "# path = \"C:\\\\KIMUJUNG\\\\team_project\\\\team_project3\\\\pdf_folder\"\n",
    "path = \"pdf_folder\"\n",
    "file_list = os.listdir(path)\n",
    "\n",
    "print (\"file_list: {}\".format(file_list))"
   ]
  },
  {
   "cell_type": "code",
   "execution_count": 1,
   "metadata": {},
   "outputs": [
    {
     "name": "stderr",
     "output_type": "stream",
     "text": [
      "/home/kwj/team_proj/faiss_2/lib/python3.8/site-packages/tqdm/auto.py:21: TqdmWarning: IProgress not found. Please update jupyter and ipywidgets. See https://ipywidgets.readthedocs.io/en/stable/user_install.html\n",
      "  from .autonotebook import tqdm as notebook_tqdm\n"
     ]
    },
    {
     "name": "stdout",
     "output_type": "stream",
     "text": [
      "Using device: cuda\n"
     ]
    }
   ],
   "source": [
    "import os\n",
    "import faiss\n",
    "import pickle\n",
    "import numpy as np\n",
    "import torch\n",
    "from langchain.vectorstores import FAISS\n",
    "from langchain.schema import Document\n",
    "from langchain_community.document_loaders import PyPDFLoader\n",
    "from langchain.text_splitter import RecursiveCharacterTextSplitter\n",
    "from transformers import AutoModel, AutoTokenizer\n",
    "import fitz  # PyMuPDF\n",
    "\n",
    "# 1️⃣ GPU 사용 여부 확인\n",
    "device = torch.device(\"cuda\" if torch.cuda.is_available() else \"cpu\")\n",
    "print(f\"Using device: {device}\")"
   ]
  },
  {
   "cell_type": "code",
   "execution_count": 2,
   "metadata": {},
   "outputs": [],
   "source": [
    "# path = \"C:\\\\KIMUJUNG\\\\team_project\\\\team_project3\\\\pdf_folder\"\n",
    "path = \"pdf_folder\"\n",
    "file_list = os.listdir(path)"
   ]
  },
  {
   "cell_type": "code",
   "execution_count": 3,
   "metadata": {},
   "outputs": [
    {
     "name": "stdout",
     "output_type": "stream",
     "text": [
      "✅ 일반_let safe 팬덤안심 상해보험.pdf 처리 완료\n",
      "✅ 일반_let safe 골프보험.pdf 처리 완료\n",
      "✅ 일반_let safe 주택화재보험Ⅱ.pdf 처리 완료\n",
      "✅ 공동인수_영업용 자동차보험(공동).pdf 처리 완료\n"
     ]
    },
    {
     "name": "stderr",
     "output_type": "stream",
     "text": [
      "Ignoring wrong pointing object 147 0 (offset 0)\n",
      "Ignoring wrong pointing object 149 0 (offset 0)\n"
     ]
    },
    {
     "name": "stdout",
     "output_type": "stream",
     "text": [
      "✅ 상해,질병_(무) let care 실손의료보험Ⅳ(개인 단체연계용)(2501).pdf 처리 완료\n",
      "✅ 상해,질병_(무) 암보험(2502).pdf 처리 완료\n",
      "✅ 이륜차_let way 이륜자동차보험.pdf 처리 완료\n"
     ]
    },
    {
     "name": "stderr",
     "output_type": "stream",
     "text": [
      "Ignoring wrong pointing object 237 0 (offset 0)\n",
      "Ignoring wrong pointing object 239 0 (offset 0)\n"
     ]
    },
    {
     "name": "stdout",
     "output_type": "stream",
     "text": [
      "✅ 일반_let safe 레저상해보험.pdf 처리 완료\n",
      "✅ 상해,질병_(무) let smile 종합건강보험(더끌림 포우먼)(2501) 1~2종.pdf 처리 완료\n",
      "✅ 일반_let safe 시민안전보험.pdf 처리 완료\n",
      "✅ 개인용_let click 개인용자동차보험(인터넷).pdf 처리 완료\n"
     ]
    },
    {
     "name": "stderr",
     "output_type": "stream",
     "text": [
      "Ignoring wrong pointing object 117 0 (offset 0)\n"
     ]
    },
    {
     "name": "stdout",
     "output_type": "stream",
     "text": [
      "✅ 일반_let safe 원게임골프보험.pdf 처리 완료\n"
     ]
    },
    {
     "name": "stderr",
     "output_type": "stream",
     "text": [
      "Ignoring wrong pointing object 121 0 (offset 0)\n",
      "Ignoring wrong pointing object 123 0 (offset 0)\n"
     ]
    },
    {
     "name": "stdout",
     "output_type": "stream",
     "text": [
      "✅ 상해,질병_(무) 미니암보험(2404).pdf 처리 완료\n",
      "✅ 상해,질병_(무) 입원비보험(2409).pdf 처리 완료\n",
      "✅ 일반_let discover 국내여행보험Ⅱ.pdf 처리 완료\n",
      "✅ 업무용_let way 업무용법인소유자동차보험.pdf 처리 완료\n"
     ]
    },
    {
     "name": "stderr",
     "output_type": "stream",
     "text": [
      "Ignoring wrong pointing object 357 0 (offset 0)\n",
      "Ignoring wrong pointing object 359 0 (offset 0)\n"
     ]
    },
    {
     "name": "stdout",
     "output_type": "stream",
     "text": [
      "✅ 일반_let safe 실손의료보험(해외여행).pdf 처리 완료\n",
      "✅ 상해,질병_(무) let simple 간편311 건강보험(2501).pdf 처리 완료\n"
     ]
    },
    {
     "name": "stderr",
     "output_type": "stream",
     "text": [
      "Ignoring wrong pointing object 209 0 (offset 0)\n",
      "Ignoring wrong pointing object 211 0 (offset 0)\n"
     ]
    },
    {
     "name": "stdout",
     "output_type": "stream",
     "text": [
      "✅ 연금보험_let care 연금저축손해보험Ⅰ(2401).pdf 처리 완료\n",
      "✅ 상해,질병_(무) let play 종합건강보험(토닥토닥)(2501).pdf 처리 완료\n",
      "✅ 일반_let safe 실손의료보험(국내여행).pdf 처리 완료\n",
      "✅ 기타_let way 자동차취급업자종합보험.pdf 처리 완료\n"
     ]
    },
    {
     "name": "stderr",
     "output_type": "stream",
     "text": [
      "Ignoring wrong pointing object 133 0 (offset 0)\n"
     ]
    },
    {
     "name": "stdout",
     "output_type": "stream",
     "text": [
      "✅ 일반_주택 임차보증금반환 민사소송 및 강제집행 변호사선임비용 보장보험.pdf 처리 완료\n",
      "✅ 상해,질병_(무) 직장인보험(2501).pdf 처리 완료\n",
      "✅ 제도성특약_4세대 실손의료비보장 계약전환제도(2021) 특별약관.pdf 처리 완료\n",
      "✅ 운전자_(무) 운전자보험(2501).pdf 처리 완료\n"
     ]
    },
    {
     "name": "stderr",
     "output_type": "stream",
     "text": [
      "Ignoring wrong pointing object 187 0 (offset 0)\n",
      "Ignoring wrong pointing object 189 0 (offset 0)\n"
     ]
    },
    {
     "name": "stdout",
     "output_type": "stream",
     "text": [
      "✅ 일반_let safe 주택화재보험.pdf 처리 완료\n",
      "✅ 상해,질병_(무) let smile 종합건강보험(더채움 베이직)(2501).pdf 처리 완료\n",
      "✅ 일반_let safe 상해보험.pdf 처리 완료\n"
     ]
    },
    {
     "name": "stderr",
     "output_type": "stream",
     "text": [
      "Ignoring wrong pointing object 229 0 (offset 0)\n",
      "Ignoring wrong pointing object 231 0 (offset 0)\n"
     ]
    },
    {
     "name": "stdout",
     "output_type": "stream",
     "text": [
      "✅ 일반_let safe 제품보증연장보험(간단손해보험대리점).pdf 처리 완료\n",
      "✅ 상해,질병_(무) let smile 종합건강보험(더끌림 포맨)(2501).pdf 처리 완료\n",
      "✅ 운전면허교습생_let way 운전면허교습생자동차보험.pdf 처리 완료\n",
      "✅ 일반_let discover 해외여행보험Ⅱ.pdf 처리 완료\n",
      "✅ 일반_let safe 펫보험.pdf 처리 완료\n",
      "✅ 일반_let click 운전자보험.pdf 처리 완료\n"
     ]
    },
    {
     "name": "stderr",
     "output_type": "stream",
     "text": [
      "Ignoring wrong pointing object 133 0 (offset 0)\n"
     ]
    },
    {
     "name": "stdout",
     "output_type": "stream",
     "text": [
      "✅ 제도성특약_장기요양등급 변경적용 특별약관.pdf 처리 완료\n",
      "✅ 상해,질병_(무) let care 단체보험(2501).pdf 처리 완료\n",
      "✅ 일반_let safe 안심화재종합보험.pdf 처리 완료\n",
      "✅ 상해,질병_(무) let click 실손의료보험Ⅳ(계약전환용)(2501).pdf 처리 완료\n",
      "✅ 공동인수_업무용 자동차보험(공동).pdf 처리 완료\n",
      "✅ 일반_let safe 휴대폰보험.pdf 처리 완료\n",
      "✅ 일반_let safe 타이어교체보험.pdf 처리 완료\n",
      "✅ 일반_let safe 가정종합보험.pdf 처리 완료\n",
      "✅ 일반_let safe 제품보증연장보험.pdf 처리 완료\n",
      "✅ 제도성특약_연금저축보험 계약이전수수료 면제 특별약관.pdf 처리 완료\n"
     ]
    },
    {
     "name": "stderr",
     "output_type": "stream",
     "text": [
      "Ignoring wrong pointing object 213 0 (offset 0)\n",
      "Ignoring wrong pointing object 215 0 (offset 0)\n"
     ]
    },
    {
     "name": "stdout",
     "output_type": "stream",
     "text": [
      "✅ 일반_let discover 국내여행보험.pdf 처리 완료\n",
      "✅ 상해,질병_(무) let play 1540종합보험(10플러스)(2501).pdf 처리 완료\n"
     ]
    },
    {
     "name": "stderr",
     "output_type": "stream",
     "text": [
      "Ignoring wrong pointing object 195 0 (offset 0)\n"
     ]
    },
    {
     "name": "stdout",
     "output_type": "stream",
     "text": [
      "✅ 상해,질병_(무) let care 노후실손의료보험Ⅱ(2501).pdf 처리 완료\n",
      "✅ 상해,질병_(무) let simple 간편325 건강보험(라이트)(2404).pdf 처리 완료\n"
     ]
    },
    {
     "name": "stderr",
     "output_type": "stream",
     "text": [
      "Ignoring wrong pointing object 135 0 (offset 0)\n"
     ]
    },
    {
     "name": "stdout",
     "output_type": "stream",
     "text": [
      "✅ 일반_let safe 도난보험Ⅱ.pdf 처리 완료\n"
     ]
    },
    {
     "name": "stderr",
     "output_type": "stream",
     "text": [
      "Ignoring wrong pointing object 133 0 (offset 0)\n"
     ]
    },
    {
     "name": "stdout",
     "output_type": "stream",
     "text": [
      "✅ 상해,질병_(무) 의료진보험(2404).pdf 처리 완료\n"
     ]
    },
    {
     "name": "stderr",
     "output_type": "stream",
     "text": [
      "Ignoring wrong pointing object 165 0 (offset 0)\n"
     ]
    },
    {
     "name": "stdout",
     "output_type": "stream",
     "text": [
      "✅ 상해,질병_(무) 청소년보험(2409).pdf 처리 완료\n",
      "✅ 상해,질병_(무) let simple 간편355 간병보험(for VIP)(2404).pdf 처리 완료\n",
      "✅ 개인용_let way 개인용자동차보험.pdf 처리 완료\n"
     ]
    },
    {
     "name": "stderr",
     "output_type": "stream",
     "text": [
      "Ignoring wrong pointing object 117 0 (offset 0)\n"
     ]
    },
    {
     "name": "stdout",
     "output_type": "stream",
     "text": [
      "✅ 일반_let discover 해외여행보험.pdf 처리 완료\n"
     ]
    },
    {
     "name": "stderr",
     "output_type": "stream",
     "text": [
      "Ignoring wrong pointing object 203 0 (offset 0)\n",
      "Ignoring wrong pointing object 205 0 (offset 0)\n"
     ]
    },
    {
     "name": "stdout",
     "output_type": "stream",
     "text": [
      "✅ 상해,질병_(무) 미니뇌심보험(2404).pdf 처리 완료\n",
      "✅ 상해,질병_(무) let care 간병보험Ⅱ(2501).pdf 처리 완료\n",
      "✅ 일반_let safe 롯데카드회원여행보험.pdf 처리 완료\n",
      "✅ 일반_let safe 군인보험.pdf 처리 완료\n",
      "✅ 업무용_let way 업무용개인소유자동차보험.pdf 처리 완료\n",
      "✅ 일반_let discover 국내여행보험Ⅲ.pdf 처리 완료\n",
      "✅ 업무용_let click 업무용법인소유자동차보험(인터넷).pdf 처리 완료\n",
      "✅ 일반_let click 해외여행보험Ⅲ.pdf 처리 완료\n",
      "✅ 농기계_let way 농기계보험.pdf 처리 완료\n",
      "✅ 제도성특약_군장병 실손의료보험 중지 및 재개 특별약관.pdf 처리 완료\n",
      "✅ 운전자_let way 운전자보험.pdf 처리 완료\n"
     ]
    },
    {
     "name": "stderr",
     "output_type": "stream",
     "text": [
      "Ignoring wrong pointing object 129 0 (offset 0)\n"
     ]
    },
    {
     "name": "stdout",
     "output_type": "stream",
     "text": [
      "✅ 제도성특약_장애인전용보험전환 특별약관.pdf 처리 완료\n",
      "✅ 상해,질병_(무) 레이디보험(2404).pdf 처리 완료\n"
     ]
    },
    {
     "name": "stderr",
     "output_type": "stream",
     "text": [
      "Ignoring wrong pointing object 131 0 (offset 0)\n",
      "Ignoring wrong pointing object 133 0 (offset 0)\n"
     ]
    },
    {
     "name": "stdout",
     "output_type": "stream",
     "text": [
      "✅ 일반_let discover 해외장기체류자보험Ⅱ.pdf 처리 완료\n",
      "✅ 상해,질병_(무) 뇌심보험(2502).pdf 처리 완료\n",
      "✅ 공동인수_개인용 자동차보험(공동).pdf 처리 완료\n",
      "✅ 제도성특약_자동차사고변호사선임비용 변호사 직접지급 특별약관Ⅲ.pdf 처리 완료\n",
      "✅ 기타_let way 배달플랫폼자동차보험.pdf 처리 완료\n",
      "✅ 일반_let safe 웨딩보험.pdf 처리 완료\n",
      "✅ 일반_let safe 동산종합보험.pdf 처리 완료\n"
     ]
    },
    {
     "name": "stderr",
     "output_type": "stream",
     "text": [
      "Ignoring wrong pointing object 233 0 (offset 0)\n",
      "Ignoring wrong pointing object 235 0 (offset 0)\n"
     ]
    },
    {
     "name": "stdout",
     "output_type": "stream",
     "text": [
      "✅ 일반_let safe 레저투데이보험.pdf 처리 완료\n",
      "✅ 상해,질병_(무) let smile 4060종합보험(10플러스 세만기형)(2501).pdf 처리 완료\n",
      "✅ 제도성특약_실손의료보험 개인실손전환(단체→개인) 특별약관.pdf 처리 완료\n"
     ]
    },
    {
     "name": "stderr",
     "output_type": "stream",
     "text": [
      "Ignoring wrong pointing object 127 0 (offset 0)\n",
      "Ignoring wrong pointing object 129 0 (offset 0)\n"
     ]
    },
    {
     "name": "stdout",
     "output_type": "stream",
     "text": [
      "✅ 제도성특약_조건부계약 계약전환 제도성 특별약관.pdf 처리 완료\n",
      "✅ 상해,질병_(무) let simple 3N5 간편맞춤 건강보험(연만기형)(2501).pdf 처리 완료\n",
      "MuPDF error: syntax error: unknown keyword: '0.11944T'\n",
      "\n",
      "MuPDF error: syntax error: syntax error in content stream\n",
      "\n",
      "MuPDF error: syntax error: syntax error in content stream\n",
      "\n",
      "MuPDF error: syntax error: unknown keyword: '88.2352989z'\n",
      "\n",
      "MuPDF error: syntax error: unknown keyword: '-10Tm'\n",
      "\n",
      "MuPDF error: syntax error: unknown keyword: '88.2352989z'\n",
      "\n",
      "MuPDF error: syntax error: unknown keyword: '-17fm'\n",
      "\n",
      "MuPDF error: syntax error: unknown keyword: '88.2828989z'\n",
      "\n",
      "MuPDF error: syntax error: unknown keyword: '-1c6.63'\n",
      "\n",
      "MuPDF error: syntax error: unknown keyword: '6Tm'\n",
      "\n",
      "MuPDF error: syntax error: unknown keyword: '88.23e86989z'\n",
      "\n",
      "MuPDF error: syntax error: unknown keyword: '88.23261089z'\n",
      "\n",
      "MuPDF error: syntax error: unknown keyword: '88.21484089z'\n",
      "\n",
      "MuPDF error: syntax error: unknown keyword: '39132Tm'\n",
      "\n",
      "MuPDF error: syntax error: unknown keyword: 'T7'\n",
      "\n",
      "MuPDF error: syntax error: unknown keyword: 'Tm3013428'\n",
      "\n",
      "MuPDF error: syntax error: unknown keyword: 'Tr04.31'\n",
      "\n",
      "MuPDF error: syntax error: unknown keyword: 'Tr2'\n",
      "\n",
      "MuPDF error: syntax error: unknown keyword: '-0Tm'\n",
      "\n",
      "MuPDF error: syntax error: unknown keyword: 'T1396.31'\n",
      "\n",
      "MuPDF error: syntax error: syntax error in content stream\n",
      "\n",
      "MuPDF error: syntax error: unknown keyword: '88.2352932Tz'\n",
      "\n",
      "MuPDF error: syntax error: unknown keyword: '88.2352932Tz'\n",
      "\n",
      "MuPDF error: syntax error: unknown keyword: '-2Tm'\n",
      "\n",
      "MuPDF error: syntax error: syntax error in array\n",
      "\n",
      "MuPDF error: syntax error: unknown keyword: '88.2352932Tz'\n",
      "\n",
      "MuPDF error: syntax error: unknown keyword: '88.2352932Tz'\n",
      "\n",
      "MuPDF error: syntax error: unknown keyword: '-1d9.7'\n",
      "\n",
      "MuPDF error: syntax error: unknown keyword: '5f9.7'\n",
      "\n",
      "MuPDF error: syntax error: unknown keyword: '88.2.83432Tz'\n",
      "\n",
      "MuPDF error: syntax error: syntax error in content stream\n",
      "\n",
      "MuPDF error: syntax error: unknown keyword: '88.2352932Tz'\n",
      "\n",
      "MuPDF error: syntax error: syntax error in content stream\n",
      "\n",
      "MuPDF error: syntax error: unknown keyword: '88.23333932Tz'\n",
      "\n",
      "MuPDF error: syntax error: unknown keyword: '88.23252932Tz'\n",
      "\n",
      "MuPDF error: syntax error: unknown keyword: '-1Tm'\n",
      "\n",
      "MuPDF error: syntax error: syntax error in array\n",
      "\n",
      "MuPDF error: syntax error: syntax error in content stream\n",
      "\n",
      "MuPDF error: syntax error: unknown keyword: '88.21552932Tz'\n",
      "\n",
      "MuPDF error: syntax error: unknown keyword: '88.23693932Tz'\n",
      "\n",
      "MuPDF error: syntax error: unknown keyword: '88.23832932Tz'\n",
      "\n",
      "MuPDF error: syntax error: unknown keyword: '-2fm'\n",
      "\n",
      "MuPDF error: syntax error: unknown keyword: '88.23913432Tz'\n",
      "\n",
      "MuPDF error: syntax error: unknown keyword: '3m'\n",
      "\n",
      "MuPDF error: syntax error: unknown keyword: '0'\n",
      "\n",
      "MuPDF error: syntax error: syntax error in array\n",
      "\n",
      "MuPDF error: syntax error: unknown keyword: '88.251.3434'\n",
      "\n",
      "MuPDF error: syntax error: syntax error in content stream\n",
      "\n",
      "MuPDF error: syntax error: syntax error in content stream\n",
      "\n",
      "MuPDF error: syntax error: unknown keyword: '88.2d'\n",
      "\n",
      "MuPDF error: syntax error: syntax error in content stream\n",
      "\n",
      "MuPDF error: syntax error: unknown keyword: '88.2352935z'\n",
      "\n",
      "MuPDF error: syntax error: unknown keyword: '88.2351935z'\n",
      "\n",
      "MuPDF error: syntax error: unknown keyword: 'w35z'\n",
      "\n",
      "MuPDF error: syntax error: unknown keyword: '6806208682fm'\n",
      "\n",
      "MuPDF error: syntax error: unknown keyword: '88.2398935z'\n",
      "\n",
      "MuPDF error: syntax error: unknown keyword: '-11e62621988'\n",
      "\n",
      "MuPDF error: syntax error: unknown keyword: '88.2552935z'\n",
      "\n",
      "MuPDF error: syntax error: unknown keyword: '-11Tm'\n",
      "\n",
      "MuPDF error: syntax error: syntax error in array\n",
      "\n",
      "MuPDF error: syntax error: unknown keyword: '88.23e87935z'\n",
      "\n",
      "MuPDF error: syntax error: unknown keyword: '88.2351.345z'\n",
      "\n",
      "MuPDF error: syntax error: unknown keyword: '-11Tm3626868'\n",
      "\n",
      "MuPDF error: syntax error: unknown keyword: '88.23r'\n",
      "\n",
      "MuPDF error: syntax error: unknown keyword: '1.35z'\n",
      "\n",
      "MuPDF error: syntax error: unknown keyword: '88.21642935z'\n",
      "\n",
      "MuPDF error: syntax error: unknown keyword: '-19Tm'\n",
      "\n",
      "MuPDF error: syntax error: unknown keyword: '88.23782935z'\n",
      "\n",
      "MuPDF error: syntax error: syntax error in content stream\n",
      "\n",
      "MuPDF error: syntax error: unknown keyword: '16946231685fm'\n",
      "\n",
      "MuPDF error: syntax error: syntax error in array\n",
      "\n",
      "✅ 일반_let hug 키즈보험.pdf 처리 완료\n",
      "✅ 제도성특약_유병력자 실손의료비보장 안정화 할인(2023) 특별약관.pdf 처리 완료\n"
     ]
    },
    {
     "name": "stderr",
     "output_type": "stream",
     "text": [
      "Ignoring wrong pointing object 238 0 (offset 0)\n",
      "Ignoring wrong pointing object 240 0 (offset 0)\n"
     ]
    },
    {
     "name": "stdout",
     "output_type": "stream",
     "text": [
      "✅ 업무용_let click 업무용개인소유자동차보험(TM).pdf 처리 완료\n",
      "✅ 상해,질병_(무) let simple 3N5 간편맞춤 건강보험(세만기형)(2501).pdf 처리 완료\n",
      "✅ 제도성특약_실손의료보험 중지 및 재개 특별약관.pdf 처리 완료\n",
      "✅ 일반_let safe 실손의료보험(해외장기체류자).pdf 처리 완료\n",
      "✅ 일반_let safe 아파트종합보험.pdf 처리 완료\n"
     ]
    },
    {
     "name": "stderr",
     "output_type": "stream",
     "text": [
      "Ignoring wrong pointing object 163 0 (offset 0)\n"
     ]
    },
    {
     "name": "stdout",
     "output_type": "stream",
     "text": [
      "✅ 일반_let safe 실손의료보험(단체).pdf 처리 완료\n",
      "✅ 상해,질병_(무) let care 상해보험(2404) 2종.pdf 처리 완료\n",
      "✅ 일반_let safe 실손의료보험(개인).pdf 처리 완료\n",
      "✅ 영업용_let click 영업용자동차보험(TM).pdf 처리 완료\n",
      "✅ 일반_let safe 금융사기보상보험.pdf 처리 완료\n",
      "✅ 일반_let safe 원라운딩골프보험.pdf 처리 완료\n",
      "✅ 상해,질병_(무) let care 실손의료보험Ⅳ(2501).pdf 처리 완료\n",
      "✅ 상해,질병_(무) let care 실손의료보험Ⅳ(계약전환용)(2501).pdf 처리 완료\n",
      "✅ 일반_let safe 수리비용보험.pdf 처리 완료\n"
     ]
    },
    {
     "name": "stderr",
     "output_type": "stream",
     "text": [
      "Ignoring wrong pointing object 129 0 (offset 0)\n"
     ]
    },
    {
     "name": "stdout",
     "output_type": "stream",
     "text": [
      "✅ 상해,질병_(무) let smile 종합암보험(88플러스)(2501).pdf 처리 완료\n"
     ]
    },
    {
     "name": "stderr",
     "output_type": "stream",
     "text": [
      "Ignoring wrong pointing object 113 0 (offset 0)\n"
     ]
    },
    {
     "name": "stdout",
     "output_type": "stream",
     "text": [
      "✅ 상해,질병_(무) 베이비보험(2404).pdf 처리 완료\n"
     ]
    },
    {
     "name": "stderr",
     "output_type": "stream",
     "text": [
      "Ignoring wrong pointing object 227 0 (offset 0)\n",
      "Ignoring wrong pointing object 229 0 (offset 0)\n"
     ]
    },
    {
     "name": "stdout",
     "output_type": "stream",
     "text": [
      "✅ 상해,질병_(무) let smile 종합건강보험(더끌림 포우먼)(2501) 3종.pdf 처리 완료\n",
      "✅ 상해,질병_(무) let simple 간편3·10·10 건강보험(세만기형)(2501).pdf 처리 완료\n"
     ]
    },
    {
     "name": "stderr",
     "output_type": "stream",
     "text": [
      "Ignoring wrong pointing object 187 0 (offset 0)\n"
     ]
    },
    {
     "name": "stdout",
     "output_type": "stream",
     "text": [
      "✅ 제도성특약_다자녀가정 할인 제도성 특별약관.pdf 처리 완료\n",
      "✅ 상해,질병_(무) let smile 4060종합보험(10플러스 연만기형)(2501).pdf 처리 완료\n",
      "✅ 연금보험_let care 연금저축손해보험Ⅱ(2401).pdf 처리 완료\n",
      "✅ 일반_let safe 도난보험.pdf 처리 완료\n",
      "✅ 상해,질병_(무) let care 유병력자실손의료보험(2406).pdf 처리 완료\n",
      "✅ 업무용_let click 업무용개인소유자동차보험(인터넷).pdf 처리 완료\n",
      "✅ 제도성특약_자동차사고변호사선임비용 변호사 직접지급 특별약관Ⅰ.pdf 처리 완료\n"
     ]
    },
    {
     "name": "stderr",
     "output_type": "stream",
     "text": [
      "Ignoring wrong pointing object 187 0 (offset 0)\n",
      "Ignoring wrong pointing object 189 0 (offset 0)\n"
     ]
    },
    {
     "name": "stdout",
     "output_type": "stream",
     "text": [
      "✅ 기타_CREW 원데이자동차보험.pdf 처리 완료\n",
      "✅ 상해,질병_(무) let simple 간편335 암보험(88)(2410).pdf 처리 완료\n",
      "✅ 제도성특약_교통사고처리지원금(스쿨존, 6주미만) 추가보장 특별약관.pdf 처리 완료\n",
      "✅ 일반_let safe 아파트종합보험(공제용).pdf 처리 완료\n"
     ]
    },
    {
     "name": "stderr",
     "output_type": "stream",
     "text": [
      "Ignoring wrong pointing object 157 0 (offset 0)\n"
     ]
    },
    {
     "name": "stdout",
     "output_type": "stream",
     "text": [
      "✅ 일반_let safe 수상레저종합보험.pdf 처리 완료\n",
      "✅ 운전자_(무) let drive 운전자보험(2501).pdf 처리 완료\n",
      "✅ 개인용_let click 개인용자동차보험(TM).pdf 처리 완료\n"
     ]
    },
    {
     "name": "stderr",
     "output_type": "stream",
     "text": [
      "Ignoring wrong pointing object 131 0 (offset 0)\n"
     ]
    },
    {
     "name": "stdout",
     "output_type": "stream",
     "text": [
      "✅ 일반_let guard 안심사이버보험.pdf 처리 완료\n"
     ]
    },
    {
     "name": "stderr",
     "output_type": "stream",
     "text": [
      "Ignoring wrong pointing object 147 0 (offset 0)\n"
     ]
    },
    {
     "name": "stdout",
     "output_type": "stream",
     "text": [
      "✅ 재물_(무) let care 화재배상책임보험(2404).pdf 처리 완료\n",
      "✅ 재물_(무) let care 재물종합보험(2404).pdf 처리 완료\n",
      "✅ 일반_let safe 다이버상해보험.pdf 처리 완료\n"
     ]
    },
    {
     "name": "stderr",
     "output_type": "stream",
     "text": [
      "Ignoring wrong pointing object 143 0 (offset 0)\n"
     ]
    },
    {
     "name": "stdout",
     "output_type": "stream",
     "text": [
      "✅ 일반_let safe 단체상해보험.pdf 처리 완료\n",
      "✅ 상해,질병_(무) 소방관보험(2404).pdf 처리 완료\n"
     ]
    },
    {
     "name": "stderr",
     "output_type": "stream",
     "text": [
      "Ignoring wrong pointing object 235 0 (offset 0)\n",
      "Ignoring wrong pointing object 237 0 (offset 0)\n"
     ]
    },
    {
     "name": "stdout",
     "output_type": "stream",
     "text": [
      "✅ 일반_let 안심 가전보험(수리).pdf 처리 완료\n",
      "✅ 상해,질병_(무) let play 자녀보험(도담도담)(2501).pdf 처리 완료\n",
      "✅ 업무용_let click 업무용법인소유자동차보험(TM).pdf 처리 완료\n",
      "✅ 일반_let discover 해외장기체류자보험.pdf 처리 완료\n",
      "✅ 일반_let safe 아파트종합보험Ⅱ.pdf 처리 완료\n",
      "✅ 일반_let safe 수리비용보험Ⅱ.pdf 처리 완료\n",
      "✅ 제도성특약_자동차사고변호사선임비용 변호사 직접지급 특별약관Ⅱ.pdf 처리 완료\n",
      "✅ 공동인수_이륜자동차보험(공동).pdf 처리 완료\n"
     ]
    },
    {
     "name": "stderr",
     "output_type": "stream",
     "text": [
      "Ignoring wrong pointing object 149 0 (offset 0)\n"
     ]
    },
    {
     "name": "stdout",
     "output_type": "stream",
     "text": [
      "✅ 일반_let 안심케어보험.pdf 처리 완료\n",
      "✅ 상해,질병_(무) let smile 종합건강보험(for VIP)(2404).pdf 처리 완료\n",
      "✅ 연금보험_let care 연금저축손해보험(계약이전)(2401).pdf 처리 완료\n",
      "✅ 영업용_let way 영업용자동차보험.pdf 처리 완료\n",
      "✅ 일반_let safe 지방자치단체 자전거상해보험.pdf 처리 완료\n",
      "✅ 일반_let 안심 가전보험(보증연장).pdf 처리 완료\n"
     ]
    },
    {
     "name": "stderr",
     "output_type": "stream",
     "text": [
      "Ignoring wrong pointing object 155 0 (offset 0)\n"
     ]
    },
    {
     "name": "stdout",
     "output_type": "stream",
     "text": [
      "✅ 일반_let celebrate 홀인원보험.pdf 처리 완료\n",
      "✅ 상해,질병_(무) let simple 간편 암보험(2404).pdf 처리 완료\n",
      "✅ 일반_let safe 공무원상해보험.pdf 처리 완료\n",
      "✅ 기타_let click 배달플랫폼자동차보험(인터넷).pdf 처리 완료\n"
     ]
    },
    {
     "name": "stderr",
     "output_type": "stream",
     "text": [
      "Ignoring wrong pointing object 163 0 (offset 0)\n"
     ]
    },
    {
     "name": "stdout",
     "output_type": "stream",
     "text": [
      "✅ 제도성특약_실손의료비 보장 무사고할인 특별약관 [2011.4.1 이후 갱신도래 계약 적용].pdf 처리 완료\n"
     ]
    },
    {
     "name": "stderr",
     "output_type": "stream",
     "text": [
      "Ignoring wrong pointing object 155 0 (offset 0)\n"
     ]
    },
    {
     "name": "stdout",
     "output_type": "stream",
     "text": [
      "✅ 상해,질병_(무) let care 치아보험(2404).pdf 처리 완료\n",
      "✅ 상해,질병_(무) let care 상해보험(2404) 1종.pdf 처리 완료\n",
      "🎉 모든 문서 처리 및 저장 완료!\n"
     ]
    }
   ],
   "source": [
    "\n",
    "# 2️⃣ 모델 및 토크나이저 로드 (GPU로 이동)\n",
    "model_name = \"kakaocorp/kanana-nano-2.1b-embedding\"\n",
    "tokenizer = AutoTokenizer.from_pretrained(model_name, trust_remote_code=True)\n",
    "model = AutoModel.from_pretrained(model_name, trust_remote_code=True).to(device)\n",
    "\n",
    "# 3️⃣ 임베딩 생성 함수\n",
    "def get_embeddings(texts):\n",
    "    inputs = tokenizer(texts, padding=True, truncation=True, max_length=512, return_tensors=\"pt\")\n",
    "    # 모든 입력 텐서를 GPU로 이동\n",
    "    inputs = {key: val.to(device) for key, val in inputs.items()}\n",
    "    pool_mask = torch.ones(inputs[\"input_ids\"].shape, dtype=torch.long).to(device)\n",
    "\n",
    "    with torch.no_grad():\n",
    "        outputs = model(**inputs, pool_mask=pool_mask)\n",
    "\n",
    "    return outputs.embedding.cpu().numpy()  # GPU에서 CPU로 변환 후 반환\n",
    "\n",
    "# 4️⃣ 저장 경로 설정\n",
    "faiss_index_path = \"./faiss_index.bin\"\n",
    "metadata_path = \"./documents.pkl\"\n",
    "\n",
    "# 5️⃣ PDF 문서 리스트\n",
    "# file_list = [\"document1.pdf\", \"document2.pdf\"]  # 실제 파일 경로로 변경\n",
    "# path = \"/your/pdf/path\"  # 실제 경로로 변경\n",
    "\n",
    "# 6️⃣ FAISS GPU 인덱스 생성\n",
    "res = faiss.StandardGpuResources()  # GPU 리소스 할당\n",
    "index = None\n",
    "\n",
    "# 7️⃣ 문서 처리\n",
    "all_documents = []\n",
    "for file in file_list:\n",
    "    file_path = os.path.join(path, file)\n",
    "    try:\n",
    "        loader = PyPDFLoader(file_path)\n",
    "        documents = loader.load()\n",
    "    except:\n",
    "        documents = []\n",
    "        with fitz.open(file_path) as pdf:\n",
    "            metadata = pdf.metadata # PDF의 메타데이터 추출\n",
    "            \n",
    "            for page_num, page in enumerate(pdf):\n",
    "                page_text = page.get_text()\n",
    "                if \"MuPDF error:\" not in page_text:\n",
    "                    documents.append(Document(\n",
    "                        page_content=page_text,\n",
    "                        metadata={\n",
    "                            'producer': metadata.get('producer', ''),\n",
    "                            'creator': metadata.get('creator', ''),\n",
    "                            'creationdate': metadata.get('creationDate', ''),\n",
    "                            'title': metadata.get('title', ''),\n",
    "                            'author': metadata.get('author', ''),\n",
    "                            'moddate': metadata.get('modDate', ''),\n",
    "                            'pdfversion': metadata.get('pdfVersion', ''),\n",
    "                            'source': file_path,\n",
    "                            'total_pages': pdf.page_count,\n",
    "                            'page': page_num,\n",
    "                            'page_label': str(page_num + 1)\n",
    "                        }\n",
    "                    ))\n",
    "\n",
    "    # 8️⃣ 텍스트 정제\n",
    "    for doc in documents:\n",
    "        doc.page_content = doc.page_content.replace(\"\\n\", \" \").replace(\"  \", \" \")\n",
    "        doc.metadata[\"source\"] = file\n",
    "\n",
    "    # 9️⃣ 문서 스플리팅\n",
    "    splitter = RecursiveCharacterTextSplitter(chunk_size=1000, chunk_overlap=500)\n",
    "    split_documents = splitter.split_documents(documents)\n",
    "\n",
    "    # 1️⃣0️⃣ 텍스트 추출 및 임베딩 생성\n",
    "    texts = [doc.page_content for doc in split_documents]\n",
    "    embeddings = []\n",
    "\n",
    "    batch_size = 16\n",
    "    for i in range(0, len(texts), batch_size):\n",
    "        batch = texts[i : i + batch_size]\n",
    "        batch_embeddings = get_embeddings(batch)\n",
    "        embeddings.extend(batch_embeddings)\n",
    "\n",
    "    embeddings = np.array(embeddings, dtype=np.float32)\n",
    "    \n",
    "    # 1️⃣1️⃣ FAISS GPU 인덱스 생성 (처음이면 초기화)\n",
    "    if index is None:\n",
    "        embedding_dim = embeddings.shape[1]\n",
    "        cpu_index = faiss.IndexFlatL2(embedding_dim)  # CPU 인덱스\n",
    "        index = faiss.index_cpu_to_gpu(res, 0, cpu_index)  # GPU로 변환\n",
    "    \n",
    "    # 1️⃣2️⃣ FAISS 인덱스에 데이터 추가\n",
    "    index.add(embeddings)\n",
    "    all_documents.extend(split_documents)\n",
    "\n",
    "    print(f\"✅ {file} 처리 완료\")\n",
    "\n",
    "# 1️⃣3️⃣ FAISS 인덱스 저장\n",
    "faiss.write_index(faiss.index_gpu_to_cpu(index), faiss_index_path)\n",
    "\n",
    "# 1️⃣4️⃣ 문서 저장\n",
    "with open(metadata_path, \"wb\") as f:\n",
    "    pickle.dump(all_documents, f)\n",
    "\n",
    "print(\"🎉 모든 문서 처리 및 저장 완료!\")\n"
   ]
  },
  {
   "cell_type": "code",
   "execution_count": null,
   "metadata": {},
   "outputs": [],
   "source": []
  }
 ],
 "metadata": {
  "kernelspec": {
   "display_name": "Python 3.8 (faiss_2)",
   "language": "python",
   "name": "faiss_2"
  },
  "language_info": {
   "codemirror_mode": {
    "name": "ipython",
    "version": 3
   },
   "file_extension": ".py",
   "mimetype": "text/x-python",
   "name": "python",
   "nbconvert_exporter": "python",
   "pygments_lexer": "ipython3",
   "version": "3.8.20"
  }
 },
 "nbformat": 4,
 "nbformat_minor": 4
}
