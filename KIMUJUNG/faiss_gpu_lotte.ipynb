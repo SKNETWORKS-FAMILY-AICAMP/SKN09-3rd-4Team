{
 "cells": [
  {
   "cell_type": "code",
   "execution_count": 1,
   "metadata": {},
   "outputs": [
    {
     "data": {
      "text/plain": [
       "True"
      ]
     },
     "execution_count": 1,
     "metadata": {},
     "output_type": "execute_result"
    }
   ],
   "source": [
    "from dotenv import load_dotenv\n",
    "load_dotenv()"
   ]
  },
  {
   "cell_type": "code",
   "execution_count": 2,
   "metadata": {},
   "outputs": [
    {
     "name": "stdout",
     "output_type": "stream",
     "text": [
      "file_list: ['개인용_let click 개인용자동차보험(TM).pdf', '개인용_let click 개인용자동차보험(인터넷).pdf', '개인용_let way 개인용자동차보험.pdf', '공동인수_개인용 자동차보험(공동).pdf', '공동인수_업무용 자동차보험(공동).pdf', '공동인수_영업용 자동차보험(공동).pdf', '공동인수_이륜자동차보험(공동).pdf', '기타_CREW 원데이자동차보험.pdf', '기타_let click 배달플랫폼자동차보험(인터넷).pdf', '기타_let way 배달플랫폼자동차보험.pdf', '기타_let way 자동차취급업자종합보험.pdf', '농기계_let way 농기계보험.pdf', '상해,질병_(무) let care 간병보험Ⅱ(2501).pdf', '상해,질병_(무) let care 노후실손의료보험Ⅱ(2501).pdf', '상해,질병_(무) let care 단체보험(2501).pdf', '상해,질병_(무) let care 상해보험(2404) 1종.pdf', '상해,질병_(무) let care 상해보험(2404) 2종.pdf', '상해,질병_(무) let care 실손의료보험Ⅳ(2501).pdf', '상해,질병_(무) let care 실손의료보험Ⅳ(개인 단체연계용)(2501).pdf', '상해,질병_(무) let care 실손의료보험Ⅳ(계약전환용)(2501).pdf', '상해,질병_(무) let care 유병력자실손의료보험(2406).pdf', '상해,질병_(무) let care 치아보험(2404).pdf', '상해,질병_(무) let click 실손의료보험Ⅳ(계약전환용)(2501).pdf', '상해,질병_(무) let play 1540종합보험(10플러스)(2501).pdf', '상해,질병_(무) let play 자녀보험(도담도담)(2501).pdf', '상해,질병_(무) let play 종합건강보험(토닥토닥)(2501).pdf', '상해,질병_(무) let simple 3N5 간편맞춤 건강보험(세만기형)(2501).pdf', '상해,질병_(무) let simple 3N5 간편맞춤 건강보험(연만기형)(2501).pdf', '상해,질병_(무) let simple 간편 암보험(2404).pdf', '상해,질병_(무) let simple 간편311 건강보험(2501).pdf', '상해,질병_(무) let simple 간편325 건강보험(라이트)(2404).pdf', '상해,질병_(무) let simple 간편335 암보험(88)(2410).pdf', '상해,질병_(무) let simple 간편355 간병보험(for VIP)(2404).pdf', '상해,질병_(무) let simple 간편3·10·10 건강보험(세만기형)(2501).pdf', '상해,질병_(무) let smile 4060종합보험(10플러스 세만기형)(2501).pdf', '상해,질병_(무) let smile 4060종합보험(10플러스 연만기형)(2501).pdf', '상해,질병_(무) let smile 종합건강보험(for VIP)(2404).pdf', '상해,질병_(무) let smile 종합건강보험(더끌림 포맨)(2501).pdf', '상해,질병_(무) let smile 종합건강보험(더끌림 포우먼)(2501) 1~2종.pdf', '상해,질병_(무) let smile 종합건강보험(더끌림 포우먼)(2501) 3종.pdf', '상해,질병_(무) let smile 종합건강보험(더채움 베이직)(2501).pdf', '상해,질병_(무) let smile 종합암보험(88플러스)(2501).pdf', '상해,질병_(무) 뇌심보험(2502).pdf', '상해,질병_(무) 레이디보험(2404).pdf', '상해,질병_(무) 미니뇌심보험(2404).pdf', '상해,질병_(무) 미니암보험(2404).pdf', '상해,질병_(무) 베이비보험(2404).pdf', '상해,질병_(무) 소방관보험(2404).pdf', '상해,질병_(무) 암보험(2502).pdf', '상해,질병_(무) 의료진보험(2404).pdf', '상해,질병_(무) 입원비보험(2409).pdf', '상해,질병_(무) 직장인보험(2501).pdf', '상해,질병_(무) 청소년보험(2409).pdf', '업무용_let click 업무용개인소유자동차보험(TM).pdf', '업무용_let click 업무용개인소유자동차보험(인터넷).pdf', '업무용_let click 업무용법인소유자동차보험(TM).pdf', '업무용_let click 업무용법인소유자동차보험(인터넷).pdf', '업무용_let way 업무용개인소유자동차보험.pdf', '업무용_let way 업무용법인소유자동차보험.pdf', '연금보험_let care 연금저축손해보험(계약이전)(2401).pdf', '연금보험_let care 연금저축손해보험Ⅰ(2401).pdf', '연금보험_let care 연금저축손해보험Ⅱ(2401).pdf', '영업용_let click 영업용자동차보험(TM).pdf', '영업용_let way 영업용자동차보험.pdf', '운전면허교습생_let way 운전면허교습생자동차보험.pdf', '운전자_(무) let drive 운전자보험(2501).pdf', '운전자_(무) 운전자보험(2501).pdf', '운전자_let way 운전자보험.pdf', '이륜차_let way 이륜자동차보험.pdf', '일반_let celebrate 홀인원보험.pdf', '일반_let click 운전자보험.pdf', '일반_let click 해외여행보험Ⅲ.pdf', '일반_let discover 국내여행보험.pdf', '일반_let discover 국내여행보험Ⅱ.pdf', '일반_let discover 국내여행보험Ⅲ.pdf', '일반_let discover 해외여행보험.pdf', '일반_let discover 해외여행보험Ⅱ.pdf', '일반_let discover 해외장기체류자보험.pdf', '일반_let discover 해외장기체류자보험Ⅱ.pdf', '일반_let guard 안심사이버보험.pdf', '일반_let hug 키즈보험.pdf', '일반_let safe 가정종합보험.pdf', '일반_let safe 골프보험.pdf', '일반_let safe 공무원상해보험.pdf', '일반_let safe 군인보험.pdf', '일반_let safe 금융사기보상보험.pdf', '일반_let safe 다이버상해보험.pdf', '일반_let safe 단체상해보험.pdf', '일반_let safe 도난보험.pdf', '일반_let safe 도난보험Ⅱ.pdf', '일반_let safe 동산종합보험.pdf', '일반_let safe 레저상해보험.pdf', '일반_let safe 레저투데이보험.pdf', '일반_let safe 롯데카드회원여행보험.pdf', '일반_let safe 상해보험.pdf', '일반_let safe 수리비용보험.pdf', '일반_let safe 수리비용보험Ⅱ.pdf', '일반_let safe 수상레저종합보험.pdf', '일반_let safe 시민안전보험.pdf', '일반_let safe 실손의료보험(개인).pdf', '일반_let safe 실손의료보험(국내여행).pdf', '일반_let safe 실손의료보험(단체).pdf', '일반_let safe 실손의료보험(해외여행).pdf', '일반_let safe 실손의료보험(해외장기체류자).pdf', '일반_let safe 아파트종합보험(공제용).pdf', '일반_let safe 아파트종합보험.pdf', '일반_let safe 아파트종합보험Ⅱ.pdf', '일반_let safe 안심화재종합보험.pdf', '일반_let safe 원게임골프보험.pdf', '일반_let safe 원라운딩골프보험.pdf', '일반_let safe 웨딩보험.pdf', '일반_let safe 제품보증연장보험(간단손해보험대리점).pdf', '일반_let safe 제품보증연장보험.pdf', '일반_let safe 주택화재보험.pdf', '일반_let safe 주택화재보험Ⅱ.pdf', '일반_let safe 지방자치단체 자전거상해보험.pdf', '일반_let safe 타이어교체보험.pdf', '일반_let safe 팬덤안심 상해보험.pdf', '일반_let safe 펫보험.pdf', '일반_let safe 휴대폰보험.pdf', '일반_let 안심 가전보험(보증연장).pdf', '일반_let 안심 가전보험(수리).pdf', '일반_let 안심케어보험.pdf', '일반_주택 임차보증금반환 민사소송 및 강제집행 변호사선임비용 보장보험.pdf', '재물_(무) let care 재물종합보험(2404).pdf', '재물_(무) let care 화재배상책임보험(2404).pdf', '제도성특약_4세대 실손의료비보장 계약전환제도(2021) 특별약관.pdf', '제도성특약_교통사고처리지원금(스쿨존, 6주미만) 추가보장 특별약관.pdf', '제도성특약_군장병 실손의료보험 중지 및 재개 특별약관.pdf', '제도성특약_다자녀가정 할인 제도성 특별약관.pdf', '제도성특약_실손의료보험 개인실손전환(단체→개인) 특별약관.pdf', '제도성특약_실손의료보험 중지 및 재개 특별약관.pdf', '제도성특약_실손의료비 보장 무사고할인 특별약관 [2011.4.1 이후 갱신도래 계약 적용].pdf', '제도성특약_연금저축보험 계약이전수수료 면제 특별약관.pdf', '제도성특약_유병력자 실손의료비보장 안정화 할인(2023) 특별약관.pdf', '제도성특약_자동차사고변호사선임비용 변호사 직접지급 특별약관Ⅰ.pdf', '제도성특약_자동차사고변호사선임비용 변호사 직접지급 특별약관Ⅱ.pdf', '제도성특약_자동차사고변호사선임비용 변호사 직접지급 특별약관Ⅲ.pdf', '제도성특약_장기요양등급 변경적용 특별약관.pdf', '제도성특약_장애인전용보험전환 특별약관.pdf', '제도성특약_조건부계약 계약전환 제도성 특별약관.pdf']\n"
     ]
    }
   ],
   "source": [
    "import os\n",
    "\n",
    "# path = \"C:\\\\KIMUJUNG\\\\team_project\\\\team_project3\\\\pdf_folder\"\n",
    "path = \"D:\\\\study\\\\sknetworks\\\\team_project\\\\pdf_folder\"\n",
    "file_list = os.listdir(path)\n",
    "\n",
    "print (\"file_list: {}\".format(file_list))"
   ]
  },
  {
   "cell_type": "code",
   "execution_count": null,
   "metadata": {},
   "outputs": [
    {
     "name": "stderr",
     "output_type": "stream",
     "text": [
      "c:\\Users\\USER\\anaconda3\\envs\\vectordb_env\\lib\\site-packages\\tqdm\\auto.py:21: TqdmWarning: IProgress not found. Please update jupyter and ipywidgets. See https://ipywidgets.readthedocs.io/en/stable/user_install.html\n",
      "  from .autonotebook import tqdm as notebook_tqdm\n"
     ]
    },
    {
     "name": "stdout",
     "output_type": "stream",
     "text": [
      "개인용_let click 개인용자동차보험(TM).pdf\n",
      "개인용_let click 개인용자동차보험(인터넷).pdf\n",
      "개인용_let way 개인용자동차보험.pdf\n"
     ]
    }
   ],
   "source": [
    "# 1️⃣ FAISS 저장 경로\n",
    "faiss_index_path = \"./faiss_index.bin\"\n",
    "metadata_path = \"./documents.pkl\"\n",
    "\n",
    "# 2️⃣ PDF 문서 로드\n",
    "for file in file_list[:3]:\n",
    "    loader = PyPDFLoader(path + \"\\\\\" + file)\n",
    "    documents = loader.load()\n",
    "\n",
    "    # 3️⃣ 문서 전처리\n",
    "    for doc in documents:\n",
    "        doc.page_content = doc.page_content.replace(\"\\n\", \" \").replace(\"  \", \" \")\n",
    "        doc.metadata[\"source\"] = file\n",
    "\n",
    "\n",
    "    # 1️⃣ 문서 스플리팅\n",
    "    # splitter = RecursiveCharacterTextSplitter(chunk_size=512, chunk_overlap=128)\n",
    "    splitter = RecursiveCharacterTextSplitter(chunk_size=2000, chunk_overlap=1000)\n",
    "    documents = splitter.split_documents(documents)\n",
    "\n",
    "    # 2️⃣ 스플릿된 문서로 벡터 생성\n",
    "    batch_size = 16\n",
    "    texts = [doc.page_content for doc in documents]\n",
    "    embeddings = []\n",
    "\n",
    "    for i in range(0, len(texts), batch_size):\n",
    "        batch = texts[i : i + batch_size]\n",
    "        batch_embeddings = get_embeddings(batch)  # 🔥 배치 단위로 임베딩 생성\n",
    "        embeddings.extend(batch_embeddings)\n",
    "\n",
    "    # 3️⃣ FAISS 인덱스에 추가\n",
    "    embedding_dim = len(embeddings[0])\n",
    "    index = faiss.IndexFlatL2(embedding_dim)\n",
    "    index.add(np.array(embeddings, dtype=np.float32))\n",
    "\n",
    "    # 4️⃣ FAISS 인덱스 & 문서 저장\n",
    "    faiss.write_index(index, \"./faiss_index.bin\")\n",
    "    with open(\"./documents.pkl\", \"ab\") as f:\n",
    "        pickle.dump(documents, f)\n",
    "\n",
    "    print(file)\n"
   ]
  },
  {
   "cell_type": "code",
   "execution_count": 15,
   "metadata": {},
   "outputs": [
    {
     "name": "stdout",
     "output_type": "stream",
     "text": [
      "🔹 문서 80: 않는 경우 해당 계약을 해지할 수 있습니다. ④ 제1항 및 제3항에 따라 계약이 해지된 경우 회사는 제54조(보험료의 환급) 제3항 제1호에 따른 보험료를 계약자에게 지 급합니다. ⑤ 계약자는 제1항에 따른 제척기간１２８)에도 불구하고 민법 등 관계 법령에서 정하는 바에 따라 법률상의 권리를 행사할 수 있습니다. 제53조(보험회사의 보험계약 해지) ① 보험\n",
      "🔹 문서 84: 관하여 필요한 조사를 하거나 보험계약자 또는 피보험자에게 필요한 설명 또는 증명을 요구 할 수 있습니다. 이 경우 보험계약자, 피보험자 또는 이들의 대리인은 이러한 조사 또는 요구에 협력하여야 합니다. 제58조(예금보험기금에 의한 보험금 등의 지급보장) 보험회사가 파산 등으로 인하여 보험금 등을 지급하지 못할 경우에는 예금자보호법(*1)에서 정하는 바에 따\n",
      "🔹 문서 6: 보 통 약 관 특 별 약 관 교 통 사 고 발 생 시 대 처 요 령 관 련 법 령 알 기 쉬 운 자 동 차 보 험 이 야 기 개인용자동차보험 7 1 의무보험의 의미 ‘의무보험’은 자동차 사고 피해자가 최소한의 보상을 받을 수 있도록 자동차손해 배상보장법에 의거하여 국가에서 법적으로 가입을 의무화한 보험입니다. 대인배상I은 최대 1억 5천만원, 대물배상은 최\n",
      "🔹 문서 69: 한도(동일한 사고로 이미 지급한 보험금이나 가지급금이 있는 경우에는 그 금액을 공제한 금액. 이하 같음) 내에서 제1항의 절차에 협조하거나 대행합니다. ③  보험회사가 제1항의 절차에 협조하거나 대행하는 경우에는 피보험자는 보험회사의 요청에 따라 협력해야 합니다. 피보 험자가 정당한 이유 없이 협력하지 않는 경우 그로 인하여 늘어난 손해에 대하여는 보상하지\n",
      "🔹 문서 8: 보 통 약 관 특 별 약 관 교 통 사 고 발 생 시 대 처 요 령 관 련 법 령 알 기 쉬 운 자 동 차 보 험 이 야 기 개인용자동차보험 9 1 청약내용 확인 관련 보험기간 중 계약 관련 사항이 변경된 경우 계약 담당자나  고객 콜센터(1588-3344, 1600-3434)로 지체없이 연락 주시기 바랍니다. • 고객 주소지 또는 연락처가 변경된 경우 고\n"
     ]
    }
   ],
   "source": [
    "# 1️⃣ 저장된 FAISS 인덱스 로드\n",
    "index = faiss.read_index(\"./faiss_index.bin\")\n",
    "\n",
    "# 2️⃣ 문서 정보 로드\n",
    "with open(\"./documents.pkl\", \"rb\") as f:\n",
    "    documents = pickle.load(f)\n",
    "\n",
    "# 3️⃣ 검색 수행\n",
    "# query = \" 보험금의 종류 및 한도에 대해 설명해줘?\"\n",
    "query = \"의무보험 미가입에 따른 불이익을 알려줘\"\n",
    "query_embedding = get_embeddings([query])[0]  # 쿼리 임베딩\n",
    "query_embedding = np.array([query_embedding], dtype=np.float32)\n",
    "\n",
    "D, I = index.search(query_embedding, k=5)  # 가장 유사한 5개 검색\n",
    "context = []\n",
    "\n",
    "# 4️⃣ 검색 결과 출력\n",
    "for idx in I[0]:\n",
    "    context.append(documents[idx].page_content)\n",
    "    print(f\"🔹 문서 {idx}: {documents[idx].page_content[:200]}\")\n"
   ]
  },
  {
   "cell_type": "code",
   "execution_count": null,
   "metadata": {},
   "outputs": [],
   "source": [
    "from langchain.chat_models import ChatOpenAI\n",
    "from langchain.embeddings import OpenAIEmbeddings\n",
    "from langchain.prompts import ChatPromptTemplate\n",
    "from langchain.vectorstores import FAISS\n",
    "from langchain_core.output_parsers import StrOutputParser\n",
    "from langchain_core.runnables import RunnablePassthrough\n",
    "\n",
    "# Create a FAISS VectorStore\n",
    "vectorstore = FAISS.from_texts(\n",
    "    [\"harrison worked at kensho\"], embedding=OpenAIEmbeddings() # deployment=\"text-embedding-ada-002\"\n",
    ")\n",
    "\n",
    "# Create a Retriever\n",
    "retriever = vectorstore.as_retriever()\n",
    "\n",
    "system_message = \"당신은 보험 상담 ASSISTANT입니다. 보험 약관인 context 기반으로 query에 대해 답변해 주세요.\"\n",
    "prompt_text = f\"[SYSTEM]: {system_message}\\n[USER]: {query}\\n[context]: {context}\\n[ASSISTANT]\"\n",
    "\n",
    "prompt = ChatPromptTemplate.from_template(prompt_text)\n",
    "model = ChatOpenAI() # model_name='gpt-3.5-turbo'\n",
    "\n",
    "# Chaining a pipeline\n",
    "retrieval_chain = (\n",
    "    {\"context\": retriever, \"question\": RunnablePassthrough()}\n",
    "    | prompt\n",
    "    | model\n",
    "    | StrOutputParser()\n",
    ")\n",
    "\n",
    "# Run retrieva_chain\n",
    "retrieval_chain.invoke(\"where did harrison work?\")\n"
   ]
  },
  {
   "cell_type": "code",
   "execution_count": 17,
   "metadata": {},
   "outputs": [
    {
     "name": "stderr",
     "output_type": "stream",
     "text": [
      "Loading checkpoint shards: 100%|██████████| 2/2 [00:00<00:00,  5.64it/s]\n",
      "Token indices sequence length is longer than the specified maximum sequence length for this model (3056 > 2048). Running this sequence through the model will result in indexing errors\n",
      "The attention mask and the pad token id were not set. As a consequence, you may observe unexpected behavior. Please pass your input's `attention_mask` to obtain reliable results.\n",
      "Setting `pad_token_id` to `eos_token_id`:50256 for open-end generation.\n"
     ]
    },
    {
     "name": "stdout",
     "output_type": "stream",
     "text": [
      "[SYSTEM]: 당신은 보험 상담 ASSISTANT입니다. 보험 약관인 context 기반으로 query에 대해 답변해 주세요.\n",
      "[USER]: 의무보험 미가입에 따른 불이익을 알려줘\n",
      "[context]: ['않는 경우 해당 계약을 해지할 수 있습니다. ④ 제1항 및 제3항에 따라 계약이 해지된 경우 회사는 제54조(보험료의 환급) 제3항 제1호에 따른 보험료를 계약자에게 지 급합니다. ⑤ 계약자는 제1항에 따른 제척기간１２８)에도 불구하고 민법 등 관계 법령에서 정하는 바에 따라 법률상의 권리를 행사할 수 있습니다. 제53조(보험회사의 보험계약 해지) ① 보험회사는 다음 중 어느 하나에 해당하는 경우가 발생하였을 때, 그 사실을 안 날부터 1월 이내에 보험계약을 해지할 수 있습니다. 다만, 제1호·제2호·제4호·제5호에 의한 계약해지는 의무보험에 대해 적용하지 않습니다. 1. 보험계약자가 보험계약을 맺을 때 고의 또는 중대한 과실１２９)로 제44조(계약 전 알릴 의무) 제1항의 사항에 관하여 알 고 있는 사실을 알리지 않거나 사실과 다르게 알린 경우. 다만, 다음 중 어느 하나에 해당하는 경우 보험회사는 보험 계약을 해지하지 못합니다. 가. 보험계약을 맺은 때에 보험회사가 보험계약자가 알려야 할 사실을 알고 있었거나 과실로 알지 못하였을 때 나. 보험계약자가 보험금을 지급할 사고가 발생하기 전에 보험청약서의 기재사항에 대하여 서면으로 변경을 신청하 여 보험회사가 이를 승인하였을 때 다. 보험회사가 보험계약을 맺은 날부터 보험계약을 해지하지 않고 6개월이 경과한 때 라. 보험을 모집한 자(이하 ‘보험설계사 등’이라 합니다)가 보험계약자 또는 피보험자에게 계약 전 알릴 의무를 이행할 기회를 부여하지 아니하였거나 보험계약자 또는 피보험자가 사실대로 알리는 것을 방해한 경우, 또는 보험계약자 또는 피보험자에 대해 사실대로 알리지 않게 하였거나 부실하게 알리도록 권유했을 때. 다만, 보험설계사 등의 행 위가 없었다 하더라도 보험계약자 또는 피보험자가 사실대로 알리지 않거나 부실하게 알린 것으로 인정되는 경우 에는 그러하지 아니합니다. 마. 보험계약자가 알려야 할 사항이 보험회사가 위험을 측정하는 데 관련이 없을 때 또는 적용할 보험료에 차액이 생 기지 않은 때 2. 보험계약자가 보험계약을 맺은 후에 제45조(계약 후 알릴 의무) 제1항에 정한 사실이 생긴 것을 알았음에도 불구하고 지체 없이 알리지 않거나 사실과 다르게 알린 경우. 다만, 보험계약자가 알려야 할 사실이 뚜렷하게 위험을 증가시킨 １ ２６)  건설기계해체재활용업자 : 건설기계해체재활용업을 등록한 자     건설기계해체재활용업 : 폐기 요청된 건설기계의 인수, 재사용 가능한 부품의 회수, 폐기 및 그 등록말소 신 청의 대행을 업으로 하는 것 １ ２７)  타인을 위한 보험계약 : 타인의 이익을 위하여 보험계약을 체결한 경우로서 예를 들어 A(계약자)가 자신의 친구B(기명피보험자)를 위해서 자동차보험을 체결해준 경우 등에 해당합니다. １ ２８) 제척기간 : 권리관계를 빨리 확정하기 위하여 어떤 종류의 권리에 대하여 법률이 정하고 있는 존속기간. 이 기간이 지나면 권리가 소멸되는데 점유 소권, 혼인의 취소권, 상소권, 즉시 항고권 따위에 적용됩니다. １ ２９)  고의 : 고의란 과실과 달리 자기의 행위가 일정한 결과를 발생시킬 것을 인식하고 또 이 결과의 발생을 용 인하는 것을 말합니다.   중대한 과실 : 중대한 과실이란 주의의무위반이 현저한 과실, 즉 극히 근소한 주의만 기울였더라도 결과 발생을  예견할 수 있음에도 부주의로 이를 예견하지 못한 것을 의미합니다. 용어설명 용어풀이', '관하여 필요한 조사를 하거나 보험계약자 또는 피보험자에게 필요한 설명 또는 증명을 요구 할 수 있습니다. 이 경우 보험계약자, 피보험자 또는 이들의 대리인은 이러한 조사 또는 요구에 협력하여야 합니다. 제58조(예금보험기금에 의한 보험금 등의 지급보장) 보험회사가 파산 등으로 인하여 보험금 등을 지급하지 못할 경우에는 예금자보호법(*1)에서 정하는 바에 따라 그 지급을 보 장합니다. (*1) 예금자보호법 - 보험회사의 경영이 악화된 경우 보험업법상의 보험계약이전제도에 의해 다른 회사로 보험계약을 이전하는 보호 장치가 마련되어 있으며, 만약 파산 등으로 인해 보험회사가 보험계약상의 채무를 이행할 수 없게 된 경우, 예금자 보호법에 따라 해약환급금(또는 만기 시 보험금)에 기타지급금을 합한 금액이 1인당 “5천만원까지”(본 보험회사의 여타 보호상품과 합산) 보호됩니다. 이와 별도로 본 보험회사 보호상품의 사고보험금을 합산한 금액이 1인당 “5천만원 까지” 보호됩니다. (단, 보험계약자 및 보험료 납부자가 법인이면 보호되지 않습니다.) 예금자보호제도에 대한 상세한 정보를 원하실 경우 예금보험공사 ☏1588-0037로 연락하시기 바랍니다. 제59조(보험사기행위 금지) 보험계약자, 피보험자, 피해자 등이 보험사기행위를 행한 경우 관련 법령１３４)에 따라 형사처벌 등을 받을 수 있습니다. １ ３３) 신의성실 : 고지해야 할 사실을 알고 있었으나 현저한 부주의로 인해 그 사실의 중요성 판단을 잘못하거나 그 사실을 고지해야 할 주요한 사실이라는 것을 알지 못하는 것을 말합니다. １ ３４) 보험사기행위를 행한 경우 관련 법령 :     • “보험사기행위”란 보험사고의 발생, 원인 또는 내용에 관하여 보험자를 기망하여 보험금을 추구하는 행 위를 말합니다. (보험사기방지 특별법 제2조제1호)     • 보험계약자, 피보험자, 보험금을 취득할 자, 그 밖에 보험계약에 관하여 이해관계가 있는 자는 보험사기행 위를 해서는 안 됩니다. (보험업법 제102조의2)     • 보험회사의 임직원, 보험설계사, 보험대리점, 보험중개사, 손해사정사, 그 밖에 보험 관계 업무에 종사하는 자는 다음에 해당하는 행위를 해서는 안 됩니다. (보험업법 제102조의3)       ▶ 보험계약자, 피보험자, 보험금을 취득할 사람, 그 밖에 보험계약에 관해 이해가 있는 자로 하여금 고의 로 보험사고를 발생시키거나 발생하지 않은 보험사고를 발생한 것처럼 조작하여 보험금을 수령하도록 하는 행위       ▶ 보험계약자, 피보험자, 보험금을 취득할 사람, 그 밖에 보험계약에 관해 이해가 있는 자로 하여금 이미 발생한 보험사고의 원인, 시기 또는 내용 등을 조작하거나 피해의 정도를 과장하여 보험금을 수령하도 록 하는 행위', '보 통 약 관 특 별 약 관 교 통 사 고 발 생 시 대 처 요 령 관 련 법 령 알 기 쉬 운 자 동 차 보 험 이 야 기 개인용자동차보험 7 1 의무보험의 의미 ‘의무보험’은 자동차 사고 피해자가 최소한의 보상을 받을 수 있도록 자동차손해 배상보장법에 의거하여 국가에서 법적으로 가입을 의무화한 보험입니다. 대인배상I은 최대 1억 5천만원, 대물배상은 최대 2천만원까지 보상합니다. 다만, ‘의무보험’만 가입할 경우 실제 사고가 발생했을 때 ‘의무보험’에 해당하는 가입금액을 초과하는 배상책임이 발생한다면 이 초과되는 금액은 가입자 본인이 부담하여야 합니다. 또한, 사고로 인해 가입자와 그 가족이 입은 손 실에 대한 보상을 받기 위해서는 의무보험 이외의 담보 (자기신체사고, 자기차량손해 등)에 가입하시는 것이 좋 습니다. 2 의무보험 미가입에 따른 불이익 의무보험 미가입 상황에서 운행 시 1년 이하의 징역 또는 1천 만원 이하의 벌금이 부과됩니다. 의무보험 미가입 기간에 따른 과태료는 다음과 같습니다. 담보 미가입시 과태료 10일이내 10일초과시 1일당 최대한도 대인배상 I 1만원 4천원 60만원 대물배상 5천원 2천원 30만원 의 무 보 험 담 보 가 입 과태료 1. 의무보험', '한도(동일한 사고로 이미 지급한 보험금이나 가지급금이 있는 경우에는 그 금액을 공제한 금액. 이하 같음) 내에서 제1항의 절차에 협조하거나 대행합니다. ③  보험회사가 제1항의 절차에 협조하거나 대행하는 경우에는 피보험자는 보험회사의 요청에 따라 협력해야 합니다. 피보 험자가 정당한 이유 없이 협력하지 않는 경우 그로 인하여 늘어난 손해에 대하여는 보상하지 않습니다. ④ 보험회사는 다음의 경우에는 제1항의 절차를 대행하지 않습니다. 1. 피보험자가 손해배상청구권자에 대하여 부담하는 법률상의 손해배상책임액이 보험증권에 기재된 보험가입금액을 명 백하게 초과하는 때 2. 피보험자가 정당한 이유 없이 협력하지 않는 때 제37조(공탁금의 대출) 보험회사가 제36조(합의 등의 협조·대행) 제1항의 절차를 대행하는 경우에는, 피보험자에 대하여 보상책임을 지는 한도에 서 가압류９８)나 가집행９９)을 면하기 위한 공탁금을 피보험자에게 대출할 수 있으며 이에 소요되는 비용을 보상합니다. 이 경우 대출금의 이자는 공탁금에 붙여지는 것과 같은 이율로 정하며, 피보험자는 공탁금１００)(이자를 포함)의 회수청구권１０１)을 보험회사에 양도하여야 합니다. ９３) 「자기신체사고」의 경우 제3자에 대한 피보험자의 권리 예를 들어 손해가 피보험자가 아닌 제3자의 행위로 인하여 생긴 경우에 피보험자가 해당 제3자에게 가지는 손해배상청구권 등의 권리를 말하는 것입니다. 이 경우, 피보험자에게 자기신체사고 보험금을 지급한 보험회 사는 피보험자 대신 제3자에 대한 손해배상청구권 등의 권리를 취득하여 행사합니다. ９４) ‘별표 1. 대인배상, 무보험자동차에 의한 상해지급기준’에 의해 지급할 때 사고시 공제액이 있는 사고로 인하여 실제손해액으로 보험금을 계산하게 되는 경우를 말합니다. (예) 상대방 이 있는 자동차사고로 상대방으로부터 대인배상 보험금을 지급받는 경우 등) ９５)  곤궁 : 1. 가난하여 살림이 구차함. 2. 처지가 이러지도 저러지도 못하게 난처하고 딱함. ９６) 경솔 : 말이나 행동이 조심성 없이 가벼움 ９ ７) 무경험 : 경험이 없음 ９８) 가압류 : 채무자의 재산을 압류하여 현상을 보전하고, 그 변경을 금지하여 장래의 강제집행을 보전하는 절차 를 말합니다. ９９) 가집행 : 판결이 확정되기 전에 법원의 직원이나 당사자의 신청에 따라 임시로 강제 집행을 행하는 경우를 말합니다. １ ００)  공탁금 : ‘공탁금’이란 법령의 규정에 따라 금전, 유가증권, 그 밖의 물품을 공탁소에 맡기는 금액을 말합니다. 공탁을 하는 경우로는 채무를 갚으려고 하나 채권자가 이를 거부하거나 혹은 채권자를 알 수 없는 경우, 상대 방에 대한 손해배상을 담보하기 위하여 하는 경우 등이 있습니다. １０１ )  회 수 청 구 권 : 공탁금을 대출해준 보험회사가 갖는 권리로 공탁금(이자를 포함)에 대한 회수 권리를 말합니다. 용어설명 용어풀이', '보 통 약 관 특 별 약 관 교 통 사 고 발 생 시 대 처 요 령 관 련 법 령 알 기 쉬 운 자 동 차 보 험 이 야 기 개인용자동차보험 9 1 청약내용 확인 관련 보험기간 중 계약 관련 사항이 변경된 경우 계약 담당자나  고객 콜센터(1588-3344, 1600-3434)로 지체없이 연락 주시기 바랍니다. • 고객 주소지 또는 연락처가 변경된 경우 고객님께 발송되는 각종 안내문(만기안내장 등) 수령을 위하여 변경된 주소와 연락처를 알려주시기 바랍니다. • 운전가능자의 범위가 변경된 경우 피보험자동차를 운전하려는 자의 범위 또는 연령이 변경된 경우에는 운전자한정/연령한정 특약을 변경하셔야 합니다. • 새차를 구매하였거나 교체한 경우 새로운 차를 구매하여 기존 차량과 대체한 경우 차량변경 사실을 보험사에 알리고 승인을 받으셔야 합니다. • 새로운 차량 부속품이 추가된 경우 자동차에 장착된 기본 사양 이외에 새로운 부속품이 추가된 경우, 부속품 종류와 가액을 보험회사에 알려주셔야 합니다. 4. 가입자 유의사항 : 보험계약 만료 시 현행 자동차손해배상보장법 제6조 제1항의 규정에 의거, 자동차보험을 가입한 고객님께 보험계약 만료(종료) 전 2회 에 걸쳐 만료사실을 안내하고 있습니다. 구분 안내시기 안내방법 안내대상 1차 안내 만료일 75일~30일전 모바일/이메일/우편 계약자 2차 안내 만료일 30일~10일전 우편 계약자 ※ 보험기간이 1개월 이내인 단기계약의 경우에는 안내가 생략될 수 있습니다. 3. 가입자 유의사항 : 보험계약 변경 시']\n",
      "[ASSISTANT]\n",
      "[SUB: context:\n",
      "[SUBSITE:\n",
      "[SUBJEFID:\n",
      "[S.\n",
      "[STOMENUTECHETCHANMENGENCHARD로 하는 경우로 제공한 경우의 적용을 제공자의 경우\n",
      "[SUBA.\n",
      "[SUMTECHETAGIEM의 경우와 관련한 경우의 경우와 관련자\n",
      "[S: contextent.\n",
      "[SUMA의 경우와 관련\n",
      "[가입가입금액의 경우\n",
      "[SUBASITE: cont.\n",
      "[S.\n",
      "[SUBAMECHAMECHAMET]\n",
      "[가산할 수 있습니다.\n",
      "[SUMTEMECHAMECHA의 경우와 관련된 경우의 경우의 경우와 관련한 경우의 경우의 지급의 지급을 위한 경우의 경우와 관련한 경우의 보험계약의 해지급할 수 있습니다.\n",
      "[Statet제낙한 경우의 경우의 경우와 제2.\n",
      "[1월급제도를 적용의 경우의 적용의 적용의 경우의 경우\n",
      "[제안바.\n",
      "[]\n",
      "[제안 경우의 경우의 경우의 경우의 경우의 경우의 경우의 경우의 경우로서 보험계약의 해지유한 경우의 경우와제도를 1개한 경우의 경우.\n",
      "[가세요.\n",
      "[제척한 경우의 경우의 경우의 경우의 적용의 적용의 경우의 경우의 경우의 경우의 경우의 경우의 경우의 경우의 경우의 경우의 경우, 또는 제3.\n",
      "[제도를 포함할 수 있는 경우의 경우의 경우의 경우의 경우의 경우의 경우의 경우의 경우의 경우의 경우의 경우의 경우의 경우의 경우의 경우의 경우의 경우의 경우의 경우의 경우의 경우의 경우의 경우의 경우의 경우의 경우의 경우의 경우의 경우의 경우의 경우의 경우의 경우의 대상자 또는 제3.\n",
      "[1항의 경우의 경우의 경우의 경우의 경우의 경우의 금액을 받습니다.\n",
      "[1]를 적용에 관한 사항의 경우와 관련하여 제2.\n",
      "[제]\n",
      "[제도의 경우\n",
      "[가입의 대상자 또는 제52조제도를 유지의 경우의 경우를 위한 경우의 경우의 기간이익은행제조제척금제조제제제하십시오.\n",
      "[1\n"
     ]
    }
   ],
   "source": [
    "import torch\n",
    "from transformers import PhiForCausalLM, AutoModelForCausalLM, AutoTokenizer\n",
    "\n",
    "torch.set_default_device(\"cpu\")\n",
    "\n",
    "# Load model and tokenizer\n",
    "model = AutoModelForCausalLM.from_pretrained(\"daekeun-ml/phi-2-ko-v0.1\", torch_dtype=\"auto\")\n",
    "tokenizer = AutoTokenizer.from_pretrained(\"daekeun-ml/phi-2-ko-v0.1\", trust_remote_code=True)\n",
    "\n",
    "system_message = \"당신은 보험 상담 ASSISTANT입니다. 보험 약관인 context 기반으로 query에 대해 답변해 주세요.\"\n",
    "prompt = f\"[SYSTEM]: {system_message}\\n[USER]: {query}\\n[context]: {context}\\n[ASSISTANT]\"\n",
    "\n",
    "inputs = tokenizer(prompt, return_tensors=\"pt\", return_attention_mask=False)\n",
    "\n",
    "outputs = model.generate(**inputs, max_new_tokens=512)\n",
    "text = tokenizer.batch_decode(outputs)[0]\n",
    "print(text)\n"
   ]
  },
  {
   "cell_type": "code",
   "execution_count": 23,
   "metadata": {},
   "outputs": [
    {
     "name": "stderr",
     "output_type": "stream",
     "text": [
      "The attention mask and the pad token id were not set. As a consequence, you may observe unexpected behavior. Please pass your input's `attention_mask` to obtain reliable results.\n",
      "Setting `pad_token_id` to `eos_token_id`:128001 for open-end generation.\n",
      "Both `max_new_tokens` (=512) and `max_length`(=2048) seem to have been set. `max_new_tokens` will take precedence. Please refer to the documentation for more information. (https://huggingface.co/docs/transformers/main/en/main_classes/text_generation)\n"
     ]
    },
    {
     "name": "stdout",
     "output_type": "stream",
     "text": [
      "<|begin_of_text|>[SYSTEM]: 당신은 보험 상담 ASSISTANT입니다. 보험 약관인 context 기반으로 query에 대해 답변해 주세요.\n",
      "[USER]: 의무보험 미가입에 따른 불이익을 알려줘\n",
      "[context]: ['않는 경우 해당 계약을 해지할 수 있습니다. ④ 제1항 및 제3항에 따라 계약이 해지된 경우 회사는 제54조(보험료의 환급) 제3항 제1호에 따른 보험료를 계약자에게 지 급합니다. ⑤ 계약자는 제1항에 따른 제척기간１２８)에도 불구하고 민법 등 관계 법령에서 정하는 바에 따라 법률상의 권리를 행사할 수 있습니다. 제53조(보험회사의 보험계약 해지) ① 보험회사는 다음 중 어느 하나에 해당하는 경우가 발생하였을 때, 그 사실을 안 날부터 1월 이내에 보험계약을 해지할 수 있습니다. 다만, 제1호·제2호·제4호·제5호에 의한 계약해지는 의무보험에 대해 적용하지 않습니다. 1. 보험계약자가 보험계약을 맺을 때 고의 또는 중대한 과실１２９)로 제44조(계약 전 알릴 의무) 제1항의 사항에 관하여 알 고 있는 사실을 알리지 않거나 사실과 다르게 알린 경우. 다만, 다음 중 어느 하나에 해당하는 경우 보험회사는 보험 계약을 해지하지 못합니다. 가. 보험계약을 맺은 때에 보험회사가 보험계약자가 알려야 할 사실을 알고 있었거나 과실로 알지 못하였을 때 나. 보험계약자가 보험금을 지급할 사고가 발생하기 전에 보험청약서의 기재사항에 대하여 서면으로 변경을 신청하 여 보험회사가 이를 승인하였을 때 다. 보험회사가 보험계약을 맺은 날부터 보험계약을 해지하지 않고 6개월이 경과한 때 라. 보험을 모집한 자(이하 ‘보험설계사 등’이라 합니다)가 보험계약자 또는 피보험자에게 계약 전 알릴 의무를 이행할 기회를 부여하지 아니하였거나 보험계약자 또는 피보험자가 사실대로 알리는 것을 방해한 경우, 또는 보험계약자 또는 피보험자에 대해 사실대로 알리지 않게 하였거나 부실하게 알리도록 권유했을 때. 다만, 보험설계사 등의 행 위가 없었다 하더라도 보험계약자 또는 피보험자가 사실대로 알리지 않거나 부실하게 알린 것으로 인정되는 경우 에는 그러하지 아니합니다. 마. 보험계약자가 알려야 할 사항이 보험회사가 위험을 측정하는 데 관련이 없을 때 또는 적용할 보험료에 차액이 생 기지 않은 때 2. 보험계약자가 보험계약을 맺은 후에 제45조(계약 후 알릴 의무) 제1항에 정한 사실이 생긴 것을 알았음에도 불구하고 지체 없이 알리지 않거나 사실과 다르게 알린 경우. 다만, 보험계약자가 알려야 할 사실이 뚜렷하게 위험을 증가시킨 １ ２６)  건설기계해체재활용업자 : 건설기계해체재활용업을 등록한 자     건설기계해체재활용업 : 폐기 요청된 건설기계의 인수, 재사용 가능한 부품의 회수, 폐기 및 그 등록말소 신 청의 대행을 업으로 하는 것 １ ２７)  타인을 위한 보험계약 : 타인의 이익을 위하여 보험계약을 체결한 경우로서 예를 들어 A(계약자)가 자신의 친구B(기명피보험자)를 위해서 자동차보험을 체결해준 경우 등에 해당합니다. １ ２８) 제척기간 : 권리관계를 빨리 확정하기 위하여 어떤 종류의 권리에 대하여 법률이 정하고 있는 존속기간. 이 기간이 지나면 권리가 소멸되는데 점유 소권, 혼인의 취소권, 상소권, 즉시 항고권 따위에 적용됩니다. １ ２９)  고의 : 고의란 과실과 달리 자기의 행위가 일정한 결과를 발생시킬 것을 인식하고 또 이 결과의 발생을 용 인하는 것을 말합니다.   중대한 과실 : 중대한 과실이란 주의의무위반이 현저한 과실, 즉 극히 근소한 주의만 기울였더라도 결과 발생을  예견할 수 있음에도 부주의로 이를 예견하지 못한 것을 의미합니다. 용어설명 용어풀이', '관하여 필요한 조사를 하거나 보험계약자 또는 피보험자에게 필요한 설명 또는 증명을 요구 할 수 있습니다. 이 경우 보험계약자, 피보험자 또는 이들의 대리인은 이러한 조사 또는 요구에 협력하여야 합니다. 제58조(예금보험기금에 의한 보험금 등의 지급보장) 보험회사가 파산 등으로 인하여 보험금 등을 지급하지 못할 경우에는 예금자보호법(*1)에서 정하는 바에 따라 그 지급을 보 장합니다. (*1) 예금자보호법 - 보험회사의 경영이 악화된 경우 보험업법상의 보험계약이전제도에 의해 다른 회사로 보험계약을 이전하는 보호 장치가 마련되어 있으며, 만약 파산 등으로 인해 보험회사가 보험계약상의 채무를 이행할 수 없게 된 경우, 예금자 보호법에 따라 해약환급금(또는 만기 시 보험금)에 기타지급금을 합한 금액이 1인당 “5천만원까지”(본 보험회사의 여타 보호상품과 합산) 보호됩니다. 이와 별도로 본 보험회사 보호상품의 사고보험금을 합산한 금액이 1인당 “5천만원 까지” 보호됩니다. (단, 보험계약자 및 보험료 납부자가 법인이면 보호되지 않습니다.) 예금자보호제도에 대한 상세한 정보를 원하실 경우 예금보험공사 ☏1588-0037로 연락하시기 바랍니다. 제59조(보험사기행위 금지) 보험계약자, 피보험자, 피해자 등이 보험사기행위를 행한 경우 관련 법령１３４)에 따라 형사처벌 등을 받을 수 있습니다. １ ３３) 신의성실 : 고지해야 할 사실을 알고 있었으나 현저한 부주의로 인해 그 사실의 중요성 판단을 잘못하거나 그 사실을 고지해야 할 주요한 사실이라는 것을 알지 못하는 것을 말합니다. １ ３４) 보험사기행위를 행한 경우 관련 법령 :     • “보험사기행위”란 보험사고의 발생, 원인 또는 내용에 관하여 보험자를 기망하여 보험금을 추구하는 행 위를 말합니다. (보험사기방지 특별법 제2조제1호)     • 보험계약자, 피보험자, 보험금을 취득할 자, 그 밖에 보험계약에 관하여 이해관계가 있는 자는 보험사기행 위를 해서는 안 됩니다. (보험업법 제102조의2)     • 보험회사의 임직원, 보험설계사, 보험대리점, 보험중개사, 손해사정사, 그 밖에 보험 관계 업무에 종사하는 자는 다음에 해당하는 행위를 해서는 안 됩니다. (보험업법 제102조의3)       ▶ 보험계약자, 피보험자, 보험금을 취득할 사람, 그 밖에 보험계약에 관해 이해가 있는 자로 하여금 고의 로 보험사고를 발생시키거나 발생하지 않은 보험사고를 발생한 것처럼 조작하여 보험금을 수령하도록 하는 행위       ▶ 보험계약자, 피보험자, 보험금을 취득할 사람, 그 밖에 보험계약에 관해 이해가 있는 자로 하여금 이미 발생한 보험사고의 원인, 시기 또는 내용 등을 조작하거나 피해의 정도를 과장하여 보험금을 수령하도 록 하는 행위', '보 통 약 관 특 별 약 관 교 통 사 고 발 생 시 대 처 요 령 관 련 법 령 알 기 쉬 운 자 동 차 보 험 이 야 기 개인용자동차보험 7 1 의무보험의 의미 ‘의무보험’은 자동차 사고 피해자가 최소한의 보상을 받을 수 있도록 자동차손해 배상보장법에 의거하여 국가에서 법적으로 가입을 의무화한 보험입니다. 대인배상I은 최대 1억 5천만원, 대물배상은 최대 2천만원까지 보상합니다. 다만, ‘의무보험’만 가입할 경우 실제 사고가 발생했을 때 ‘의무보험’에 해당하는 가입금액을 초과하는 배상책임이 발생한다면 이 초과되는 금액은 가입자 본인이 부담하여야 합니다. 또한, 사고로 인해 가입자와 그 가족이 입은 손 실에 대한 보상을 받기 위해서는 의무보험 이외의 담보 (자기신체사고, 자기차량손해 등)에 가입하시는 것이 좋 습니다. 2 의무보험 미가입에 따른 불이익 의무보험 미가입 상황에서 운행 시 1년 이하의 징역 또는 1천 만원 이하의 벌금이 부과됩니다. 의무보험 미가입 기간에 따른 과태료는 다음과 같습니다. 담보 미가입시 과태료 10일이내 10일초과시 1일당 최대한도 대인배상 I 1만원 4천원 60만원 대물배상 5천원 2천원 30만원 의 무 보 험 담 보 가 입 과태료 1. 의무보험', '한도(동일한 사고로 이미 지급한 보험금이나 가지급금이 있는 경우에는 그 금액을 공제한 금액. 이하 같음) 내에서 제1항의 절차에 협조하거나 대행합니다. ③  보험회사가 제1항의 절차에 협조하거나 대행하는 경우에는 피보험자는 보험회사의 요청에 따라 협력해야 합니다. 피보 험자가 정당한 이유 없이 협력하지 않는 경우 그로 인하여 늘어난 손해에 대하여는 보상하지 않습니다. ④ 보험회사는 다음의 경우에는 제1항의 절차를 대행하지 않습니다. 1. 피보험자가 손해배상청구권자에 대하여 부담하는 법률상의 손해배상책임액이 보험증권에 기재된 보험가입금액을 명 백하게 초과하는 때 2. 피보험자가 정당한 이유 없이 협력하지 않는 때 제37조(공탁금의 대출) 보험회사가 제36조(합의 등의 협조·대행) 제1항의 절차를 대행하는 경우에는, 피보험자에 대하여 보상책임을 지는 한도에 서 가압류９８)나 가집행９９)을 면하기 위한 공탁금을 피보험자에게 대출할 수 있으며 이에 소요되는 비용을 보상합니다. 이 경우 대출금의 이자는 공탁금에 붙여지는 것과 같은 이율로 정하며, 피보험자는 공탁금１００)(이자를 포함)의 회수청구권１０１)을 보험회사에 양도하여야 합니다. ９３) 「자기신체사고」의 경우 제3자에 대한 피보험자의 권리 예를 들어 손해가 피보험자가 아닌 제3자의 행위로 인하여 생긴 경우에 피보험자가 해당 제3자에게 가지는 손해배상청구권 등의 권리를 말하는 것입니다. 이 경우, 피보험자에게 자기신체사고 보험금을 지급한 보험회 사는 피보험자 대신 제3자에 대한 손해배상청구권 등의 권리를 취득하여 행사합니다. ９４) ‘별표 1. 대인배상, 무보험자동차에 의한 상해지급기준’에 의해 지급할 때 사고시 공제액이 있는 사고로 인하여 실제손해액으로 보험금을 계산하게 되는 경우를 말합니다. (예) 상대방 이 있는 자동차사고로 상대방으로부터 대인배상 보험금을 지급받는 경우 등) ９５)  곤궁 : 1. 가난하여 살림이 구차함. 2. 처지가 이러지도 저러지도 못하게 난처하고 딱함. ９６) 경솔 : 말이나 행동이 조심성 없이 가벼움 ９ ７) 무경험 : 경험이 없음 ９８) 가압류 : 채무자의 재산을 압류하여 현상을 보전하고, 그 변경을 금지하여 장래의 강제집행을 보전하는 절차 를 말합니다. ９９) 가집행 : 판결이 확정되기 전에 법원의 직원이나 당사자의 신청에 따라 임시로 강제 집행을 행하는 경우를 말합니다. １ ００)  공탁금 : ‘공탁금’이란 법령의 규정에 따라 금전, 유가증권, 그 밖의 물품을 공탁소에 맡기는 금액을 말합니다. 공탁을 하는 경우로는 채무를 갚으려고 하나 채권자가 이를 거부하거나 혹은 채권자를 알 수 없는 경우, 상대 방에 대한 손해배상을 담보하기 위하여 하는 경우 등이 있습니다. １０１ )  회 수 청 구 권 : 공탁금을 대출해준 보험회사가 갖는 권리로 공탁금(이자를 포함)에 대한 회수 권리를 말합니다. 용어설명 용어풀이', '보 통 약 관 특 별 약 관 교 통 사 고 발 생 시 대 처 요 령 관 련 법 령 알 기 쉬 운 자 동 차 보 험 이 야 기 개인용자동차보험 9 1 청약내용 확인 관련 보험기간 중 계약 관련 사항이 변경된 경우 계약 담당자나  고객 콜센터(1588-3344, 1600-3434)로 지체없이 연락 주시기 바랍니다. • 고객 주소지 또는 연락처가 변경된 경우 고객님께 발송되는 각종 안내문(만기안내장 등) 수령을 위하여 변경된 주소와 연락처를 알려주시기 바랍니다. • 운전가능자의 범위가 변경된 경우 피보험자동차를 운전하려는 자의 범위 또는 연령이 변경된 경우에는 운전자한정/연령한정 특약을 변경하셔야 합니다. • 새차를 구매하였거나 교체한 경우 새로운 차를 구매하여 기존 차량과 대체한 경우 차량변경 사실을 보험사에 알리고 승인을 받으셔야 합니다. • 새로운 차량 부속품이 추가된 경우 자동차에 장착된 기본 사양 이외에 새로운 부속품이 추가된 경우, 부속품 종류와 가액을 보험회사에 알려주셔야 합니다. 4. 가입자 유의사항 : 보험계약 만료 시 현행 자동차손해배상보장법 제6조 제1항의 규정에 의거, 자동차보험을 가입한 고객님께 보험계약 만료(종료) 전 2회 에 걸쳐 만료사실을 안내하고 있습니다. 구분 안내시기 안내방법 안내대상 1차 안내 만료일 75일~30일전 모바일/이메일/우편 계약자 2차 안내 만료일 30일~10일전 우편 계약자 ※ 보험기간이 1개월 이내인 단기계약의 경우에는 안내가 생략될 수 있습니다. 3. 가입자 유의사항 : 보험계약 변경 시']\n",
      "[ASSISTANT] 보험계약 변경 시 유의사항에 대해 알려드리겠습니다. 보험계약 변경 시에는 다음과 같은 사항을 유의해야 합니다. 1. 보험료 변경 보험료는 보험계약 변경 시에 변경될 수 있습니다. 보험료 변경은 보험사마다 다르므로, 보험사에 문의하여 확인하시기 바랍니다. 2. 보험기간 변경 보험기간은 보험계약 변경 시에 변경될 수 있습니다. 보험기간 변경은 보험사마다 다르므로, 보험사에 문의하여 확인하시기 바랍니다. 3. 보험사 변경 보험계약을 다른 보험사로 변경할 경우, 보험사마다 보험료와 보험기간이 다를 수 있습니다. 따라서, 보험사 변경 시에는 보험사에 문의하여 보험료와 보험기간을 확인하시기 바랍니다. 4. 보험계약 해지 보험계약을 해지할 경우, 보험료와 보험기간이 변경될 수 있습니다. 따라서, 보험계약 해지 시에는 보험사에 문의하여 보험료와 보험기간을 확인하시기 바랍니다. 5. 보험계약 변경 시 유의사항 보험계약 변경 시에는 보험사에 문의하여 보험료와 보험기간을 확인하시기 바랍니다. 또한, 보험계약 변경 시에는 보험사에 문의하여 보험료와 보험기간을 확인하시기 바랍니다. 6. 보험계약 변경 시 유의사항 보험계약 변경 시에는 보험사에 문의하여 보험료와 보험기간을 확인하시기 바랍니다. 또한, 보험계약 변경 시에는 보험사에 문의하여 보험료와 보험기간을 확인하시기 바랍니다. 7. 보험계약 변경 시 유의사항 보험계약 변경 시에는 보험사에 문의하여 보험료와 보험기간을 확인하시기 바랍니다. 또한, 보험계약 변경 시에는 보험사에 문의하여 보험료와 보험기간을 확인하시기 바랍니다. 8. 보험계약 변경 시 유의사항 보험계약 변경 시에는 보험사에 문의하여 보험료와 보험기간을 확인하시기 바랍니다. 또한, 보험계약 변경 시에는 보험사에 문의하여 보험료와 보험기간을\n"
     ]
    }
   ],
   "source": [
    "import torch\n",
    "from transformers import PhiForCausalLM, AutoModelForCausalLM, AutoTokenizer\n",
    "\n",
    "torch.set_default_device(\"cpu\")\n",
    "\n",
    "# Load model and tokenizer\n",
    "model = AutoModelForCausalLM.from_pretrained(\"kakaocorp/kanana-nano-2.1b-base\", torch_dtype=\"auto\")\n",
    "tokenizer = AutoTokenizer.from_pretrained(\"kakaocorp/kanana-nano-2.1b-base\", trust_remote_code=True)\n",
    "\n",
    "system_message = \"당신은 보험 상담 ASSISTANT입니다. 보험 약관인 context 기반으로 query에 대해 답변해 주세요.\"\n",
    "prompt = f\"[SYSTEM]: {system_message}\\n[USER]: {query}\\n[context]: {context}\\n[ASSISTANT]\"\n",
    "\n",
    "inputs = tokenizer(prompt, return_tensors=\"pt\", return_attention_mask=False)\n",
    "\n",
    "outputs = model.generate(**inputs, max_new_tokens=512, max_length=2048)\n",
    "text = tokenizer.batch_decode(outputs)[0]\n",
    "print(text)"
   ]
  },
  {
   "cell_type": "code",
   "execution_count": null,
   "metadata": {},
   "outputs": [],
   "source": []
  },
  {
   "cell_type": "code",
   "execution_count": null,
   "metadata": {},
   "outputs": [],
   "source": [
    "import faiss\n",
    "import pickle\n",
    "import numpy as np\n",
    "from langchain.schema import Document\n",
    "from langchain_community.document_loaders import PyPDFLoader\n",
    "from langchain.text_splitter import RecursiveCharacterTextSplitter\n",
    "from transformers import AutoModel, AutoTokenizer\n",
    "import torch\n",
    "\n",
    "model_name = \"kakaocorp/kanana-nano-2.1b-embedding\"\n",
    "tokenizer = AutoTokenizer.from_pretrained(model_name, trust_remote_code=True)\n",
    "model = AutoModel.from_pretrained(model_name, trust_remote_code=True)\n",
    "\n",
    "def get_embeddings(texts):\n",
    "    inputs = tokenizer(texts, padding=True, truncation=True, max_length=2000, return_tensors=\"pt\")\n",
    "\n",
    "    # pool_mask 생성 (입력 시퀀스 길이에 맞춰서 1로 설정)\n",
    "    pool_mask = torch.ones(inputs[\"input_ids\"].shape, dtype=torch.long)\n",
    "\n",
    "    with torch.no_grad():\n",
    "        outputs = model(**inputs, pool_mask=pool_mask)  # pool_mask 추가\n",
    "\n",
    "    return outputs.embedding.numpy()"
   ]
  },
  {
   "cell_type": "code",
   "execution_count": 11,
   "metadata": {},
   "outputs": [
    {
     "ename": "KeyboardInterrupt",
     "evalue": "",
     "output_type": "error",
     "traceback": [
      "\u001b[1;31m---------------------------------------------------------------------------\u001b[0m",
      "\u001b[1;31mKeyboardInterrupt\u001b[0m                         Traceback (most recent call last)",
      "Cell \u001b[1;32mIn[11], line 12\u001b[0m\n\u001b[0;32m     10\u001b[0m model_name \u001b[38;5;241m=\u001b[39m \u001b[38;5;124m\"\u001b[39m\u001b[38;5;124mkakaocorp/kanana-nano-2.1b-embedding\u001b[39m\u001b[38;5;124m\"\u001b[39m\n\u001b[0;32m     11\u001b[0m tokenizer \u001b[38;5;241m=\u001b[39m AutoTokenizer\u001b[38;5;241m.\u001b[39mfrom_pretrained(model_name, trust_remote_code\u001b[38;5;241m=\u001b[39m\u001b[38;5;28;01mTrue\u001b[39;00m)\n\u001b[1;32m---> 12\u001b[0m model \u001b[38;5;241m=\u001b[39m \u001b[43mAutoModel\u001b[49m\u001b[38;5;241;43m.\u001b[39;49m\u001b[43mfrom_pretrained\u001b[49m\u001b[43m(\u001b[49m\u001b[43mmodel_name\u001b[49m\u001b[43m,\u001b[49m\u001b[43m \u001b[49m\u001b[43mtrust_remote_code\u001b[49m\u001b[38;5;241;43m=\u001b[39;49m\u001b[38;5;28;43;01mTrue\u001b[39;49;00m\u001b[43m)\u001b[49m\n\u001b[0;32m     14\u001b[0m \u001b[38;5;28;01mdef\u001b[39;00m\u001b[38;5;250m \u001b[39m\u001b[38;5;21mget_embeddings\u001b[39m(texts):\n\u001b[0;32m     15\u001b[0m     inputs \u001b[38;5;241m=\u001b[39m tokenizer(texts, padding\u001b[38;5;241m=\u001b[39m\u001b[38;5;28;01mTrue\u001b[39;00m, truncation\u001b[38;5;241m=\u001b[39m\u001b[38;5;28;01mTrue\u001b[39;00m, max_length\u001b[38;5;241m=\u001b[39m\u001b[38;5;241m2000\u001b[39m, return_tensors\u001b[38;5;241m=\u001b[39m\u001b[38;5;124m\"\u001b[39m\u001b[38;5;124mpt\u001b[39m\u001b[38;5;124m\"\u001b[39m)\n",
      "File \u001b[1;32mc:\\Users\\kwj\\anaconda3\\envs\\vectordb\\lib\\site-packages\\transformers\\models\\auto\\auto_factory.py:559\u001b[0m, in \u001b[0;36m_BaseAutoModelClass.from_pretrained\u001b[1;34m(cls, pretrained_model_name_or_path, *model_args, **kwargs)\u001b[0m\n\u001b[0;32m    557\u001b[0m     \u001b[38;5;28mcls\u001b[39m\u001b[38;5;241m.\u001b[39mregister(config\u001b[38;5;241m.\u001b[39m\u001b[38;5;18m__class__\u001b[39m, model_class, exist_ok\u001b[38;5;241m=\u001b[39m\u001b[38;5;28;01mTrue\u001b[39;00m)\n\u001b[0;32m    558\u001b[0m     model_class \u001b[38;5;241m=\u001b[39m add_generation_mixin_to_remote_model(model_class)\n\u001b[1;32m--> 559\u001b[0m     \u001b[38;5;28;01mreturn\u001b[39;00m model_class\u001b[38;5;241m.\u001b[39mfrom_pretrained(\n\u001b[0;32m    560\u001b[0m         pretrained_model_name_or_path, \u001b[38;5;241m*\u001b[39mmodel_args, config\u001b[38;5;241m=\u001b[39mconfig, \u001b[38;5;241m*\u001b[39m\u001b[38;5;241m*\u001b[39mhub_kwargs, \u001b[38;5;241m*\u001b[39m\u001b[38;5;241m*\u001b[39mkwargs\n\u001b[0;32m    561\u001b[0m     )\n\u001b[0;32m    562\u001b[0m \u001b[38;5;28;01melif\u001b[39;00m \u001b[38;5;28mtype\u001b[39m(config) \u001b[38;5;129;01min\u001b[39;00m \u001b[38;5;28mcls\u001b[39m\u001b[38;5;241m.\u001b[39m_model_mapping\u001b[38;5;241m.\u001b[39mkeys():\n\u001b[0;32m    563\u001b[0m     model_class \u001b[38;5;241m=\u001b[39m _get_model_class(config, \u001b[38;5;28mcls\u001b[39m\u001b[38;5;241m.\u001b[39m_model_mapping)\n",
      "File \u001b[1;32mc:\\Users\\kwj\\anaconda3\\envs\\vectordb\\lib\\site-packages\\transformers\\modeling_utils.py:262\u001b[0m, in \u001b[0;36mrestore_default_torch_dtype.<locals>._wrapper\u001b[1;34m(*args, **kwargs)\u001b[0m\n\u001b[0;32m    260\u001b[0m old_dtype \u001b[38;5;241m=\u001b[39m torch\u001b[38;5;241m.\u001b[39mget_default_dtype()\n\u001b[0;32m    261\u001b[0m \u001b[38;5;28;01mtry\u001b[39;00m:\n\u001b[1;32m--> 262\u001b[0m     \u001b[38;5;28;01mreturn\u001b[39;00m func(\u001b[38;5;241m*\u001b[39margs, \u001b[38;5;241m*\u001b[39m\u001b[38;5;241m*\u001b[39mkwargs)\n\u001b[0;32m    263\u001b[0m \u001b[38;5;28;01mfinally\u001b[39;00m:\n\u001b[0;32m    264\u001b[0m     torch\u001b[38;5;241m.\u001b[39mset_default_dtype(old_dtype)\n",
      "File \u001b[1;32mc:\\Users\\kwj\\anaconda3\\envs\\vectordb\\lib\\site-packages\\transformers\\modeling_utils.py:4319\u001b[0m, in \u001b[0;36mPreTrainedModel.from_pretrained\u001b[1;34m(cls, pretrained_model_name_or_path, config, cache_dir, ignore_mismatched_sizes, force_download, local_files_only, token, revision, use_safetensors, weights_only, *model_args, **kwargs)\u001b[0m\n\u001b[0;32m   4309\u001b[0m     \u001b[38;5;28;01mif\u001b[39;00m dtype_orig \u001b[38;5;129;01mis\u001b[39;00m \u001b[38;5;129;01mnot\u001b[39;00m \u001b[38;5;28;01mNone\u001b[39;00m:\n\u001b[0;32m   4310\u001b[0m         torch\u001b[38;5;241m.\u001b[39mset_default_dtype(dtype_orig)\n\u001b[0;32m   4312\u001b[0m     (\n\u001b[0;32m   4313\u001b[0m         model,\n\u001b[0;32m   4314\u001b[0m         missing_keys,\n\u001b[0;32m   4315\u001b[0m         unexpected_keys,\n\u001b[0;32m   4316\u001b[0m         mismatched_keys,\n\u001b[0;32m   4317\u001b[0m         offload_index,\n\u001b[0;32m   4318\u001b[0m         error_msgs,\n\u001b[1;32m-> 4319\u001b[0m     ) \u001b[38;5;241m=\u001b[39m \u001b[38;5;28;43mcls\u001b[39;49m\u001b[38;5;241;43m.\u001b[39;49m\u001b[43m_load_pretrained_model\u001b[49m\u001b[43m(\u001b[49m\n\u001b[0;32m   4320\u001b[0m \u001b[43m        \u001b[49m\u001b[43mmodel\u001b[49m\u001b[43m,\u001b[49m\n\u001b[0;32m   4321\u001b[0m \u001b[43m        \u001b[49m\u001b[43mstate_dict\u001b[49m\u001b[43m,\u001b[49m\n\u001b[0;32m   4322\u001b[0m \u001b[43m        \u001b[49m\u001b[43mloaded_state_dict_keys\u001b[49m\u001b[43m,\u001b[49m\u001b[43m  \u001b[49m\u001b[38;5;66;43;03m# XXX: rename?\u001b[39;49;00m\n\u001b[0;32m   4323\u001b[0m \u001b[43m        \u001b[49m\u001b[43mresolved_archive_file\u001b[49m\u001b[43m,\u001b[49m\n\u001b[0;32m   4324\u001b[0m \u001b[43m        \u001b[49m\u001b[43mpretrained_model_name_or_path\u001b[49m\u001b[43m,\u001b[49m\n\u001b[0;32m   4325\u001b[0m \u001b[43m        \u001b[49m\u001b[43mignore_mismatched_sizes\u001b[49m\u001b[38;5;241;43m=\u001b[39;49m\u001b[43mignore_mismatched_sizes\u001b[49m\u001b[43m,\u001b[49m\n\u001b[0;32m   4326\u001b[0m \u001b[43m        \u001b[49m\u001b[43msharded_metadata\u001b[49m\u001b[38;5;241;43m=\u001b[39;49m\u001b[43msharded_metadata\u001b[49m\u001b[43m,\u001b[49m\n\u001b[0;32m   4327\u001b[0m \u001b[43m        \u001b[49m\u001b[43m_fast_init\u001b[49m\u001b[38;5;241;43m=\u001b[39;49m\u001b[43m_fast_init\u001b[49m\u001b[43m,\u001b[49m\n\u001b[0;32m   4328\u001b[0m \u001b[43m        \u001b[49m\u001b[43mlow_cpu_mem_usage\u001b[49m\u001b[38;5;241;43m=\u001b[39;49m\u001b[43mlow_cpu_mem_usage\u001b[49m\u001b[43m,\u001b[49m\n\u001b[0;32m   4329\u001b[0m \u001b[43m        \u001b[49m\u001b[43mdevice_map\u001b[49m\u001b[38;5;241;43m=\u001b[39;49m\u001b[43mdevice_map\u001b[49m\u001b[43m,\u001b[49m\n\u001b[0;32m   4330\u001b[0m \u001b[43m        \u001b[49m\u001b[43moffload_folder\u001b[49m\u001b[38;5;241;43m=\u001b[39;49m\u001b[43moffload_folder\u001b[49m\u001b[43m,\u001b[49m\n\u001b[0;32m   4331\u001b[0m \u001b[43m        \u001b[49m\u001b[43moffload_state_dict\u001b[49m\u001b[38;5;241;43m=\u001b[39;49m\u001b[43moffload_state_dict\u001b[49m\u001b[43m,\u001b[49m\n\u001b[0;32m   4332\u001b[0m \u001b[43m        \u001b[49m\u001b[43mdtype\u001b[49m\u001b[38;5;241;43m=\u001b[39;49m\u001b[43mtorch_dtype\u001b[49m\u001b[43m,\u001b[49m\n\u001b[0;32m   4333\u001b[0m \u001b[43m        \u001b[49m\u001b[43mhf_quantizer\u001b[49m\u001b[38;5;241;43m=\u001b[39;49m\u001b[43mhf_quantizer\u001b[49m\u001b[43m,\u001b[49m\n\u001b[0;32m   4334\u001b[0m \u001b[43m        \u001b[49m\u001b[43mkeep_in_fp32_modules\u001b[49m\u001b[38;5;241;43m=\u001b[39;49m\u001b[43mkeep_in_fp32_modules\u001b[49m\u001b[43m,\u001b[49m\n\u001b[0;32m   4335\u001b[0m \u001b[43m        \u001b[49m\u001b[43mgguf_path\u001b[49m\u001b[38;5;241;43m=\u001b[39;49m\u001b[43mgguf_path\u001b[49m\u001b[43m,\u001b[49m\n\u001b[0;32m   4336\u001b[0m \u001b[43m        \u001b[49m\u001b[43mweights_only\u001b[49m\u001b[38;5;241;43m=\u001b[39;49m\u001b[43mweights_only\u001b[49m\u001b[43m,\u001b[49m\n\u001b[0;32m   4337\u001b[0m \u001b[43m    \u001b[49m\u001b[43m)\u001b[49m\n\u001b[0;32m   4339\u001b[0m \u001b[38;5;66;03m# make sure token embedding weights are still tied if needed\u001b[39;00m\n\u001b[0;32m   4340\u001b[0m model\u001b[38;5;241m.\u001b[39mtie_weights()\n",
      "File \u001b[1;32mc:\\Users\\kwj\\anaconda3\\envs\\vectordb\\lib\\site-packages\\transformers\\modeling_utils.py:4830\u001b[0m, in \u001b[0;36mPreTrainedModel._load_pretrained_model\u001b[1;34m(cls, model, state_dict, loaded_keys, resolved_archive_file, pretrained_model_name_or_path, ignore_mismatched_sizes, sharded_metadata, _fast_init, low_cpu_mem_usage, device_map, offload_folder, offload_state_dict, dtype, hf_quantizer, keep_in_fp32_modules, gguf_path, weights_only)\u001b[0m\n\u001b[0;32m   4826\u001b[0m         assign_to_params_buffers \u001b[38;5;241m=\u001b[39m check_support_param_buffer_assignment(\n\u001b[0;32m   4827\u001b[0m             model_to_load, state_dict, start_prefix\n\u001b[0;32m   4828\u001b[0m         )\n\u001b[0;32m   4829\u001b[0m         fixed_state_dict \u001b[38;5;241m=\u001b[39m \u001b[38;5;28mcls\u001b[39m\u001b[38;5;241m.\u001b[39m_fix_state_dict_keys_on_load(state_dict)\n\u001b[1;32m-> 4830\u001b[0m         error_msgs \u001b[38;5;241m=\u001b[39m \u001b[43m_load_state_dict_into_model\u001b[49m\u001b[43m(\u001b[49m\n\u001b[0;32m   4831\u001b[0m \u001b[43m            \u001b[49m\u001b[43mmodel_to_load\u001b[49m\u001b[43m,\u001b[49m\u001b[43m \u001b[49m\u001b[43mfixed_state_dict\u001b[49m\u001b[43m,\u001b[49m\u001b[43m \u001b[49m\u001b[43mstart_prefix\u001b[49m\u001b[43m,\u001b[49m\u001b[43m \u001b[49m\u001b[43massign_to_params_buffers\u001b[49m\n\u001b[0;32m   4832\u001b[0m \u001b[43m        \u001b[49m\u001b[43m)\u001b[49m\n\u001b[0;32m   4834\u001b[0m \u001b[38;5;28;01melse\u001b[39;00m:\n\u001b[0;32m   4835\u001b[0m     \u001b[38;5;66;03m# This should always be a list but, just to be sure.\u001b[39;00m\n\u001b[0;32m   4836\u001b[0m     \u001b[38;5;28;01mif\u001b[39;00m \u001b[38;5;129;01mnot\u001b[39;00m \u001b[38;5;28misinstance\u001b[39m(resolved_archive_file, \u001b[38;5;28mlist\u001b[39m):\n",
      "File \u001b[1;32mc:\\Users\\kwj\\anaconda3\\envs\\vectordb\\lib\\site-packages\\transformers\\modeling_utils.py:717\u001b[0m, in \u001b[0;36m_load_state_dict_into_model\u001b[1;34m(model_to_load, state_dict, start_prefix, assign_to_params_buffers)\u001b[0m\n\u001b[0;32m    714\u001b[0m         \u001b[38;5;28;01mif\u001b[39;00m child \u001b[38;5;129;01mis\u001b[39;00m \u001b[38;5;129;01mnot\u001b[39;00m \u001b[38;5;28;01mNone\u001b[39;00m:\n\u001b[0;32m    715\u001b[0m             load(child, state_dict, prefix \u001b[38;5;241m+\u001b[39m name \u001b[38;5;241m+\u001b[39m \u001b[38;5;124m\"\u001b[39m\u001b[38;5;124m.\u001b[39m\u001b[38;5;124m\"\u001b[39m, assign_to_params_buffers)\n\u001b[1;32m--> 717\u001b[0m \u001b[43mload\u001b[49m\u001b[43m(\u001b[49m\u001b[43mmodel_to_load\u001b[49m\u001b[43m,\u001b[49m\u001b[43m \u001b[49m\u001b[43mstate_dict\u001b[49m\u001b[43m,\u001b[49m\u001b[43m \u001b[49m\u001b[43mprefix\u001b[49m\u001b[38;5;241;43m=\u001b[39;49m\u001b[43mstart_prefix\u001b[49m\u001b[43m,\u001b[49m\u001b[43m \u001b[49m\u001b[43massign_to_params_buffers\u001b[49m\u001b[38;5;241;43m=\u001b[39;49m\u001b[43massign_to_params_buffers\u001b[49m\u001b[43m)\u001b[49m\n\u001b[0;32m    718\u001b[0m \u001b[38;5;66;03m# Delete `state_dict` so it could be collected by GC earlier. Note that `state_dict` is a copy of the argument, so\u001b[39;00m\n\u001b[0;32m    719\u001b[0m \u001b[38;5;66;03m# it's safe to delete it.\u001b[39;00m\n\u001b[0;32m    720\u001b[0m \u001b[38;5;28;01mdel\u001b[39;00m state_dict\n",
      "File \u001b[1;32mc:\\Users\\kwj\\anaconda3\\envs\\vectordb\\lib\\site-packages\\transformers\\modeling_utils.py:715\u001b[0m, in \u001b[0;36m_load_state_dict_into_model.<locals>.load\u001b[1;34m(module, state_dict, prefix, assign_to_params_buffers)\u001b[0m\n\u001b[0;32m    713\u001b[0m \u001b[38;5;28;01mfor\u001b[39;00m name, child \u001b[38;5;129;01min\u001b[39;00m module\u001b[38;5;241m.\u001b[39m_modules\u001b[38;5;241m.\u001b[39mitems():\n\u001b[0;32m    714\u001b[0m     \u001b[38;5;28;01mif\u001b[39;00m child \u001b[38;5;129;01mis\u001b[39;00m \u001b[38;5;129;01mnot\u001b[39;00m \u001b[38;5;28;01mNone\u001b[39;00m:\n\u001b[1;32m--> 715\u001b[0m         \u001b[43mload\u001b[49m\u001b[43m(\u001b[49m\u001b[43mchild\u001b[49m\u001b[43m,\u001b[49m\u001b[43m \u001b[49m\u001b[43mstate_dict\u001b[49m\u001b[43m,\u001b[49m\u001b[43m \u001b[49m\u001b[43mprefix\u001b[49m\u001b[43m \u001b[49m\u001b[38;5;241;43m+\u001b[39;49m\u001b[43m \u001b[49m\u001b[43mname\u001b[49m\u001b[43m \u001b[49m\u001b[38;5;241;43m+\u001b[39;49m\u001b[43m \u001b[49m\u001b[38;5;124;43m\"\u001b[39;49m\u001b[38;5;124;43m.\u001b[39;49m\u001b[38;5;124;43m\"\u001b[39;49m\u001b[43m,\u001b[49m\u001b[43m \u001b[49m\u001b[43massign_to_params_buffers\u001b[49m\u001b[43m)\u001b[49m\n",
      "File \u001b[1;32mc:\\Users\\kwj\\anaconda3\\envs\\vectordb\\lib\\site-packages\\transformers\\modeling_utils.py:715\u001b[0m, in \u001b[0;36m_load_state_dict_into_model.<locals>.load\u001b[1;34m(module, state_dict, prefix, assign_to_params_buffers)\u001b[0m\n\u001b[0;32m    713\u001b[0m \u001b[38;5;28;01mfor\u001b[39;00m name, child \u001b[38;5;129;01min\u001b[39;00m module\u001b[38;5;241m.\u001b[39m_modules\u001b[38;5;241m.\u001b[39mitems():\n\u001b[0;32m    714\u001b[0m     \u001b[38;5;28;01mif\u001b[39;00m child \u001b[38;5;129;01mis\u001b[39;00m \u001b[38;5;129;01mnot\u001b[39;00m \u001b[38;5;28;01mNone\u001b[39;00m:\n\u001b[1;32m--> 715\u001b[0m         \u001b[43mload\u001b[49m\u001b[43m(\u001b[49m\u001b[43mchild\u001b[49m\u001b[43m,\u001b[49m\u001b[43m \u001b[49m\u001b[43mstate_dict\u001b[49m\u001b[43m,\u001b[49m\u001b[43m \u001b[49m\u001b[43mprefix\u001b[49m\u001b[43m \u001b[49m\u001b[38;5;241;43m+\u001b[39;49m\u001b[43m \u001b[49m\u001b[43mname\u001b[49m\u001b[43m \u001b[49m\u001b[38;5;241;43m+\u001b[39;49m\u001b[43m \u001b[49m\u001b[38;5;124;43m\"\u001b[39;49m\u001b[38;5;124;43m.\u001b[39;49m\u001b[38;5;124;43m\"\u001b[39;49m\u001b[43m,\u001b[49m\u001b[43m \u001b[49m\u001b[43massign_to_params_buffers\u001b[49m\u001b[43m)\u001b[49m\n",
      "    \u001b[1;31m[... skipping similar frames: _load_state_dict_into_model.<locals>.load at line 715 (1 times)]\u001b[0m\n",
      "File \u001b[1;32mc:\\Users\\kwj\\anaconda3\\envs\\vectordb\\lib\\site-packages\\transformers\\modeling_utils.py:715\u001b[0m, in \u001b[0;36m_load_state_dict_into_model.<locals>.load\u001b[1;34m(module, state_dict, prefix, assign_to_params_buffers)\u001b[0m\n\u001b[0;32m    713\u001b[0m \u001b[38;5;28;01mfor\u001b[39;00m name, child \u001b[38;5;129;01min\u001b[39;00m module\u001b[38;5;241m.\u001b[39m_modules\u001b[38;5;241m.\u001b[39mitems():\n\u001b[0;32m    714\u001b[0m     \u001b[38;5;28;01mif\u001b[39;00m child \u001b[38;5;129;01mis\u001b[39;00m \u001b[38;5;129;01mnot\u001b[39;00m \u001b[38;5;28;01mNone\u001b[39;00m:\n\u001b[1;32m--> 715\u001b[0m         \u001b[43mload\u001b[49m\u001b[43m(\u001b[49m\u001b[43mchild\u001b[49m\u001b[43m,\u001b[49m\u001b[43m \u001b[49m\u001b[43mstate_dict\u001b[49m\u001b[43m,\u001b[49m\u001b[43m \u001b[49m\u001b[43mprefix\u001b[49m\u001b[43m \u001b[49m\u001b[38;5;241;43m+\u001b[39;49m\u001b[43m \u001b[49m\u001b[43mname\u001b[49m\u001b[43m \u001b[49m\u001b[38;5;241;43m+\u001b[39;49m\u001b[43m \u001b[49m\u001b[38;5;124;43m\"\u001b[39;49m\u001b[38;5;124;43m.\u001b[39;49m\u001b[38;5;124;43m\"\u001b[39;49m\u001b[43m,\u001b[49m\u001b[43m \u001b[49m\u001b[43massign_to_params_buffers\u001b[49m\u001b[43m)\u001b[49m\n",
      "File \u001b[1;32mc:\\Users\\kwj\\anaconda3\\envs\\vectordb\\lib\\site-packages\\transformers\\modeling_utils.py:711\u001b[0m, in \u001b[0;36m_load_state_dict_into_model.<locals>.load\u001b[1;34m(module, state_dict, prefix, assign_to_params_buffers)\u001b[0m\n\u001b[0;32m    709\u001b[0m                     module\u001b[38;5;241m.\u001b[39m_load_from_state_dict(\u001b[38;5;241m*\u001b[39margs)\n\u001b[0;32m    710\u001b[0m     \u001b[38;5;28;01melse\u001b[39;00m:\n\u001b[1;32m--> 711\u001b[0m         \u001b[43mmodule\u001b[49m\u001b[38;5;241;43m.\u001b[39;49m\u001b[43m_load_from_state_dict\u001b[49m\u001b[43m(\u001b[49m\u001b[38;5;241;43m*\u001b[39;49m\u001b[43margs\u001b[49m\u001b[43m)\u001b[49m\n\u001b[0;32m    713\u001b[0m \u001b[38;5;28;01mfor\u001b[39;00m name, child \u001b[38;5;129;01min\u001b[39;00m module\u001b[38;5;241m.\u001b[39m_modules\u001b[38;5;241m.\u001b[39mitems():\n\u001b[0;32m    714\u001b[0m     \u001b[38;5;28;01mif\u001b[39;00m child \u001b[38;5;129;01mis\u001b[39;00m \u001b[38;5;129;01mnot\u001b[39;00m \u001b[38;5;28;01mNone\u001b[39;00m:\n",
      "File \u001b[1;32mc:\\Users\\kwj\\anaconda3\\envs\\vectordb\\lib\\site-packages\\torch\\nn\\modules\\module.py:2438\u001b[0m, in \u001b[0;36mModule._load_from_state_dict\u001b[1;34m(self, state_dict, prefix, local_metadata, strict, missing_keys, unexpected_keys, error_msgs)\u001b[0m\n\u001b[0;32m   2436\u001b[0m             \u001b[38;5;28msetattr\u001b[39m(\u001b[38;5;28mself\u001b[39m, name, input_param)\n\u001b[0;32m   2437\u001b[0m         \u001b[38;5;28;01melse\u001b[39;00m:\n\u001b[1;32m-> 2438\u001b[0m             \u001b[43mparam\u001b[49m\u001b[38;5;241;43m.\u001b[39;49m\u001b[43mcopy_\u001b[49m\u001b[43m(\u001b[49m\u001b[43minput_param\u001b[49m\u001b[43m)\u001b[49m\n\u001b[0;32m   2439\u001b[0m \u001b[38;5;28;01mexcept\u001b[39;00m \u001b[38;5;167;01mException\u001b[39;00m \u001b[38;5;28;01mas\u001b[39;00m ex:\n\u001b[0;32m   2440\u001b[0m     action \u001b[38;5;241m=\u001b[39m \u001b[38;5;124m\"\u001b[39m\u001b[38;5;124mswapping\u001b[39m\u001b[38;5;124m\"\u001b[39m \u001b[38;5;28;01mif\u001b[39;00m use_swap_tensors \u001b[38;5;28;01melse\u001b[39;00m \u001b[38;5;124m\"\u001b[39m\u001b[38;5;124mcopying\u001b[39m\u001b[38;5;124m\"\u001b[39m\n",
      "\u001b[1;31mKeyboardInterrupt\u001b[0m: "
     ]
    }
   ],
   "source": [
    "from langchain.vectorstores import FAISS\n",
    "# from langchain.embeddings import HuggingFaceEmbeddings\n",
    "from langchain.text_splitter import RecursiveCharacterTextSplitter\n",
    "from langchain.document_loaders import PyPDFLoader\n",
    "import pickle\n",
    "import os\n",
    "from transformers import AutoModel, AutoTokenizer\n",
    "import torch\n",
    "\n",
    "model_name = \"kakaocorp/kanana-nano-2.1b-embedding\"\n",
    "tokenizer = AutoTokenizer.from_pretrained(model_name, trust_remote_code=True)\n",
    "model = AutoModel.from_pretrained(model_name, trust_remote_code=True)\n",
    "\n",
    "def get_embeddings(texts):\n",
    "    inputs = tokenizer(texts, padding=True, truncation=True, max_length=2000, return_tensors=\"pt\")\n",
    "\n",
    "    # pool_mask 생성 (입력 시퀀스 길이에 맞춰서 1로 설정)\n",
    "    pool_mask = torch.ones(inputs[\"input_ids\"].shape, dtype=torch.long)\n",
    "\n",
    "    with torch.no_grad():\n",
    "        outputs = model(**inputs, pool_mask=pool_mask)  # pool_mask 추가\n",
    "\n",
    "\n",
    "# 1️⃣ FAISS 저장 경로\n",
    "faiss_index_path = \"./faiss_index1\"\n",
    "metadata_path = \"./documents1.pkl\"\n",
    "\n",
    "# 2️⃣ 임베딩 모델 설정\n",
    "# embedding_model = HuggingFaceEmbeddings(model_name=\"sentence-transformers/all-MiniLM-L6-v2\")\n",
    "\n",
    "# 3️⃣ 문서 리스트 가져오기\n",
    "documents = []\n",
    "\n",
    "# 4️⃣ PDF 문서 로드 & 전처리\n",
    "for file in file_list:  # 상위 3개 파일만 처리\n",
    "    loader = PyPDFLoader(path + \"\\\\\" + file)\n",
    "    docs = loader.load()\n",
    "\n",
    "    # 줄바꿈 및 공백 정리 + 메타데이터 추가\n",
    "    for doc in docs:\n",
    "        doc.page_content = doc.page_content.replace(\"\\n\", \" \").replace(\"  \", \" \")\n",
    "        doc.metadata[\"source\"] = file\n",
    "\n",
    "    # 5️⃣ 문서 스플리팅\n",
    "    splitter = RecursiveCharacterTextSplitter(chunk_size=2000, chunk_overlap=1000)\n",
    "    split_docs = splitter.split_documents(docs)\n",
    "\n",
    "    # 문서 저장\n",
    "    documents.extend(split_docs)\n",
    "\n",
    "    # 6️⃣ FAISS 벡터스토어 생성 & 저장\n",
    "    faiss_index = FAISS.from_documents(documents, embedding_model)\n",
    "    faiss_index.save_local(faiss_index_path)  # FAISS 저장\n",
    "\n",
    "    # 7️⃣ 문서 정보 저장\n",
    "    with open(metadata_path, \"ab\") as f:\n",
    "        pickle.dump(documents, f)\n",
    "\n",
    "    print(file)\n"
   ]
  },
  {
   "cell_type": "code",
   "execution_count": null,
   "metadata": {},
   "outputs": [
    {
     "name": "stdout",
     "output_type": "stream",
     "text": [
      "Collecting frontend\n",
      "  Downloading frontend-0.0.3-py3-none-any.whl.metadata (847 bytes)\n",
      "Requirement already satisfied: starlette>=0.12.0 in c:\\users\\kwj\\anaconda3\\envs\\vectordb\\lib\\site-packages (from frontend) (0.46.1)\n",
      "Requirement already satisfied: uvicorn>=0.7.1 in c:\\users\\kwj\\anaconda3\\envs\\vectordb\\lib\\site-packages (from frontend) (0.34.0)\n",
      "Collecting itsdangerous>=1.1.0 (from frontend)\n",
      "  Downloading itsdangerous-2.2.0-py3-none-any.whl.metadata (1.9 kB)\n",
      "Collecting aiofiles (from frontend)\n",
      "  Downloading aiofiles-24.1.0-py3-none-any.whl.metadata (10 kB)\n",
      "Requirement already satisfied: anyio<5,>=3.6.2 in c:\\users\\kwj\\anaconda3\\envs\\vectordb\\lib\\site-packages (from starlette>=0.12.0->frontend) (4.8.0)\n",
      "Requirement already satisfied: click>=7.0 in c:\\users\\kwj\\anaconda3\\envs\\vectordb\\lib\\site-packages (from uvicorn>=0.7.1->frontend) (8.1.8)\n",
      "Requirement already satisfied: h11>=0.8 in c:\\users\\kwj\\anaconda3\\envs\\vectordb\\lib\\site-packages (from uvicorn>=0.7.1->frontend) (0.14.0)\n",
      "Requirement already satisfied: typing-extensions>=4.0 in c:\\users\\kwj\\anaconda3\\envs\\vectordb\\lib\\site-packages (from uvicorn>=0.7.1->frontend) (4.12.2)\n",
      "Requirement already satisfied: exceptiongroup>=1.0.2 in c:\\users\\kwj\\anaconda3\\envs\\vectordb\\lib\\site-packages (from anyio<5,>=3.6.2->starlette>=0.12.0->frontend) (1.2.2)\n",
      "Requirement already satisfied: idna>=2.8 in c:\\users\\kwj\\anaconda3\\envs\\vectordb\\lib\\site-packages (from anyio<5,>=3.6.2->starlette>=0.12.0->frontend) (3.10)\n",
      "Requirement already satisfied: sniffio>=1.1 in c:\\users\\kwj\\anaconda3\\envs\\vectordb\\lib\\site-packages (from anyio<5,>=3.6.2->starlette>=0.12.0->frontend) (1.3.1)\n",
      "Requirement already satisfied: colorama in c:\\users\\kwj\\anaconda3\\envs\\vectordb\\lib\\site-packages (from click>=7.0->uvicorn>=0.7.1->frontend) (0.4.6)\n",
      "Downloading frontend-0.0.3-py3-none-any.whl (32 kB)\n",
      "Downloading itsdangerous-2.2.0-py3-none-any.whl (16 kB)\n",
      "Downloading aiofiles-24.1.0-py3-none-any.whl (15 kB)\n",
      "Installing collected packages: itsdangerous, aiofiles, frontend\n",
      "Successfully installed aiofiles-24.1.0 frontend-0.0.3 itsdangerous-2.2.0\n"
     ]
    }
   ],
   "source": [
    "# !pip install fitz\n",
    "# !pip install datasets\n",
    "# !pip install frontend\n",
    "# !pip install pymupdf"
   ]
  },
  {
   "cell_type": "code",
   "execution_count": null,
   "metadata": {},
   "outputs": [
    {
     "name": "stderr",
     "output_type": "stream",
     "text": [
      "c:\\Users\\kwj\\anaconda3\\envs\\vectordb\\lib\\site-packages\\tqdm\\auto.py:21: TqdmWarning: IProgress not found. Please update jupyter and ipywidgets. See https://ipywidgets.readthedocs.io/en/stable/user_install.html\n",
      "  from .autonotebook import tqdm as notebook_tqdm\n"
     ]
    },
    {
     "ename": "RuntimeError",
     "evalue": "[enforce fail at alloc_cpu.cpp:115] data. DefaultCPUAllocator: not enough memory: you tried to allocate 13114450944 bytes.",
     "output_type": "error",
     "traceback": [
      "\u001b[1;31m---------------------------------------------------------------------------\u001b[0m",
      "\u001b[1;31mRuntimeError\u001b[0m                              Traceback (most recent call last)",
      "Cell \u001b[1;32mIn[3], line 79\u001b[0m\n\u001b[0;32m     75\u001b[0m \u001b[38;5;66;03m# print(file)\u001b[39;00m\n\u001b[0;32m     76\u001b[0m \n\u001b[0;32m     77\u001b[0m \u001b[38;5;66;03m# 6️⃣ 문서 임베딩 및 FAISS 벡터스토어 생성\u001b[39;00m\n\u001b[0;32m     78\u001b[0m texts \u001b[38;5;241m=\u001b[39m [doc\u001b[38;5;241m.\u001b[39mpage_content \u001b[38;5;28;01mfor\u001b[39;00m doc \u001b[38;5;129;01min\u001b[39;00m all_documents]\n\u001b[1;32m---> 79\u001b[0m embeddings \u001b[38;5;241m=\u001b[39m \u001b[43mget_embeddings\u001b[49m\u001b[43m(\u001b[49m\u001b[43mtexts\u001b[49m\u001b[43m)\u001b[49m  \u001b[38;5;66;03m# ⚡ KANANA 모델로 벡터 변환\u001b[39;00m\n\u001b[0;32m     80\u001b[0m faiss_index\u001b[38;5;241m.\u001b[39madd_vectors(embeddings, split_docs)\n\u001b[0;32m     82\u001b[0m all_documents\u001b[38;5;241m.\u001b[39mextend(split_docs)\n",
      "Cell \u001b[1;32mIn[3], line 26\u001b[0m, in \u001b[0;36mget_embeddings\u001b[1;34m(texts)\u001b[0m\n\u001b[0;32m     23\u001b[0m pool_mask \u001b[38;5;241m=\u001b[39m torch\u001b[38;5;241m.\u001b[39mones(inputs[\u001b[38;5;124m\"\u001b[39m\u001b[38;5;124minput_ids\u001b[39m\u001b[38;5;124m\"\u001b[39m]\u001b[38;5;241m.\u001b[39mshape, dtype\u001b[38;5;241m=\u001b[39mtorch\u001b[38;5;241m.\u001b[39mfloat)\n\u001b[0;32m     25\u001b[0m \u001b[38;5;28;01mwith\u001b[39;00m torch\u001b[38;5;241m.\u001b[39mno_grad():\n\u001b[1;32m---> 26\u001b[0m     outputs \u001b[38;5;241m=\u001b[39m model(\u001b[38;5;241m*\u001b[39m\u001b[38;5;241m*\u001b[39minputs, pool_mask\u001b[38;5;241m=\u001b[39mpool_mask)\n\u001b[0;32m     27\u001b[0m \u001b[38;5;28;01mreturn\u001b[39;00m outputs\u001b[38;5;241m.\u001b[39mlast_hidden_state[:, \u001b[38;5;241m0\u001b[39m, :]\u001b[38;5;241m.\u001b[39mnumpy()\n",
      "File \u001b[1;32mc:\\Users\\kwj\\anaconda3\\envs\\vectordb\\lib\\site-packages\\torch\\nn\\modules\\module.py:1739\u001b[0m, in \u001b[0;36mModule._wrapped_call_impl\u001b[1;34m(self, *args, **kwargs)\u001b[0m\n\u001b[0;32m   1737\u001b[0m     \u001b[38;5;28;01mreturn\u001b[39;00m \u001b[38;5;28mself\u001b[39m\u001b[38;5;241m.\u001b[39m_compiled_call_impl(\u001b[38;5;241m*\u001b[39margs, \u001b[38;5;241m*\u001b[39m\u001b[38;5;241m*\u001b[39mkwargs)  \u001b[38;5;66;03m# type: ignore[misc]\u001b[39;00m\n\u001b[0;32m   1738\u001b[0m \u001b[38;5;28;01melse\u001b[39;00m:\n\u001b[1;32m-> 1739\u001b[0m     \u001b[38;5;28;01mreturn\u001b[39;00m \u001b[38;5;28mself\u001b[39m\u001b[38;5;241m.\u001b[39m_call_impl(\u001b[38;5;241m*\u001b[39margs, \u001b[38;5;241m*\u001b[39m\u001b[38;5;241m*\u001b[39mkwargs)\n",
      "File \u001b[1;32mc:\\Users\\kwj\\anaconda3\\envs\\vectordb\\lib\\site-packages\\torch\\nn\\modules\\module.py:1750\u001b[0m, in \u001b[0;36mModule._call_impl\u001b[1;34m(self, *args, **kwargs)\u001b[0m\n\u001b[0;32m   1745\u001b[0m \u001b[38;5;66;03m# If we don't have any hooks, we want to skip the rest of the logic in\u001b[39;00m\n\u001b[0;32m   1746\u001b[0m \u001b[38;5;66;03m# this function, and just call forward.\u001b[39;00m\n\u001b[0;32m   1747\u001b[0m \u001b[38;5;28;01mif\u001b[39;00m \u001b[38;5;129;01mnot\u001b[39;00m (\u001b[38;5;28mself\u001b[39m\u001b[38;5;241m.\u001b[39m_backward_hooks \u001b[38;5;129;01mor\u001b[39;00m \u001b[38;5;28mself\u001b[39m\u001b[38;5;241m.\u001b[39m_backward_pre_hooks \u001b[38;5;129;01mor\u001b[39;00m \u001b[38;5;28mself\u001b[39m\u001b[38;5;241m.\u001b[39m_forward_hooks \u001b[38;5;129;01mor\u001b[39;00m \u001b[38;5;28mself\u001b[39m\u001b[38;5;241m.\u001b[39m_forward_pre_hooks\n\u001b[0;32m   1748\u001b[0m         \u001b[38;5;129;01mor\u001b[39;00m _global_backward_pre_hooks \u001b[38;5;129;01mor\u001b[39;00m _global_backward_hooks\n\u001b[0;32m   1749\u001b[0m         \u001b[38;5;129;01mor\u001b[39;00m _global_forward_hooks \u001b[38;5;129;01mor\u001b[39;00m _global_forward_pre_hooks):\n\u001b[1;32m-> 1750\u001b[0m     \u001b[38;5;28;01mreturn\u001b[39;00m forward_call(\u001b[38;5;241m*\u001b[39margs, \u001b[38;5;241m*\u001b[39m\u001b[38;5;241m*\u001b[39mkwargs)\n\u001b[0;32m   1752\u001b[0m result \u001b[38;5;241m=\u001b[39m \u001b[38;5;28;01mNone\u001b[39;00m\n\u001b[0;32m   1753\u001b[0m called_always_called_hooks \u001b[38;5;241m=\u001b[39m \u001b[38;5;28mset\u001b[39m()\n",
      "File \u001b[1;32m~\\.cache\\huggingface\\modules\\transformers_modules\\kakaocorp\\kanana-nano-2.1b-embedding\\a944ebfd59bcc9a366377ff29a5b4073c5cee1fe\\modeling_kanana2vec.py:187\u001b[0m, in \u001b[0;36mKanana2VecModel.forward\u001b[1;34m(self, input_ids, attention_mask, pool_mask, return_dict, **kwargs)\u001b[0m\n\u001b[0;32m    179\u001b[0m \u001b[38;5;28;01mdef\u001b[39;00m\u001b[38;5;250m \u001b[39m\u001b[38;5;21mforward\u001b[39m(\n\u001b[0;32m    180\u001b[0m         \u001b[38;5;28mself\u001b[39m,\n\u001b[0;32m    181\u001b[0m         input_ids: torch\u001b[38;5;241m.\u001b[39mTensor,\n\u001b[1;32m   (...)\u001b[0m\n\u001b[0;32m    185\u001b[0m         \u001b[38;5;241m*\u001b[39m\u001b[38;5;241m*\u001b[39mkwargs,\n\u001b[0;32m    186\u001b[0m     ):\n\u001b[1;32m--> 187\u001b[0m     last_hidden_states \u001b[38;5;241m=\u001b[39m \u001b[38;5;28;43mself\u001b[39;49m\u001b[38;5;241;43m.\u001b[39;49m\u001b[43mmodel\u001b[49m\u001b[43m(\u001b[49m\n\u001b[0;32m    188\u001b[0m \u001b[43m        \u001b[49m\u001b[43minput_ids\u001b[49m\u001b[38;5;241;43m=\u001b[39;49m\u001b[43minput_ids\u001b[49m\u001b[43m,\u001b[49m\n\u001b[0;32m    189\u001b[0m \u001b[43m        \u001b[49m\u001b[43mattention_mask\u001b[49m\u001b[38;5;241;43m=\u001b[39;49m\u001b[43mattention_mask\u001b[49m\u001b[43m,\u001b[49m\n\u001b[0;32m    190\u001b[0m \u001b[43m    \u001b[49m\u001b[43m)\u001b[49m\u001b[38;5;241m.\u001b[39mlast_hidden_state\n\u001b[0;32m    191\u001b[0m     pool_mask \u001b[38;5;241m=\u001b[39m pool_mask\u001b[38;5;241m.\u001b[39mto(last_hidden_states\u001b[38;5;241m.\u001b[39mdevice)\n\u001b[0;32m    192\u001b[0m     s \u001b[38;5;241m=\u001b[39m torch\u001b[38;5;241m.\u001b[39msum(last_hidden_states \u001b[38;5;241m*\u001b[39m pool_mask\u001b[38;5;241m.\u001b[39munsqueeze(\u001b[38;5;241m-\u001b[39m\u001b[38;5;241m1\u001b[39m)\u001b[38;5;241m.\u001b[39mfloat(), dim\u001b[38;5;241m=\u001b[39m\u001b[38;5;241m1\u001b[39m)\n",
      "File \u001b[1;32mc:\\Users\\kwj\\anaconda3\\envs\\vectordb\\lib\\site-packages\\torch\\nn\\modules\\module.py:1739\u001b[0m, in \u001b[0;36mModule._wrapped_call_impl\u001b[1;34m(self, *args, **kwargs)\u001b[0m\n\u001b[0;32m   1737\u001b[0m     \u001b[38;5;28;01mreturn\u001b[39;00m \u001b[38;5;28mself\u001b[39m\u001b[38;5;241m.\u001b[39m_compiled_call_impl(\u001b[38;5;241m*\u001b[39margs, \u001b[38;5;241m*\u001b[39m\u001b[38;5;241m*\u001b[39mkwargs)  \u001b[38;5;66;03m# type: ignore[misc]\u001b[39;00m\n\u001b[0;32m   1738\u001b[0m \u001b[38;5;28;01melse\u001b[39;00m:\n\u001b[1;32m-> 1739\u001b[0m     \u001b[38;5;28;01mreturn\u001b[39;00m \u001b[38;5;28mself\u001b[39m\u001b[38;5;241m.\u001b[39m_call_impl(\u001b[38;5;241m*\u001b[39margs, \u001b[38;5;241m*\u001b[39m\u001b[38;5;241m*\u001b[39mkwargs)\n",
      "File \u001b[1;32mc:\\Users\\kwj\\anaconda3\\envs\\vectordb\\lib\\site-packages\\torch\\nn\\modules\\module.py:1750\u001b[0m, in \u001b[0;36mModule._call_impl\u001b[1;34m(self, *args, **kwargs)\u001b[0m\n\u001b[0;32m   1745\u001b[0m \u001b[38;5;66;03m# If we don't have any hooks, we want to skip the rest of the logic in\u001b[39;00m\n\u001b[0;32m   1746\u001b[0m \u001b[38;5;66;03m# this function, and just call forward.\u001b[39;00m\n\u001b[0;32m   1747\u001b[0m \u001b[38;5;28;01mif\u001b[39;00m \u001b[38;5;129;01mnot\u001b[39;00m (\u001b[38;5;28mself\u001b[39m\u001b[38;5;241m.\u001b[39m_backward_hooks \u001b[38;5;129;01mor\u001b[39;00m \u001b[38;5;28mself\u001b[39m\u001b[38;5;241m.\u001b[39m_backward_pre_hooks \u001b[38;5;129;01mor\u001b[39;00m \u001b[38;5;28mself\u001b[39m\u001b[38;5;241m.\u001b[39m_forward_hooks \u001b[38;5;129;01mor\u001b[39;00m \u001b[38;5;28mself\u001b[39m\u001b[38;5;241m.\u001b[39m_forward_pre_hooks\n\u001b[0;32m   1748\u001b[0m         \u001b[38;5;129;01mor\u001b[39;00m _global_backward_pre_hooks \u001b[38;5;129;01mor\u001b[39;00m _global_backward_hooks\n\u001b[0;32m   1749\u001b[0m         \u001b[38;5;129;01mor\u001b[39;00m _global_forward_hooks \u001b[38;5;129;01mor\u001b[39;00m _global_forward_pre_hooks):\n\u001b[1;32m-> 1750\u001b[0m     \u001b[38;5;28;01mreturn\u001b[39;00m forward_call(\u001b[38;5;241m*\u001b[39margs, \u001b[38;5;241m*\u001b[39m\u001b[38;5;241m*\u001b[39mkwargs)\n\u001b[0;32m   1752\u001b[0m result \u001b[38;5;241m=\u001b[39m \u001b[38;5;28;01mNone\u001b[39;00m\n\u001b[0;32m   1753\u001b[0m called_always_called_hooks \u001b[38;5;241m=\u001b[39m \u001b[38;5;28mset\u001b[39m()\n",
      "File \u001b[1;32mc:\\Users\\kwj\\anaconda3\\envs\\vectordb\\lib\\site-packages\\transformers\\models\\llama\\modeling_llama.py:594\u001b[0m, in \u001b[0;36mLlamaModel.forward\u001b[1;34m(self, input_ids, attention_mask, position_ids, past_key_values, inputs_embeds, use_cache, output_attentions, output_hidden_states, return_dict, cache_position, **flash_attn_kwargs)\u001b[0m\n\u001b[0;32m    582\u001b[0m     layer_outputs \u001b[38;5;241m=\u001b[39m \u001b[38;5;28mself\u001b[39m\u001b[38;5;241m.\u001b[39m_gradient_checkpointing_func(\n\u001b[0;32m    583\u001b[0m         decoder_layer\u001b[38;5;241m.\u001b[39m\u001b[38;5;21m__call__\u001b[39m,\n\u001b[0;32m    584\u001b[0m         hidden_states,\n\u001b[1;32m   (...)\u001b[0m\n\u001b[0;32m    591\u001b[0m         position_embeddings,\n\u001b[0;32m    592\u001b[0m     )\n\u001b[0;32m    593\u001b[0m \u001b[38;5;28;01melse\u001b[39;00m:\n\u001b[1;32m--> 594\u001b[0m     layer_outputs \u001b[38;5;241m=\u001b[39m decoder_layer(\n\u001b[0;32m    595\u001b[0m         hidden_states,\n\u001b[0;32m    596\u001b[0m         attention_mask\u001b[38;5;241m=\u001b[39mcausal_mask,\n\u001b[0;32m    597\u001b[0m         position_ids\u001b[38;5;241m=\u001b[39mposition_ids,\n\u001b[0;32m    598\u001b[0m         past_key_value\u001b[38;5;241m=\u001b[39mpast_key_values,\n\u001b[0;32m    599\u001b[0m         output_attentions\u001b[38;5;241m=\u001b[39moutput_attentions,\n\u001b[0;32m    600\u001b[0m         use_cache\u001b[38;5;241m=\u001b[39muse_cache,\n\u001b[0;32m    601\u001b[0m         cache_position\u001b[38;5;241m=\u001b[39mcache_position,\n\u001b[0;32m    602\u001b[0m         position_embeddings\u001b[38;5;241m=\u001b[39mposition_embeddings,\n\u001b[0;32m    603\u001b[0m         \u001b[38;5;241m*\u001b[39m\u001b[38;5;241m*\u001b[39mflash_attn_kwargs,\n\u001b[0;32m    604\u001b[0m     )\n\u001b[0;32m    606\u001b[0m hidden_states \u001b[38;5;241m=\u001b[39m layer_outputs[\u001b[38;5;241m0\u001b[39m]\n\u001b[0;32m    608\u001b[0m \u001b[38;5;28;01mif\u001b[39;00m output_attentions:\n",
      "File \u001b[1;32mc:\\Users\\kwj\\anaconda3\\envs\\vectordb\\lib\\site-packages\\torch\\nn\\modules\\module.py:1739\u001b[0m, in \u001b[0;36mModule._wrapped_call_impl\u001b[1;34m(self, *args, **kwargs)\u001b[0m\n\u001b[0;32m   1737\u001b[0m     \u001b[38;5;28;01mreturn\u001b[39;00m \u001b[38;5;28mself\u001b[39m\u001b[38;5;241m.\u001b[39m_compiled_call_impl(\u001b[38;5;241m*\u001b[39margs, \u001b[38;5;241m*\u001b[39m\u001b[38;5;241m*\u001b[39mkwargs)  \u001b[38;5;66;03m# type: ignore[misc]\u001b[39;00m\n\u001b[0;32m   1738\u001b[0m \u001b[38;5;28;01melse\u001b[39;00m:\n\u001b[1;32m-> 1739\u001b[0m     \u001b[38;5;28;01mreturn\u001b[39;00m \u001b[38;5;28mself\u001b[39m\u001b[38;5;241m.\u001b[39m_call_impl(\u001b[38;5;241m*\u001b[39margs, \u001b[38;5;241m*\u001b[39m\u001b[38;5;241m*\u001b[39mkwargs)\n",
      "File \u001b[1;32mc:\\Users\\kwj\\anaconda3\\envs\\vectordb\\lib\\site-packages\\torch\\nn\\modules\\module.py:1750\u001b[0m, in \u001b[0;36mModule._call_impl\u001b[1;34m(self, *args, **kwargs)\u001b[0m\n\u001b[0;32m   1745\u001b[0m \u001b[38;5;66;03m# If we don't have any hooks, we want to skip the rest of the logic in\u001b[39;00m\n\u001b[0;32m   1746\u001b[0m \u001b[38;5;66;03m# this function, and just call forward.\u001b[39;00m\n\u001b[0;32m   1747\u001b[0m \u001b[38;5;28;01mif\u001b[39;00m \u001b[38;5;129;01mnot\u001b[39;00m (\u001b[38;5;28mself\u001b[39m\u001b[38;5;241m.\u001b[39m_backward_hooks \u001b[38;5;129;01mor\u001b[39;00m \u001b[38;5;28mself\u001b[39m\u001b[38;5;241m.\u001b[39m_backward_pre_hooks \u001b[38;5;129;01mor\u001b[39;00m \u001b[38;5;28mself\u001b[39m\u001b[38;5;241m.\u001b[39m_forward_hooks \u001b[38;5;129;01mor\u001b[39;00m \u001b[38;5;28mself\u001b[39m\u001b[38;5;241m.\u001b[39m_forward_pre_hooks\n\u001b[0;32m   1748\u001b[0m         \u001b[38;5;129;01mor\u001b[39;00m _global_backward_pre_hooks \u001b[38;5;129;01mor\u001b[39;00m _global_backward_hooks\n\u001b[0;32m   1749\u001b[0m         \u001b[38;5;129;01mor\u001b[39;00m _global_forward_hooks \u001b[38;5;129;01mor\u001b[39;00m _global_forward_pre_hooks):\n\u001b[1;32m-> 1750\u001b[0m     \u001b[38;5;28;01mreturn\u001b[39;00m forward_call(\u001b[38;5;241m*\u001b[39margs, \u001b[38;5;241m*\u001b[39m\u001b[38;5;241m*\u001b[39mkwargs)\n\u001b[0;32m   1752\u001b[0m result \u001b[38;5;241m=\u001b[39m \u001b[38;5;28;01mNone\u001b[39;00m\n\u001b[0;32m   1753\u001b[0m called_always_called_hooks \u001b[38;5;241m=\u001b[39m \u001b[38;5;28mset\u001b[39m()\n",
      "File \u001b[1;32mc:\\Users\\kwj\\anaconda3\\envs\\vectordb\\lib\\site-packages\\transformers\\models\\llama\\modeling_llama.py:352\u001b[0m, in \u001b[0;36mLlamaDecoderLayer.forward\u001b[1;34m(self, hidden_states, attention_mask, position_ids, past_key_value, output_attentions, use_cache, cache_position, position_embeddings, **kwargs)\u001b[0m\n\u001b[0;32m    350\u001b[0m residual \u001b[38;5;241m=\u001b[39m hidden_states\n\u001b[0;32m    351\u001b[0m hidden_states \u001b[38;5;241m=\u001b[39m \u001b[38;5;28mself\u001b[39m\u001b[38;5;241m.\u001b[39mpost_attention_layernorm(hidden_states)\n\u001b[1;32m--> 352\u001b[0m hidden_states \u001b[38;5;241m=\u001b[39m \u001b[38;5;28;43mself\u001b[39;49m\u001b[38;5;241;43m.\u001b[39;49m\u001b[43mmlp\u001b[49m\u001b[43m(\u001b[49m\u001b[43mhidden_states\u001b[49m\u001b[43m)\u001b[49m\n\u001b[0;32m    353\u001b[0m hidden_states \u001b[38;5;241m=\u001b[39m residual \u001b[38;5;241m+\u001b[39m hidden_states\n\u001b[0;32m    355\u001b[0m outputs \u001b[38;5;241m=\u001b[39m (hidden_states,)\n",
      "File \u001b[1;32mc:\\Users\\kwj\\anaconda3\\envs\\vectordb\\lib\\site-packages\\torch\\nn\\modules\\module.py:1739\u001b[0m, in \u001b[0;36mModule._wrapped_call_impl\u001b[1;34m(self, *args, **kwargs)\u001b[0m\n\u001b[0;32m   1737\u001b[0m     \u001b[38;5;28;01mreturn\u001b[39;00m \u001b[38;5;28mself\u001b[39m\u001b[38;5;241m.\u001b[39m_compiled_call_impl(\u001b[38;5;241m*\u001b[39margs, \u001b[38;5;241m*\u001b[39m\u001b[38;5;241m*\u001b[39mkwargs)  \u001b[38;5;66;03m# type: ignore[misc]\u001b[39;00m\n\u001b[0;32m   1738\u001b[0m \u001b[38;5;28;01melse\u001b[39;00m:\n\u001b[1;32m-> 1739\u001b[0m     \u001b[38;5;28;01mreturn\u001b[39;00m \u001b[38;5;28mself\u001b[39m\u001b[38;5;241m.\u001b[39m_call_impl(\u001b[38;5;241m*\u001b[39margs, \u001b[38;5;241m*\u001b[39m\u001b[38;5;241m*\u001b[39mkwargs)\n",
      "File \u001b[1;32mc:\\Users\\kwj\\anaconda3\\envs\\vectordb\\lib\\site-packages\\torch\\nn\\modules\\module.py:1750\u001b[0m, in \u001b[0;36mModule._call_impl\u001b[1;34m(self, *args, **kwargs)\u001b[0m\n\u001b[0;32m   1745\u001b[0m \u001b[38;5;66;03m# If we don't have any hooks, we want to skip the rest of the logic in\u001b[39;00m\n\u001b[0;32m   1746\u001b[0m \u001b[38;5;66;03m# this function, and just call forward.\u001b[39;00m\n\u001b[0;32m   1747\u001b[0m \u001b[38;5;28;01mif\u001b[39;00m \u001b[38;5;129;01mnot\u001b[39;00m (\u001b[38;5;28mself\u001b[39m\u001b[38;5;241m.\u001b[39m_backward_hooks \u001b[38;5;129;01mor\u001b[39;00m \u001b[38;5;28mself\u001b[39m\u001b[38;5;241m.\u001b[39m_backward_pre_hooks \u001b[38;5;129;01mor\u001b[39;00m \u001b[38;5;28mself\u001b[39m\u001b[38;5;241m.\u001b[39m_forward_hooks \u001b[38;5;129;01mor\u001b[39;00m \u001b[38;5;28mself\u001b[39m\u001b[38;5;241m.\u001b[39m_forward_pre_hooks\n\u001b[0;32m   1748\u001b[0m         \u001b[38;5;129;01mor\u001b[39;00m _global_backward_pre_hooks \u001b[38;5;129;01mor\u001b[39;00m _global_backward_hooks\n\u001b[0;32m   1749\u001b[0m         \u001b[38;5;129;01mor\u001b[39;00m _global_forward_hooks \u001b[38;5;129;01mor\u001b[39;00m _global_forward_pre_hooks):\n\u001b[1;32m-> 1750\u001b[0m     \u001b[38;5;28;01mreturn\u001b[39;00m forward_call(\u001b[38;5;241m*\u001b[39margs, \u001b[38;5;241m*\u001b[39m\u001b[38;5;241m*\u001b[39mkwargs)\n\u001b[0;32m   1752\u001b[0m result \u001b[38;5;241m=\u001b[39m \u001b[38;5;28;01mNone\u001b[39;00m\n\u001b[0;32m   1753\u001b[0m called_always_called_hooks \u001b[38;5;241m=\u001b[39m \u001b[38;5;28mset\u001b[39m()\n",
      "File \u001b[1;32mc:\\Users\\kwj\\anaconda3\\envs\\vectordb\\lib\\site-packages\\transformers\\models\\llama\\modeling_llama.py:190\u001b[0m, in \u001b[0;36mLlamaMLP.forward\u001b[1;34m(self, x)\u001b[0m\n\u001b[0;32m    189\u001b[0m \u001b[38;5;28;01mdef\u001b[39;00m\u001b[38;5;250m \u001b[39m\u001b[38;5;21mforward\u001b[39m(\u001b[38;5;28mself\u001b[39m, x):\n\u001b[1;32m--> 190\u001b[0m     down_proj \u001b[38;5;241m=\u001b[39m \u001b[38;5;28mself\u001b[39m\u001b[38;5;241m.\u001b[39mdown_proj(\u001b[38;5;28;43mself\u001b[39;49m\u001b[38;5;241;43m.\u001b[39;49m\u001b[43mact_fn\u001b[49m\u001b[43m(\u001b[49m\u001b[38;5;28;43mself\u001b[39;49m\u001b[38;5;241;43m.\u001b[39;49m\u001b[43mgate_proj\u001b[49m\u001b[43m(\u001b[49m\u001b[43mx\u001b[49m\u001b[43m)\u001b[49m\u001b[43m)\u001b[49m\u001b[43m \u001b[49m\u001b[38;5;241;43m*\u001b[39;49m\u001b[43m \u001b[49m\u001b[38;5;28;43mself\u001b[39;49m\u001b[38;5;241;43m.\u001b[39;49m\u001b[43mup_proj\u001b[49m\u001b[43m(\u001b[49m\u001b[43mx\u001b[49m\u001b[43m)\u001b[49m)\n\u001b[0;32m    191\u001b[0m     \u001b[38;5;28;01mreturn\u001b[39;00m down_proj\n",
      "\u001b[1;31mRuntimeError\u001b[0m: [enforce fail at alloc_cpu.cpp:115] data. DefaultCPUAllocator: not enough memory: you tried to allocate 13114450944 bytes."
     ]
    }
   ],
   "source": [
    "from langchain.vectorstores import FAISS\n",
    "from langchain.docstore.document import Document\n",
    "from langchain.text_splitter import RecursiveCharacterTextSplitter\n",
    "from transformers import AutoModel, AutoTokenizer\n",
    "import torch\n",
    "import pickle\n",
    "import fitz  # PyMuPDF\n",
    "\n",
    "# 1️⃣ 저장 경로 설정\n",
    "faiss_index_path = \"./faiss_index\"\n",
    "metadata_path = \"./documents.pkl\"\n",
    "pdf_path = \"./pdf_folder\"  # PDF 파일 경로\n",
    "\n",
    "# 2️⃣ Hugging Face 임베딩 모델 로드\n",
    "model_name = \"kakaocorp/kanana-nano-2.1b-embedding\"\n",
    "tokenizer = AutoTokenizer.from_pretrained(model_name, trust_remote_code=True)\n",
    "model = AutoModel.from_pretrained(model_name, trust_remote_code=True)\n",
    "\n",
    "def get_embeddings(texts):\n",
    "    \"\"\"주어진 텍스트 리스트를 임베딩 벡터로 변환\"\"\"\n",
    "    inputs = tokenizer(texts, padding=True, truncation=True, return_tensors=\"pt\", max_length=1000)\n",
    "    \n",
    "    pool_mask = torch.ones(inputs[\"input_ids\"].shape, dtype=torch.float)\n",
    "\n",
    "    with torch.no_grad():\n",
    "        outputs = model(**inputs, pool_mask=pool_mask)\n",
    "    return outputs.last_hidden_state[:, 0, :].numpy()  # CLS 토큰 벡터 사용\n",
    "\n",
    "# 3️⃣ 문서 리스트 가져오기\n",
    "all_documents = []  # 전체 문서를 저장할 리스트\n",
    "batch_size = 10\n",
    "# 4️⃣ PDF 문서 로드 & 전처리\n",
    "for file in file_list:\n",
    "    documents = []  # 현재 파일의 문서 리스트\n",
    "    file_path = path + '\\\\' + file\n",
    "    try:\n",
    "        loader = PyPDFLoader(file_path)\n",
    "        documents = loader.load()\n",
    "    except:\n",
    "        documents = []\n",
    "        file_path = path + '\\\\' + file\n",
    "        with fitz.open(file_path) as pdf:\n",
    "            metadata = pdf.metadata # PDF의 메타데이터 추출\n",
    "            \n",
    "            for page_num, page in enumerate(pdf):\n",
    "                page_text = page.get_text()\n",
    "                if \"MuPDF error:\" not in page_text:\n",
    "                    documents.append(Document(\n",
    "                        page_content=page_text,\n",
    "                        metadata={\n",
    "                            'producer': metadata.get('producer', ''),\n",
    "                            'creator': metadata.get('creator', ''),\n",
    "                            'creationdate': metadata.get('creationDate', ''),\n",
    "                            'title': metadata.get('title', ''),\n",
    "                            'author': metadata.get('author', ''),\n",
    "                            'moddate': metadata.get('modDate', ''),\n",
    "                            'pdfversion': metadata.get('pdfVersion', ''),\n",
    "                            'source': file_path,\n",
    "                            'total_pages': pdf.page_count,\n",
    "                            'page': page_num,\n",
    "                            'page_label': str(page_num + 1)\n",
    "                        }\n",
    "                    ))\n",
    "    # 줄바꿈 및 공백 정리 + 메타데이터 추가\n",
    "    for doc in documents:\n",
    "        doc.page_content = doc.page_content.replace(\"\\n\", \" \").replace(\"  \", \" \")\n",
    "        doc.metadata[\"source\"] = file\n",
    "\n",
    "    # 5️⃣ 문서 스플리팅\n",
    "    splitter = RecursiveCharacterTextSplitter(chunk_size=1000, chunk_overlap=500)\n",
    "    split_docs = splitter.split_documents(documents)\n",
    "\n",
    "    # ✅ 문서 리스트에 추가\n",
    "    all_documents.extend(split_docs)\n",
    "    # print(file)\n",
    "\n",
    "    # 6️⃣ 문서 임베딩 및 FAISS 벡터스토어 생성\n",
    "    texts = [doc.page_content for doc in all_documents]\n",
    "    embeddings = get_embeddings(texts)  # ⚡ KANANA 모델로 벡터 변환\n",
    "    faiss_index.add_vectors(embeddings, split_docs)\n",
    "\n",
    "    all_documents.extend(split_docs)\n",
    "    print(f\"✅ {file} 처리 완료!\")\n",
    "# faiss_index = FAISS.from_embeddings(embeddings, documents)\n",
    "faiss_index.save_local(faiss_index_path)  # FAISS 저장\n",
    "\n",
    "# 7️⃣ 문서 정보 저장 (이전 데이터 유지)\n",
    "try:\n",
    "    with open(metadata_path, \"rb\") as f:\n",
    "        existing_documents = pickle.load(f)\n",
    "except (FileNotFoundError, EOFError):\n",
    "    existing_documents = []\n",
    "\n",
    "existing_documents.extend(documents)\n",
    "\n",
    "with open(metadata_path, \"wb\") as f:\n",
    "    pickle.dump(existing_documents, f)\n",
    "\n"
   ]
  },
  {
   "cell_type": "code",
   "execution_count": null,
   "metadata": {},
   "outputs": [],
   "source": []
  }
 ],
 "metadata": {
  "kernelspec": {
   "display_name": "vectordb",
   "language": "python",
   "name": "python3"
  },
  "language_info": {
   "codemirror_mode": {
    "name": "ipython",
    "version": 3
   },
   "file_extension": ".py",
   "mimetype": "text/x-python",
   "name": "python",
   "nbconvert_exporter": "python",
   "pygments_lexer": "ipython3",
   "version": "3.10.16"
  }
 },
 "nbformat": 4,
 "nbformat_minor": 2
}
