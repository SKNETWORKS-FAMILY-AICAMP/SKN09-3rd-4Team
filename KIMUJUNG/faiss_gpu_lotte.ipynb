{
 "cells": [
  {
   "cell_type": "code",
   "execution_count": 1,
   "metadata": {},
   "outputs": [
    {
     "name": "stdout",
     "output_type": "stream",
     "text": [
      "/home/kwj/team_proj/faiss_2/bin/python3\n"
     ]
    }
   ],
   "source": [
    "import sys\n",
    "print(sys.executable)"
   ]
  },
  {
   "cell_type": "code",
   "execution_count": 2,
   "metadata": {},
   "outputs": [
    {
     "name": "stdout",
     "output_type": "stream",
     "text": [
      "3.8.20 (default, Sep  7 2024, 18:35:08) \n",
      "[GCC 11.4.0]\n"
     ]
    }
   ],
   "source": [
    "import sys\n",
    "print(sys.version)"
   ]
  },
  {
   "cell_type": "code",
   "execution_count": 7,
   "metadata": {
    "collapsed": true,
    "jupyter": {
     "outputs_hidden": true
    }
   },
   "outputs": [
    {
     "name": "stdout",
     "output_type": "stream",
     "text": [
      "Requirement already satisfied: fitz in ./lib/python3.8/site-packages (0.0.1.dev2)\n",
      "Collecting frontend\n",
      "  Downloading frontend-0.0.3-py3-none-any.whl.metadata (847 bytes)\n",
      "Collecting pymupdf\n",
      "  Downloading PyMuPDF-1.24.11-cp38-abi3-manylinux2014_x86_64.manylinux_2_17_x86_64.whl.metadata (3.4 kB)\n",
      "Requirement already satisfied: configobj in ./lib/python3.8/site-packages (from fitz) (5.0.9)\n",
      "Requirement already satisfied: configparser in ./lib/python3.8/site-packages (from fitz) (7.1.0)\n",
      "Requirement already satisfied: httplib2 in ./lib/python3.8/site-packages (from fitz) (0.22.0)\n",
      "Requirement already satisfied: nibabel in ./lib/python3.8/site-packages (from fitz) (5.2.1)\n",
      "Requirement already satisfied: nipype in ./lib/python3.8/site-packages (from fitz) (1.8.6)\n",
      "Requirement already satisfied: numpy in ./lib/python3.8/site-packages (from fitz) (1.24.4)\n",
      "Requirement already satisfied: pandas in ./lib/python3.8/site-packages (from fitz) (2.0.3)\n",
      "Requirement already satisfied: pyxnat in ./lib/python3.8/site-packages (from fitz) (1.6.3)\n",
      "Requirement already satisfied: scipy in ./lib/python3.8/site-packages (from fitz) (1.10.1)\n",
      "Collecting starlette>=0.12.0 (from frontend)\n",
      "  Downloading starlette-0.44.0-py3-none-any.whl.metadata (6.3 kB)\n",
      "Collecting uvicorn>=0.7.1 (from frontend)\n",
      "  Downloading uvicorn-0.33.0-py3-none-any.whl.metadata (6.6 kB)\n",
      "Collecting itsdangerous>=1.1.0 (from frontend)\n",
      "  Downloading itsdangerous-2.2.0-py3-none-any.whl.metadata (1.9 kB)\n",
      "Collecting aiofiles (from frontend)\n",
      "  Downloading aiofiles-24.1.0-py3-none-any.whl.metadata (10 kB)\n",
      "Requirement already satisfied: anyio<5,>=3.4.0 in ./lib/python3.8/site-packages (from starlette>=0.12.0->frontend) (4.5.2)\n",
      "Requirement already satisfied: typing-extensions>=3.10.0 in ./lib/python3.8/site-packages (from starlette>=0.12.0->frontend) (4.12.2)\n",
      "Requirement already satisfied: click>=7.0 in ./lib/python3.8/site-packages (from uvicorn>=0.7.1->frontend) (8.1.8)\n",
      "Requirement already satisfied: h11>=0.8 in ./lib/python3.8/site-packages (from uvicorn>=0.7.1->frontend) (0.14.0)\n",
      "Requirement already satisfied: pyparsing!=3.0.0,!=3.0.1,!=3.0.2,!=3.0.3,<4,>=2.4.2 in ./lib/python3.8/site-packages (from httplib2->fitz) (3.1.4)\n",
      "Requirement already satisfied: importlib-resources>=1.3 in ./lib/python3.8/site-packages (from nibabel->fitz) (6.4.5)\n",
      "Requirement already satisfied: packaging>=17 in ./lib/python3.8/site-packages (from nibabel->fitz) (24.2)\n",
      "Requirement already satisfied: networkx>=2.0 in ./lib/python3.8/site-packages (from nipype->fitz) (3.1)\n",
      "Requirement already satisfied: prov>=1.5.2 in ./lib/python3.8/site-packages (from nipype->fitz) (2.0.1)\n",
      "Requirement already satisfied: pydot>=1.2.3 in ./lib/python3.8/site-packages (from nipype->fitz) (3.0.4)\n",
      "Requirement already satisfied: python-dateutil>=2.2 in ./lib/python3.8/site-packages (from nipype->fitz) (2.9.0.post0)\n",
      "Requirement already satisfied: rdflib>=5.0.0 in ./lib/python3.8/site-packages (from nipype->fitz) (6.3.2)\n",
      "Requirement already satisfied: simplejson>=3.8.0 in ./lib/python3.8/site-packages (from nipype->fitz) (3.20.1)\n",
      "Requirement already satisfied: traits!=5.0,<6.4,>=4.6 in ./lib/python3.8/site-packages (from nipype->fitz) (6.3.2)\n",
      "Requirement already satisfied: filelock>=3.0.0 in ./lib/python3.8/site-packages (from nipype->fitz) (3.16.1)\n",
      "Requirement already satisfied: etelemetry>=0.2.0 in ./lib/python3.8/site-packages (from nipype->fitz) (0.3.1)\n",
      "Requirement already satisfied: looseversion in ./lib/python3.8/site-packages (from nipype->fitz) (1.3.0)\n",
      "Requirement already satisfied: pytz>=2020.1 in ./lib/python3.8/site-packages (from pandas->fitz) (2025.1)\n",
      "Requirement already satisfied: tzdata>=2022.1 in ./lib/python3.8/site-packages (from pandas->fitz) (2025.1)\n",
      "Requirement already satisfied: lxml>=4.3 in ./lib/python3.8/site-packages (from pyxnat->fitz) (5.3.1)\n",
      "Requirement already satisfied: requests>=2.20 in ./lib/python3.8/site-packages (from pyxnat->fitz) (2.32.3)\n",
      "Requirement already satisfied: pathlib>=1.0 in ./lib/python3.8/site-packages (from pyxnat->fitz) (1.0.1)\n",
      "Requirement already satisfied: idna>=2.8 in ./lib/python3.8/site-packages (from anyio<5,>=3.4.0->starlette>=0.12.0->frontend) (3.10)\n",
      "Requirement already satisfied: sniffio>=1.1 in ./lib/python3.8/site-packages (from anyio<5,>=3.4.0->starlette>=0.12.0->frontend) (1.3.1)\n",
      "Requirement already satisfied: exceptiongroup>=1.0.2 in ./lib/python3.8/site-packages (from anyio<5,>=3.4.0->starlette>=0.12.0->frontend) (1.2.2)\n",
      "Requirement already satisfied: ci-info>=0.2 in ./lib/python3.8/site-packages (from etelemetry>=0.2.0->nipype->fitz) (0.3.0)\n",
      "Requirement already satisfied: zipp>=3.1.0 in ./lib/python3.8/site-packages (from importlib-resources>=1.3->nibabel->fitz) (3.20.2)\n",
      "Requirement already satisfied: six>=1.5 in ./lib/python3.8/site-packages (from python-dateutil>=2.2->nipype->fitz) (1.17.0)\n",
      "Requirement already satisfied: isodate<0.7.0,>=0.6.0 in ./lib/python3.8/site-packages (from rdflib>=5.0.0->nipype->fitz) (0.6.1)\n",
      "Requirement already satisfied: charset-normalizer<4,>=2 in ./lib/python3.8/site-packages (from requests>=2.20->pyxnat->fitz) (3.4.1)\n",
      "Requirement already satisfied: urllib3<3,>=1.21.1 in ./lib/python3.8/site-packages (from requests>=2.20->pyxnat->fitz) (2.2.3)\n",
      "Requirement already satisfied: certifi>=2017.4.17 in ./lib/python3.8/site-packages (from requests>=2.20->pyxnat->fitz) (2025.1.31)\n",
      "Downloading frontend-0.0.3-py3-none-any.whl (32 kB)\n",
      "Downloading PyMuPDF-1.24.11-cp38-abi3-manylinux2014_x86_64.manylinux_2_17_x86_64.whl (19.6 MB)\n",
      "\u001b[2K   \u001b[38;2;114;156;31m━━━━━━━━━━━━━━━━━━━━━━━━━━━━━━━━━━━━━━━━\u001b[0m \u001b[32m19.6/19.6 MB\u001b[0m \u001b[31m11.0 MB/s\u001b[0m eta \u001b[36m0:00:00\u001b[0m MB/s\u001b[0m eta \u001b[36m0:00:01\u001b[0m:01\u001b[0m\n",
      "\u001b[?25hDownloading itsdangerous-2.2.0-py3-none-any.whl (16 kB)\n",
      "Downloading starlette-0.44.0-py3-none-any.whl (73 kB)\n",
      "Downloading uvicorn-0.33.0-py3-none-any.whl (62 kB)\n",
      "Downloading aiofiles-24.1.0-py3-none-any.whl (15 kB)\n",
      "Installing collected packages: uvicorn, pymupdf, itsdangerous, aiofiles, starlette, frontend\n",
      "Successfully installed aiofiles-24.1.0 frontend-0.0.3 itsdangerous-2.2.0 pymupdf-1.24.11 starlette-0.44.0 uvicorn-0.33.0\n"
     ]
    }
   ],
   "source": [
    "!pip install fitz frontend pymupdf"
   ]
  },
  {
   "cell_type": "code",
   "execution_count": 7,
   "metadata": {},
   "outputs": [
    {
     "name": "stdout",
     "output_type": "stream",
     "text": [
      "Collecting pypdf\n",
      "  Downloading pypdf-5.4.0-py3-none-any.whl.metadata (7.3 kB)\n",
      "Requirement already satisfied: typing_extensions>=4.0 in ./lib/python3.8/site-packages (from pypdf) (4.12.2)\n",
      "Downloading pypdf-5.4.0-py3-none-any.whl (302 kB)\n",
      "Installing collected packages: pypdf\n",
      "Successfully installed pypdf-5.4.0\n"
     ]
    }
   ],
   "source": [
    "!pip install pypdf"
   ]
  },
  {
   "cell_type": "code",
   "execution_count": 1,
   "metadata": {
    "collapsed": true,
    "jupyter": {
     "outputs_hidden": true
    },
    "scrolled": true
   },
   "outputs": [
    {
     "name": "stdout",
     "output_type": "stream",
     "text": [
      "Collecting numpy\n",
      "  Downloading numpy-1.24.4-cp38-cp38-manylinux_2_17_x86_64.manylinux2014_x86_64.whl.metadata (5.6 kB)\n",
      "Collecting dotenv\n",
      "  Using cached dotenv-0.9.9-py2.py3-none-any.whl.metadata (279 bytes)\n",
      "Collecting langchain\n",
      "  Downloading langchain-0.2.17-py3-none-any.whl.metadata (7.1 kB)\n",
      "Collecting torch\n",
      "  Downloading torch-2.4.1-cp38-cp38-manylinux1_x86_64.whl.metadata (26 kB)\n",
      "Collecting langchain_community\n",
      "  Downloading langchain_community-0.2.19-py3-none-any.whl.metadata (2.7 kB)\n",
      "Collecting transformers\n",
      "  Downloading transformers-4.46.3-py3-none-any.whl.metadata (44 kB)\n",
      "Collecting datasets\n",
      "  Downloading datasets-3.1.0-py3-none-any.whl.metadata (20 kB)\n",
      "Collecting python-dotenv (from dotenv)\n",
      "  Using cached python_dotenv-1.0.1-py3-none-any.whl.metadata (23 kB)\n",
      "Collecting PyYAML>=5.3 (from langchain)\n",
      "  Downloading PyYAML-6.0.2-cp38-cp38-manylinux_2_17_x86_64.manylinux2014_x86_64.whl.metadata (2.1 kB)\n",
      "Collecting SQLAlchemy<3,>=1.4 (from langchain)\n",
      "  Downloading SQLAlchemy-2.0.39-cp38-cp38-manylinux_2_17_x86_64.manylinux2014_x86_64.whl.metadata (9.7 kB)\n",
      "Collecting aiohttp<4.0.0,>=3.8.3 (from langchain)\n",
      "  Downloading aiohttp-3.10.11-cp38-cp38-manylinux_2_17_x86_64.manylinux2014_x86_64.whl.metadata (7.7 kB)\n",
      "Collecting async-timeout<5.0.0,>=4.0.0 (from langchain)\n",
      "  Using cached async_timeout-4.0.3-py3-none-any.whl.metadata (4.2 kB)\n",
      "Collecting langchain-core<0.3.0,>=0.2.43 (from langchain)\n",
      "  Downloading langchain_core-0.2.43-py3-none-any.whl.metadata (6.2 kB)\n",
      "Collecting langchain-text-splitters<0.3.0,>=0.2.0 (from langchain)\n",
      "  Downloading langchain_text_splitters-0.2.4-py3-none-any.whl.metadata (2.3 kB)\n",
      "Collecting langsmith<0.2.0,>=0.1.17 (from langchain)\n",
      "  Downloading langsmith-0.1.147-py3-none-any.whl.metadata (14 kB)\n",
      "Collecting pydantic<3,>=1 (from langchain)\n",
      "  Using cached pydantic-2.10.6-py3-none-any.whl.metadata (30 kB)\n",
      "Collecting requests<3,>=2 (from langchain)\n",
      "  Using cached requests-2.32.3-py3-none-any.whl.metadata (4.6 kB)\n",
      "Collecting tenacity!=8.4.0,<9.0.0,>=8.1.0 (from langchain)\n",
      "  Downloading tenacity-8.5.0-py3-none-any.whl.metadata (1.2 kB)\n",
      "Collecting filelock (from torch)\n",
      "  Downloading filelock-3.16.1-py3-none-any.whl.metadata (2.9 kB)\n",
      "Collecting typing-extensions>=4.8.0 (from torch)\n",
      "  Using cached typing_extensions-4.12.2-py3-none-any.whl.metadata (3.0 kB)\n",
      "Collecting sympy (from torch)\n",
      "  Downloading sympy-1.13.3-py3-none-any.whl.metadata (12 kB)\n",
      "Collecting networkx (from torch)\n",
      "  Downloading networkx-3.1-py3-none-any.whl.metadata (5.3 kB)\n",
      "Collecting jinja2 (from torch)\n",
      "  Using cached jinja2-3.1.6-py3-none-any.whl.metadata (2.9 kB)\n",
      "Collecting fsspec (from torch)\n",
      "  Using cached fsspec-2025.3.0-py3-none-any.whl.metadata (11 kB)\n",
      "Collecting nvidia-cuda-nvrtc-cu12==12.1.105 (from torch)\n",
      "  Downloading nvidia_cuda_nvrtc_cu12-12.1.105-py3-none-manylinux1_x86_64.whl.metadata (1.5 kB)\n",
      "Collecting nvidia-cuda-runtime-cu12==12.1.105 (from torch)\n",
      "  Downloading nvidia_cuda_runtime_cu12-12.1.105-py3-none-manylinux1_x86_64.whl.metadata (1.5 kB)\n",
      "Collecting nvidia-cuda-cupti-cu12==12.1.105 (from torch)\n",
      "  Downloading nvidia_cuda_cupti_cu12-12.1.105-py3-none-manylinux1_x86_64.whl.metadata (1.6 kB)\n",
      "Collecting nvidia-cudnn-cu12==9.1.0.70 (from torch)\n",
      "  Using cached nvidia_cudnn_cu12-9.1.0.70-py3-none-manylinux2014_x86_64.whl.metadata (1.6 kB)\n",
      "Collecting nvidia-cublas-cu12==12.1.3.1 (from torch)\n",
      "  Downloading nvidia_cublas_cu12-12.1.3.1-py3-none-manylinux1_x86_64.whl.metadata (1.5 kB)\n",
      "Collecting nvidia-cufft-cu12==11.0.2.54 (from torch)\n",
      "  Downloading nvidia_cufft_cu12-11.0.2.54-py3-none-manylinux1_x86_64.whl.metadata (1.5 kB)\n",
      "Collecting nvidia-curand-cu12==10.3.2.106 (from torch)\n",
      "  Downloading nvidia_curand_cu12-10.3.2.106-py3-none-manylinux1_x86_64.whl.metadata (1.5 kB)\n",
      "Collecting nvidia-cusolver-cu12==11.4.5.107 (from torch)\n",
      "  Downloading nvidia_cusolver_cu12-11.4.5.107-py3-none-manylinux1_x86_64.whl.metadata (1.6 kB)\n",
      "Collecting nvidia-cusparse-cu12==12.1.0.106 (from torch)\n",
      "  Downloading nvidia_cusparse_cu12-12.1.0.106-py3-none-manylinux1_x86_64.whl.metadata (1.6 kB)\n",
      "Collecting nvidia-nccl-cu12==2.20.5 (from torch)\n",
      "  Downloading nvidia_nccl_cu12-2.20.5-py3-none-manylinux2014_x86_64.whl.metadata (1.8 kB)\n",
      "Collecting nvidia-nvtx-cu12==12.1.105 (from torch)\n",
      "  Downloading nvidia_nvtx_cu12-12.1.105-py3-none-manylinux1_x86_64.whl.metadata (1.7 kB)\n",
      "Collecting triton==3.0.0 (from torch)\n",
      "  Downloading triton-3.0.0-1-cp38-cp38-manylinux2014_x86_64.manylinux_2_17_x86_64.whl.metadata (1.3 kB)\n",
      "Collecting nvidia-nvjitlink-cu12 (from nvidia-cusolver-cu12==11.4.5.107->torch)\n",
      "  Downloading nvidia_nvjitlink_cu12-12.8.93-py3-none-manylinux2010_x86_64.manylinux_2_12_x86_64.whl.metadata (1.7 kB)\n",
      "Collecting dataclasses-json<0.7,>=0.5.7 (from langchain_community)\n",
      "  Using cached dataclasses_json-0.6.7-py3-none-any.whl.metadata (25 kB)\n",
      "Collecting huggingface-hub<1.0,>=0.23.2 (from transformers)\n",
      "  Using cached huggingface_hub-0.29.3-py3-none-any.whl.metadata (13 kB)\n",
      "Collecting packaging>=20.0 (from transformers)\n",
      "  Using cached packaging-24.2-py3-none-any.whl.metadata (3.2 kB)\n",
      "Collecting regex!=2019.12.17 (from transformers)\n",
      "  Downloading regex-2024.11.6-cp38-cp38-manylinux_2_17_x86_64.manylinux2014_x86_64.whl.metadata (40 kB)\n",
      "Collecting tokenizers<0.21,>=0.20 (from transformers)\n",
      "  Downloading tokenizers-0.20.3-cp38-cp38-manylinux_2_17_x86_64.manylinux2014_x86_64.whl.metadata (6.7 kB)\n",
      "Collecting safetensors>=0.4.1 (from transformers)\n",
      "  Using cached safetensors-0.5.3-cp38-abi3-manylinux_2_17_x86_64.manylinux2014_x86_64.whl.metadata (3.8 kB)\n",
      "Collecting tqdm>=4.27 (from transformers)\n",
      "  Using cached tqdm-4.67.1-py3-none-any.whl.metadata (57 kB)\n",
      "Collecting pyarrow>=15.0.0 (from datasets)\n",
      "  Downloading pyarrow-17.0.0-cp38-cp38-manylinux_2_28_x86_64.whl.metadata (3.3 kB)\n",
      "Collecting dill<0.3.9,>=0.3.0 (from datasets)\n",
      "  Using cached dill-0.3.8-py3-none-any.whl.metadata (10 kB)\n",
      "Collecting pandas (from datasets)\n",
      "  Downloading pandas-2.0.3-cp38-cp38-manylinux_2_17_x86_64.manylinux2014_x86_64.whl.metadata (18 kB)\n",
      "Collecting xxhash (from datasets)\n",
      "  Downloading xxhash-3.5.0-cp38-cp38-manylinux_2_17_x86_64.manylinux2014_x86_64.whl.metadata (12 kB)\n",
      "Collecting multiprocess<0.70.17 (from datasets)\n",
      "  Downloading multiprocess-0.70.16-py38-none-any.whl.metadata (7.1 kB)\n",
      "Collecting fsspec (from torch)\n",
      "  Downloading fsspec-2024.9.0-py3-none-any.whl.metadata (11 kB)\n",
      "Collecting aiohappyeyeballs>=2.3.0 (from aiohttp<4.0.0,>=3.8.3->langchain)\n",
      "  Downloading aiohappyeyeballs-2.4.4-py3-none-any.whl.metadata (6.1 kB)\n",
      "Collecting aiosignal>=1.1.2 (from aiohttp<4.0.0,>=3.8.3->langchain)\n",
      "  Downloading aiosignal-1.3.1-py3-none-any.whl.metadata (4.0 kB)\n",
      "Collecting attrs>=17.3.0 (from aiohttp<4.0.0,>=3.8.3->langchain)\n",
      "  Using cached attrs-25.3.0-py3-none-any.whl.metadata (10 kB)\n",
      "Collecting frozenlist>=1.1.1 (from aiohttp<4.0.0,>=3.8.3->langchain)\n",
      "  Downloading frozenlist-1.5.0-cp38-cp38-manylinux_2_5_x86_64.manylinux1_x86_64.manylinux_2_17_x86_64.manylinux2014_x86_64.whl.metadata (13 kB)\n",
      "Collecting multidict<7.0,>=4.5 (from aiohttp<4.0.0,>=3.8.3->langchain)\n",
      "  Downloading multidict-6.1.0-cp38-cp38-manylinux_2_17_x86_64.manylinux2014_x86_64.whl.metadata (5.0 kB)\n",
      "Collecting yarl<2.0,>=1.12.0 (from aiohttp<4.0.0,>=3.8.3->langchain)\n",
      "  Downloading yarl-1.15.2-cp38-cp38-manylinux_2_17_x86_64.manylinux2014_x86_64.whl.metadata (56 kB)\n",
      "Collecting marshmallow<4.0.0,>=3.18.0 (from dataclasses-json<0.7,>=0.5.7->langchain_community)\n",
      "  Downloading marshmallow-3.22.0-py3-none-any.whl.metadata (7.2 kB)\n",
      "Collecting typing-inspect<1,>=0.4.0 (from dataclasses-json<0.7,>=0.5.7->langchain_community)\n",
      "  Using cached typing_inspect-0.9.0-py3-none-any.whl.metadata (1.5 kB)\n",
      "Collecting jsonpatch<2.0,>=1.33 (from langchain-core<0.3.0,>=0.2.43->langchain)\n",
      "  Using cached jsonpatch-1.33-py2.py3-none-any.whl.metadata (3.0 kB)\n",
      "Collecting httpx<1,>=0.23.0 (from langsmith<0.2.0,>=0.1.17->langchain)\n",
      "  Using cached httpx-0.28.1-py3-none-any.whl.metadata (7.1 kB)\n",
      "Collecting orjson<4.0.0,>=3.9.14 (from langsmith<0.2.0,>=0.1.17->langchain)\n",
      "  Downloading orjson-3.10.15-cp38-cp38-manylinux_2_17_x86_64.manylinux2014_x86_64.whl.metadata (41 kB)\n",
      "Collecting requests-toolbelt<2.0.0,>=1.0.0 (from langsmith<0.2.0,>=0.1.17->langchain)\n",
      "  Using cached requests_toolbelt-1.0.0-py2.py3-none-any.whl.metadata (14 kB)\n",
      "Collecting annotated-types>=0.6.0 (from pydantic<3,>=1->langchain)\n",
      "  Using cached annotated_types-0.7.0-py3-none-any.whl.metadata (15 kB)\n",
      "Collecting pydantic-core==2.27.2 (from pydantic<3,>=1->langchain)\n",
      "  Downloading pydantic_core-2.27.2-cp38-cp38-manylinux_2_17_x86_64.manylinux2014_x86_64.whl.metadata (6.6 kB)\n",
      "Collecting charset-normalizer<4,>=2 (from requests<3,>=2->langchain)\n",
      "  Downloading charset_normalizer-3.4.1-cp38-cp38-manylinux_2_17_x86_64.manylinux2014_x86_64.whl.metadata (35 kB)\n",
      "Collecting idna<4,>=2.5 (from requests<3,>=2->langchain)\n",
      "  Using cached idna-3.10-py3-none-any.whl.metadata (10 kB)\n",
      "Collecting urllib3<3,>=1.21.1 (from requests<3,>=2->langchain)\n",
      "  Downloading urllib3-2.2.3-py3-none-any.whl.metadata (6.5 kB)\n",
      "Collecting certifi>=2017.4.17 (from requests<3,>=2->langchain)\n",
      "  Using cached certifi-2025.1.31-py3-none-any.whl.metadata (2.5 kB)\n",
      "Collecting greenlet!=0.4.17 (from SQLAlchemy<3,>=1.4->langchain)\n",
      "  Downloading greenlet-3.1.1-cp38-cp38-manylinux_2_24_x86_64.manylinux_2_28_x86_64.whl.metadata (3.8 kB)\n",
      "Collecting MarkupSafe>=2.0 (from jinja2->torch)\n",
      "  Downloading MarkupSafe-2.1.5-cp38-cp38-manylinux_2_17_x86_64.manylinux2014_x86_64.whl.metadata (3.0 kB)\n",
      "Collecting python-dateutil>=2.8.2 (from pandas->datasets)\n",
      "  Using cached python_dateutil-2.9.0.post0-py2.py3-none-any.whl.metadata (8.4 kB)\n",
      "Collecting pytz>=2020.1 (from pandas->datasets)\n",
      "  Using cached pytz-2025.1-py2.py3-none-any.whl.metadata (22 kB)\n",
      "Collecting tzdata>=2022.1 (from pandas->datasets)\n",
      "  Using cached tzdata-2025.1-py2.py3-none-any.whl.metadata (1.4 kB)\n",
      "Collecting mpmath<1.4,>=1.1.0 (from sympy->torch)\n",
      "  Using cached mpmath-1.3.0-py3-none-any.whl.metadata (8.6 kB)\n",
      "Collecting anyio (from httpx<1,>=0.23.0->langsmith<0.2.0,>=0.1.17->langchain)\n",
      "  Downloading anyio-4.5.2-py3-none-any.whl.metadata (4.7 kB)\n",
      "Collecting httpcore==1.* (from httpx<1,>=0.23.0->langsmith<0.2.0,>=0.1.17->langchain)\n",
      "  Using cached httpcore-1.0.7-py3-none-any.whl.metadata (21 kB)\n",
      "Collecting h11<0.15,>=0.13 (from httpcore==1.*->httpx<1,>=0.23.0->langsmith<0.2.0,>=0.1.17->langchain)\n",
      "  Using cached h11-0.14.0-py3-none-any.whl.metadata (8.2 kB)\n",
      "Collecting jsonpointer>=1.9 (from jsonpatch<2.0,>=1.33->langchain-core<0.3.0,>=0.2.43->langchain)\n",
      "  Using cached jsonpointer-3.0.0-py2.py3-none-any.whl.metadata (2.3 kB)\n",
      "Collecting six>=1.5 (from python-dateutil>=2.8.2->pandas->datasets)\n",
      "  Using cached six-1.17.0-py2.py3-none-any.whl.metadata (1.7 kB)\n",
      "Collecting mypy-extensions>=0.3.0 (from typing-inspect<1,>=0.4.0->dataclasses-json<0.7,>=0.5.7->langchain_community)\n",
      "  Using cached mypy_extensions-1.0.0-py3-none-any.whl.metadata (1.1 kB)\n",
      "Collecting propcache>=0.2.0 (from yarl<2.0,>=1.12.0->aiohttp<4.0.0,>=3.8.3->langchain)\n",
      "  Downloading propcache-0.2.0-cp38-cp38-manylinux_2_17_x86_64.manylinux2014_x86_64.whl.metadata (7.7 kB)\n",
      "Collecting sniffio>=1.1 (from anyio->httpx<1,>=0.23.0->langsmith<0.2.0,>=0.1.17->langchain)\n",
      "  Using cached sniffio-1.3.1-py3-none-any.whl.metadata (3.9 kB)\n",
      "Collecting exceptiongroup>=1.0.2 (from anyio->httpx<1,>=0.23.0->langsmith<0.2.0,>=0.1.17->langchain)\n",
      "  Using cached exceptiongroup-1.2.2-py3-none-any.whl.metadata (6.6 kB)\n",
      "Downloading numpy-1.24.4-cp38-cp38-manylinux_2_17_x86_64.manylinux2014_x86_64.whl (17.3 MB)\n",
      "\u001b[2K   \u001b[38;2;114;156;31m━━━━━━━━━━━━━━━━━━━━━━━━━━━━━━━━━━━━━━━━\u001b[0m \u001b[32m17.3/17.3 MB\u001b[0m \u001b[31m12.2 MB/s\u001b[0m eta \u001b[36m0:00:00\u001b[0mm eta \u001b[36m0:00:01\u001b[0m[36m0:00:01\u001b[0m\n",
      "\u001b[?25hUsing cached dotenv-0.9.9-py2.py3-none-any.whl (1.9 kB)\n",
      "Downloading langchain-0.2.17-py3-none-any.whl (1.0 MB)\n",
      "\u001b[2K   \u001b[38;2;114;156;31m━━━━━━━━━━━━━━━━━━━━━━━━━━━━━━━━━━━━━━━━\u001b[0m \u001b[32m1.0/1.0 MB\u001b[0m \u001b[31m9.2 MB/s\u001b[0m eta \u001b[36m0:00:00\u001b[0m\n",
      "\u001b[?25hDownloading torch-2.4.1-cp38-cp38-manylinux1_x86_64.whl (797.1 MB)\n",
      "\u001b[2K   \u001b[38;2;114;156;31m━━━━━━━━━━━━━━━━━━━━━━━━━━━━━━━━━━━━━━━━\u001b[0m \u001b[32m797.1/797.1 MB\u001b[0m \u001b[31m12.2 MB/s\u001b[0m eta \u001b[36m0:00:00\u001b[0mm eta \u001b[36m0:00:01\u001b[0m[36m0:00:02\u001b[0m\n",
      "\u001b[?25hDownloading nvidia_cublas_cu12-12.1.3.1-py3-none-manylinux1_x86_64.whl (410.6 MB)\n",
      "\u001b[2K   \u001b[38;2;114;156;31m━━━━━━━━━━━━━━━━━━━━━━━━━━━━━━━━━━━━━━━━\u001b[0m \u001b[32m410.6/410.6 MB\u001b[0m \u001b[31m12.6 MB/s\u001b[0m eta \u001b[36m0:00:00\u001b[0mm eta \u001b[36m0:00:01\u001b[0m[36m0:00:01\u001b[0m\n",
      "\u001b[?25hDownloading nvidia_cuda_cupti_cu12-12.1.105-py3-none-manylinux1_x86_64.whl (14.1 MB)\n",
      "\u001b[2K   \u001b[38;2;114;156;31m━━━━━━━━━━━━━━━━━━━━━━━━━━━━━━━━━━━━━━━━\u001b[0m \u001b[32m14.1/14.1 MB\u001b[0m \u001b[31m12.3 MB/s\u001b[0m eta \u001b[36m0:00:00\u001b[0m31m12.6 MB/s\u001b[0m eta \u001b[36m0:00:01\u001b[0m\n",
      "\u001b[?25hDownloading nvidia_cuda_nvrtc_cu12-12.1.105-py3-none-manylinux1_x86_64.whl (23.7 MB)\n",
      "\u001b[2K   \u001b[38;2;114;156;31m━━━━━━━━━━━━━━━━━━━━━━━━━━━━━━━━━━━━━━━━\u001b[0m \u001b[32m23.7/23.7 MB\u001b[0m \u001b[31m12.7 MB/s\u001b[0m eta \u001b[36m0:00:00\u001b[0m31m12.9 MB/s\u001b[0m eta \u001b[36m0:00:01\u001b[0m\n",
      "\u001b[?25hDownloading nvidia_cuda_runtime_cu12-12.1.105-py3-none-manylinux1_x86_64.whl (823 kB)\n",
      "\u001b[2K   \u001b[38;2;114;156;31m━━━━━━━━━━━━━━━━━━━━━━━━━━━━━━━━━━━━━━━━\u001b[0m \u001b[32m823.6/823.6 kB\u001b[0m \u001b[31m9.8 MB/s\u001b[0m eta \u001b[36m0:00:00\u001b[0m\n",
      "\u001b[?25hUsing cached nvidia_cudnn_cu12-9.1.0.70-py3-none-manylinux2014_x86_64.whl (664.8 MB)\n",
      "Downloading nvidia_cufft_cu12-11.0.2.54-py3-none-manylinux1_x86_64.whl (121.6 MB)\n",
      "\u001b[2K   \u001b[38;2;114;156;31m━━━━━━━━━━━━━━━━━━━━━━━━━━━━━━━━━━━━━━━━\u001b[0m \u001b[32m121.6/121.6 MB\u001b[0m \u001b[31m12.5 MB/s\u001b[0m eta \u001b[36m0:00:00\u001b[0mm eta \u001b[36m0:00:01\u001b[0m[36m0:00:01\u001b[0m\n",
      "\u001b[?25hDownloading nvidia_curand_cu12-10.3.2.106-py3-none-manylinux1_x86_64.whl (56.5 MB)\n",
      "\u001b[2K   \u001b[38;2;114;156;31m━━━━━━━━━━━━━━━━━━━━━━━━━━━━━━━━━━━━━━━━\u001b[0m \u001b[32m56.5/56.5 MB\u001b[0m \u001b[31m12.7 MB/s\u001b[0m eta \u001b[36m0:00:00\u001b[0mm eta \u001b[36m0:00:01\u001b[0m[36m0:00:01\u001b[0m\n",
      "\u001b[?25hDownloading nvidia_cusolver_cu12-11.4.5.107-py3-none-manylinux1_x86_64.whl (124.2 MB)\n",
      "\u001b[2K   \u001b[38;2;114;156;31m━━━━━━━━━━━━━━━━━━━━━━━━━━━━━━━━━━━━━━━━\u001b[0m \u001b[32m124.2/124.2 MB\u001b[0m \u001b[31m12.5 MB/s\u001b[0m eta \u001b[36m0:00:00\u001b[0mm eta \u001b[36m0:00:01\u001b[0m[36m0:00:01\u001b[0m\n",
      "\u001b[?25hDownloading nvidia_cusparse_cu12-12.1.0.106-py3-none-manylinux1_x86_64.whl (196.0 MB)\n",
      "\u001b[2K   \u001b[38;2;114;156;31m━━━━━━━━━━━━━━━━━━━━━━━━━━━━━━━━━━━━━━━━\u001b[0m \u001b[32m196.0/196.0 MB\u001b[0m \u001b[31m11.3 MB/s\u001b[0m eta \u001b[36m0:00:00\u001b[0mm eta \u001b[36m0:00:01\u001b[0m[36m0:00:01\u001b[0m\n",
      "\u001b[?25hDownloading nvidia_nccl_cu12-2.20.5-py3-none-manylinux2014_x86_64.whl (176.2 MB)\n",
      "\u001b[2K   \u001b[38;2;114;156;31m━━━━━━━━━━━━━━━━━━━━━━━━━━━━━━━━━━━━━━━━\u001b[0m \u001b[32m176.2/176.2 MB\u001b[0m \u001b[31m10.3 MB/s\u001b[0m eta \u001b[36m0:00:00\u001b[0mm eta \u001b[36m0:00:01\u001b[0m[36m0:00:01\u001b[0m\n",
      "\u001b[?25hDownloading nvidia_nvtx_cu12-12.1.105-py3-none-manylinux1_x86_64.whl (99 kB)\n",
      "Downloading triton-3.0.0-1-cp38-cp38-manylinux2014_x86_64.manylinux_2_17_x86_64.whl (209.4 MB)\n",
      "\u001b[2K   \u001b[38;2;114;156;31m━━━━━━━━━━━━━━━━━━━━━━━━━━━━━━━━━━━━━━━━\u001b[0m \u001b[32m209.4/209.4 MB\u001b[0m \u001b[31m12.6 MB/s\u001b[0m eta \u001b[36m0:00:00\u001b[0mm eta \u001b[36m0:00:01\u001b[0m[36m0:00:01\u001b[0m\n",
      "\u001b[?25hDownloading langchain_community-0.2.19-py3-none-any.whl (2.3 MB)\n",
      "\u001b[2K   \u001b[38;2;114;156;31m━━━━━━━━━━━━━━━━━━━━━━━━━━━━━━━━━━━━━━━━\u001b[0m \u001b[32m2.3/2.3 MB\u001b[0m \u001b[31m11.3 MB/s\u001b[0m eta \u001b[36m0:00:00\u001b[0m31m12.2 MB/s\u001b[0m eta \u001b[36m0:00:01\u001b[0m\n",
      "\u001b[?25hDownloading transformers-4.46.3-py3-none-any.whl (10.0 MB)\n",
      "\u001b[2K   \u001b[38;2;114;156;31m━━━━━━━━━━━━━━━━━━━━━━━━━━━━━━━━━━━━━━━━\u001b[0m \u001b[32m10.0/10.0 MB\u001b[0m \u001b[31m12.0 MB/s\u001b[0m eta \u001b[36m0:00:00\u001b[0m1m12.3 MB/s\u001b[0m eta \u001b[36m0:00:01\u001b[0m\n",
      "\u001b[?25hDownloading datasets-3.1.0-py3-none-any.whl (480 kB)\n",
      "Downloading aiohttp-3.10.11-cp38-cp38-manylinux_2_17_x86_64.manylinux2014_x86_64.whl (1.3 MB)\n",
      "\u001b[2K   \u001b[38;2;114;156;31m━━━━━━━━━━━━━━━━━━━━━━━━━━━━━━━━━━━━━━━━\u001b[0m \u001b[32m1.3/1.3 MB\u001b[0m \u001b[31m9.7 MB/s\u001b[0m eta \u001b[36m0:00:00\u001b[0m\n",
      "\u001b[?25hUsing cached async_timeout-4.0.3-py3-none-any.whl (5.7 kB)\n",
      "Using cached dataclasses_json-0.6.7-py3-none-any.whl (28 kB)\n",
      "Using cached dill-0.3.8-py3-none-any.whl (116 kB)\n",
      "Downloading fsspec-2024.9.0-py3-none-any.whl (179 kB)\n",
      "Using cached huggingface_hub-0.29.3-py3-none-any.whl (468 kB)\n",
      "Downloading langchain_core-0.2.43-py3-none-any.whl (397 kB)\n",
      "Downloading langchain_text_splitters-0.2.4-py3-none-any.whl (25 kB)\n",
      "Downloading langsmith-0.1.147-py3-none-any.whl (311 kB)\n",
      "Downloading multiprocess-0.70.16-py38-none-any.whl (132 kB)\n",
      "Using cached packaging-24.2-py3-none-any.whl (65 kB)\n",
      "Downloading pyarrow-17.0.0-cp38-cp38-manylinux_2_28_x86_64.whl (40.0 MB)\n",
      "\u001b[2K   \u001b[38;2;114;156;31m━━━━━━━━━━━━━━━━━━━━━━━━━━━━━━━━━━━━━━━━\u001b[0m \u001b[32m40.0/40.0 MB\u001b[0m \u001b[31m12.3 MB/s\u001b[0m eta \u001b[36m0:00:00\u001b[0mm eta \u001b[36m0:00:01\u001b[0m[36m0:00:01\u001b[0m\n",
      "\u001b[?25hUsing cached pydantic-2.10.6-py3-none-any.whl (431 kB)\n",
      "Downloading pydantic_core-2.27.2-cp38-cp38-manylinux_2_17_x86_64.manylinux2014_x86_64.whl (2.0 MB)\n",
      "\u001b[2K   \u001b[38;2;114;156;31m━━━━━━━━━━━━━━━━━━━━━━━━━━━━━━━━━━━━━━━━\u001b[0m \u001b[32m2.0/2.0 MB\u001b[0m \u001b[31m11.8 MB/s\u001b[0m eta \u001b[36m0:00:00\u001b[0m\n",
      "\u001b[?25hDownloading PyYAML-6.0.2-cp38-cp38-manylinux_2_17_x86_64.manylinux2014_x86_64.whl (746 kB)\n",
      "\u001b[2K   \u001b[38;2;114;156;31m━━━━━━━━━━━━━━━━━━━━━━━━━━━━━━━━━━━━━━━━\u001b[0m \u001b[32m746.5/746.5 kB\u001b[0m \u001b[31m9.6 MB/s\u001b[0m eta \u001b[36m0:00:00\u001b[0m\n",
      "\u001b[?25hDownloading regex-2024.11.6-cp38-cp38-manylinux_2_17_x86_64.manylinux2014_x86_64.whl (785 kB)\n",
      "\u001b[2K   \u001b[38;2;114;156;31m━━━━━━━━━━━━━━━━━━━━━━━━━━━━━━━━━━━━━━━━\u001b[0m \u001b[32m785.1/785.1 kB\u001b[0m \u001b[31m9.9 MB/s\u001b[0m eta \u001b[36m0:00:00\u001b[0m\n",
      "\u001b[?25hUsing cached requests-2.32.3-py3-none-any.whl (64 kB)\n",
      "Using cached safetensors-0.5.3-cp38-abi3-manylinux_2_17_x86_64.manylinux2014_x86_64.whl (471 kB)\n",
      "Downloading SQLAlchemy-2.0.39-cp38-cp38-manylinux_2_17_x86_64.manylinux2014_x86_64.whl (3.1 MB)\n",
      "\u001b[2K   \u001b[38;2;114;156;31m━━━━━━━━━━━━━━━━━━━━━━━━━━━━━━━━━━━━━━━━\u001b[0m \u001b[32m3.1/3.1 MB\u001b[0m \u001b[31m11.9 MB/s\u001b[0m eta \u001b[36m0:00:00\u001b[0m MB/s\u001b[0m eta \u001b[36m0:00:01\u001b[0m\n",
      "\u001b[?25hDownloading tenacity-8.5.0-py3-none-any.whl (28 kB)\n",
      "Downloading tokenizers-0.20.3-cp38-cp38-manylinux_2_17_x86_64.manylinux2014_x86_64.whl (3.0 MB)\n",
      "\u001b[2K   \u001b[38;2;114;156;31m━━━━━━━━━━━━━━━━━━━━━━━━━━━━━━━━━━━━━━━━\u001b[0m \u001b[32m3.0/3.0 MB\u001b[0m \u001b[31m11.7 MB/s\u001b[0m eta \u001b[36m0:00:00\u001b[0m MB/s\u001b[0m eta \u001b[36m0:00:01\u001b[0m\n",
      "\u001b[?25hUsing cached tqdm-4.67.1-py3-none-any.whl (78 kB)\n",
      "Using cached typing_extensions-4.12.2-py3-none-any.whl (37 kB)\n",
      "Downloading filelock-3.16.1-py3-none-any.whl (16 kB)\n",
      "Using cached jinja2-3.1.6-py3-none-any.whl (134 kB)\n",
      "Downloading networkx-3.1-py3-none-any.whl (2.1 MB)\n",
      "\u001b[2K   \u001b[38;2;114;156;31m━━━━━━━━━━━━━━━━━━━━━━━━━━━━━━━━━━━━━━━━\u001b[0m \u001b[32m2.1/2.1 MB\u001b[0m \u001b[31m12.0 MB/s\u001b[0m eta \u001b[36m0:00:00\u001b[0m\n",
      "\u001b[?25hDownloading pandas-2.0.3-cp38-cp38-manylinux_2_17_x86_64.manylinux2014_x86_64.whl (12.4 MB)\n",
      "\u001b[2K   \u001b[38;2;114;156;31m━━━━━━━━━━━━━━━━━━━━━━━━━━━━━━━━━━━━━━━━\u001b[0m \u001b[32m12.4/12.4 MB\u001b[0m \u001b[31m12.7 MB/s\u001b[0m eta \u001b[36m0:00:00\u001b[0m MB/s\u001b[0m eta \u001b[36m0:00:01\u001b[0m01\u001b[0m\n",
      "\u001b[?25hUsing cached python_dotenv-1.0.1-py3-none-any.whl (19 kB)\n",
      "Downloading sympy-1.13.3-py3-none-any.whl (6.2 MB)\n",
      "\u001b[2K   \u001b[38;2;114;156;31m━━━━━━━━━━━━━━━━━━━━━━━━━━━━━━━━━━━━━━━━\u001b[0m \u001b[32m6.2/6.2 MB\u001b[0m \u001b[31m12.5 MB/s\u001b[0m eta \u001b[36m0:00:00\u001b[0m MB/s\u001b[0m eta \u001b[36m0:00:01\u001b[0m\n",
      "\u001b[?25hDownloading xxhash-3.5.0-cp38-cp38-manylinux_2_17_x86_64.manylinux2014_x86_64.whl (194 kB)\n",
      "Downloading aiohappyeyeballs-2.4.4-py3-none-any.whl (14 kB)\n",
      "Downloading aiosignal-1.3.1-py3-none-any.whl (7.6 kB)\n",
      "Using cached annotated_types-0.7.0-py3-none-any.whl (13 kB)\n",
      "Using cached attrs-25.3.0-py3-none-any.whl (63 kB)\n",
      "Using cached certifi-2025.1.31-py3-none-any.whl (166 kB)\n",
      "Downloading charset_normalizer-3.4.1-cp38-cp38-manylinux_2_17_x86_64.manylinux2014_x86_64.whl (144 kB)\n",
      "Downloading frozenlist-1.5.0-cp38-cp38-manylinux_2_5_x86_64.manylinux1_x86_64.manylinux_2_17_x86_64.manylinux2014_x86_64.whl (243 kB)\n",
      "Downloading greenlet-3.1.1-cp38-cp38-manylinux_2_24_x86_64.manylinux_2_28_x86_64.whl (605 kB)\n",
      "\u001b[2K   \u001b[38;2;114;156;31m━━━━━━━━━━━━━━━━━━━━━━━━━━━━━━━━━━━━━━━━\u001b[0m \u001b[32m606.0/606.0 kB\u001b[0m \u001b[31m7.1 MB/s\u001b[0m eta \u001b[36m0:00:00\u001b[0m\n",
      "\u001b[?25hUsing cached httpx-0.28.1-py3-none-any.whl (73 kB)\n",
      "Using cached httpcore-1.0.7-py3-none-any.whl (78 kB)\n",
      "Using cached idna-3.10-py3-none-any.whl (70 kB)\n",
      "Using cached jsonpatch-1.33-py2.py3-none-any.whl (12 kB)\n",
      "Downloading MarkupSafe-2.1.5-cp38-cp38-manylinux_2_17_x86_64.manylinux2014_x86_64.whl (26 kB)\n",
      "Downloading marshmallow-3.22.0-py3-none-any.whl (49 kB)\n",
      "Using cached mpmath-1.3.0-py3-none-any.whl (536 kB)\n",
      "Downloading multidict-6.1.0-cp38-cp38-manylinux_2_17_x86_64.manylinux2014_x86_64.whl (129 kB)\n",
      "Downloading orjson-3.10.15-cp38-cp38-manylinux_2_17_x86_64.manylinux2014_x86_64.whl (130 kB)\n",
      "Using cached python_dateutil-2.9.0.post0-py2.py3-none-any.whl (229 kB)\n",
      "Using cached pytz-2025.1-py2.py3-none-any.whl (507 kB)\n",
      "Using cached requests_toolbelt-1.0.0-py2.py3-none-any.whl (54 kB)\n",
      "Using cached typing_inspect-0.9.0-py3-none-any.whl (8.8 kB)\n",
      "Using cached tzdata-2025.1-py2.py3-none-any.whl (346 kB)\n",
      "Downloading urllib3-2.2.3-py3-none-any.whl (126 kB)\n",
      "Downloading yarl-1.15.2-cp38-cp38-manylinux_2_17_x86_64.manylinux2014_x86_64.whl (319 kB)\n",
      "Downloading nvidia_nvjitlink_cu12-12.8.93-py3-none-manylinux2010_x86_64.manylinux_2_12_x86_64.whl (39.3 MB)\n",
      "\u001b[2K   \u001b[38;2;114;156;31m━━━━━━━━━━━━━━━━━━━━━━━━━━━━━━━━━━━━━━━━\u001b[0m \u001b[32m39.3/39.3 MB\u001b[0m \u001b[31m12.8 MB/s\u001b[0m eta \u001b[36m0:00:00\u001b[0mm eta \u001b[36m0:00:01\u001b[0m0:01\u001b[0m:01\u001b[0m\n",
      "\u001b[?25hUsing cached jsonpointer-3.0.0-py2.py3-none-any.whl (7.6 kB)\n",
      "Using cached mypy_extensions-1.0.0-py3-none-any.whl (4.7 kB)\n",
      "Downloading propcache-0.2.0-cp38-cp38-manylinux_2_17_x86_64.manylinux2014_x86_64.whl (213 kB)\n",
      "Using cached six-1.17.0-py2.py3-none-any.whl (11 kB)\n",
      "Downloading anyio-4.5.2-py3-none-any.whl (89 kB)\n",
      "Using cached exceptiongroup-1.2.2-py3-none-any.whl (16 kB)\n",
      "Using cached h11-0.14.0-py3-none-any.whl (58 kB)\n",
      "Using cached sniffio-1.3.1-py3-none-any.whl (10 kB)\n",
      "Installing collected packages: pytz, mpmath, xxhash, urllib3, tzdata, typing-extensions, tqdm, tenacity, sympy, sniffio, six, safetensors, regex, PyYAML, python-dotenv, propcache, packaging, orjson, nvidia-nvtx-cu12, nvidia-nvjitlink-cu12, nvidia-nccl-cu12, nvidia-curand-cu12, nvidia-cufft-cu12, nvidia-cuda-runtime-cu12, nvidia-cuda-nvrtc-cu12, nvidia-cuda-cupti-cu12, nvidia-cublas-cu12, numpy, networkx, mypy-extensions, MarkupSafe, jsonpointer, idna, h11, greenlet, fsspec, frozenlist, filelock, exceptiongroup, dill, charset-normalizer, certifi, attrs, async-timeout, aiohappyeyeballs, typing-inspect, triton, SQLAlchemy, requests, python-dateutil, pydantic-core, pyarrow, nvidia-cusparse-cu12, nvidia-cudnn-cu12, multiprocess, multidict, marshmallow, jsonpatch, jinja2, httpcore, dotenv, anyio, annotated-types, aiosignal, yarl, requests-toolbelt, pydantic, pandas, nvidia-cusolver-cu12, huggingface-hub, httpx, dataclasses-json, torch, tokenizers, langsmith, aiohttp, transformers, langchain-core, langchain-text-splitters, datasets, langchain, langchain_community\n",
      "Successfully installed MarkupSafe-2.1.5 PyYAML-6.0.2 SQLAlchemy-2.0.39 aiohappyeyeballs-2.4.4 aiohttp-3.10.11 aiosignal-1.3.1 annotated-types-0.7.0 anyio-4.5.2 async-timeout-4.0.3 attrs-25.3.0 certifi-2025.1.31 charset-normalizer-3.4.1 dataclasses-json-0.6.7 datasets-3.1.0 dill-0.3.8 dotenv-0.9.9 exceptiongroup-1.2.2 filelock-3.16.1 frozenlist-1.5.0 fsspec-2024.9.0 greenlet-3.1.1 h11-0.14.0 httpcore-1.0.7 httpx-0.28.1 huggingface-hub-0.29.3 idna-3.10 jinja2-3.1.6 jsonpatch-1.33 jsonpointer-3.0.0 langchain-0.2.17 langchain-core-0.2.43 langchain-text-splitters-0.2.4 langchain_community-0.2.19 langsmith-0.1.147 marshmallow-3.22.0 mpmath-1.3.0 multidict-6.1.0 multiprocess-0.70.16 mypy-extensions-1.0.0 networkx-3.1 numpy-1.24.4 nvidia-cublas-cu12-12.1.3.1 nvidia-cuda-cupti-cu12-12.1.105 nvidia-cuda-nvrtc-cu12-12.1.105 nvidia-cuda-runtime-cu12-12.1.105 nvidia-cudnn-cu12-9.1.0.70 nvidia-cufft-cu12-11.0.2.54 nvidia-curand-cu12-10.3.2.106 nvidia-cusolver-cu12-11.4.5.107 nvidia-cusparse-cu12-12.1.0.106 nvidia-nccl-cu12-2.20.5 nvidia-nvjitlink-cu12-12.8.93 nvidia-nvtx-cu12-12.1.105 orjson-3.10.15 packaging-24.2 pandas-2.0.3 propcache-0.2.0 pyarrow-17.0.0 pydantic-2.10.6 pydantic-core-2.27.2 python-dateutil-2.9.0.post0 python-dotenv-1.0.1 pytz-2025.1 regex-2024.11.6 requests-2.32.3 requests-toolbelt-1.0.0 safetensors-0.5.3 six-1.17.0 sniffio-1.3.1 sympy-1.13.3 tenacity-8.5.0 tokenizers-0.20.3 torch-2.4.1 tqdm-4.67.1 transformers-4.46.3 triton-3.0.0 typing-extensions-4.12.2 typing-inspect-0.9.0 tzdata-2025.1 urllib3-2.2.3 xxhash-3.5.0 yarl-1.15.2\n"
     ]
    }
   ],
   "source": [
    "!pip install numpy dotenv langchain torch langchain_community transformers datasets"
   ]
  },
  {
   "cell_type": "code",
   "execution_count": 10,
   "metadata": {},
   "outputs": [
    {
     "name": "stdout",
     "output_type": "stream",
     "text": [
      "Collecting pybind11\n",
      "  Downloading pybind11-2.13.6-py3-none-any.whl.metadata (9.5 kB)\n",
      "Downloading pybind11-2.13.6-py3-none-any.whl (243 kB)\n",
      "Installing collected packages: pybind11\n",
      "Successfully installed pybind11-2.13.6\n",
      "\u001b[33mWARNING: Skipping faiss-gpu as it is not installed.\u001b[0m\u001b[33m\n",
      "\u001b[0mCollecting faiss-gpu\n",
      "  Downloading faiss_gpu-1.7.2-cp38-cp38-manylinux_2_17_x86_64.manylinux2014_x86_64.whl.metadata (1.4 kB)\n",
      "Downloading faiss_gpu-1.7.2-cp38-cp38-manylinux_2_17_x86_64.manylinux2014_x86_64.whl (85.5 MB)\n",
      "\u001b[2K   \u001b[38;2;114;156;31m━━━━━━━━━━━━━━━━━━━━━━━━━━━━━━━━━━━━━━━━\u001b[0m \u001b[32m85.5/85.5 MB\u001b[0m \u001b[31m12.1 MB/s\u001b[0m eta \u001b[36m0:00:00\u001b[0mm eta \u001b[36m0:00:01\u001b[0m[36m0:00:01\u001b[0m\n",
      "\u001b[?25hInstalling collected packages: faiss-gpu\n",
      "Successfully installed faiss-gpu-1.7.2\n"
     ]
    }
   ],
   "source": [
    "!pip install --upgrade pybind11\n",
    "!pip uninstall faiss-gpu\n",
    "!pip install faiss-gpu"
   ]
  },
  {
   "cell_type": "code",
   "execution_count": 15,
   "metadata": {},
   "outputs": [
    {
     "name": "stdout",
     "output_type": "stream",
     "text": [
      "Found existing installation: numpy 1.24.4\n",
      "Uninstalling numpy-1.24.4:\n",
      "  Would remove:\n",
      "    /home/kwj/team_proj/faiss_2/bin/f2py\n",
      "    /home/kwj/team_proj/faiss_2/bin/f2py3\n",
      "    /home/kwj/team_proj/faiss_2/bin/f2py3.8\n",
      "    /home/kwj/team_proj/faiss_2/lib/python3.8/site-packages/numpy-1.24.4.dist-info/*\n",
      "    /home/kwj/team_proj/faiss_2/lib/python3.8/site-packages/numpy.libs/libgfortran-040039e1.so.5.0.0\n",
      "    /home/kwj/team_proj/faiss_2/lib/python3.8/site-packages/numpy.libs/libopenblas64_p-r0-15028c96.3.21.so\n",
      "    /home/kwj/team_proj/faiss_2/lib/python3.8/site-packages/numpy.libs/libquadmath-96973f99.so.0.0.0\n",
      "    /home/kwj/team_proj/faiss_2/lib/python3.8/site-packages/numpy/*\n",
      "Proceed (Y/n)? ^C\n",
      "\u001b[31mERROR: Operation cancelled by user\u001b[0m\u001b[31m\n",
      "\u001b[0mRequirement already satisfied: numpy<2 in ./lib/python3.8/site-packages (1.24.4)\n"
     ]
    }
   ],
   "source": [
    "!pip uninstall numpy\n",
    "!pip install \"numpy<2\""
   ]
  },
  {
   "cell_type": "code",
   "execution_count": 3,
   "metadata": {},
   "outputs": [
    {
     "name": "stdout",
     "output_type": "stream",
     "text": [
      "1.24.4\n"
     ]
    }
   ],
   "source": [
    "import numpy as np\n",
    "print(np.__version__)"
   ]
  },
  {
   "cell_type": "code",
   "execution_count": 4,
   "metadata": {},
   "outputs": [
    {
     "data": {
      "text/plain": [
       "True"
      ]
     },
     "execution_count": 4,
     "metadata": {},
     "output_type": "execute_result"
    }
   ],
   "source": [
    "from dotenv import load_dotenv\n",
    "load_dotenv()"
   ]
  },
  {
   "cell_type": "code",
   "execution_count": 5,
   "metadata": {
    "scrolled": true
   },
   "outputs": [
    {
     "name": "stdout",
     "output_type": "stream",
     "text": [
      "file_list: ['일반_let safe 팬덤안심 상해보험.pdf', '일반_let safe 골프보험.pdf', '일반_let safe 주택화재보험Ⅱ.pdf', '공동인수_영업용 자동차보험(공동).pdf', '상해,질병_(무) let care 실손의료보험Ⅳ(개인 단체연계용)(2501).pdf', '상해,질병_(무) 암보험(2502).pdf', '이륜차_let way 이륜자동차보험.pdf', '일반_let safe 레저상해보험.pdf', '상해,질병_(무) let smile 종합건강보험(더끌림 포우먼)(2501) 1~2종.pdf', '일반_let safe 시민안전보험.pdf', '개인용_let click 개인용자동차보험(인터넷).pdf', '일반_let safe 원게임골프보험.pdf', '상해,질병_(무) 미니암보험(2404).pdf', '상해,질병_(무) 입원비보험(2409).pdf', '일반_let discover 국내여행보험Ⅱ.pdf', '업무용_let way 업무용법인소유자동차보험.pdf', '일반_let safe 실손의료보험(해외여행).pdf', '상해,질병_(무) let simple 간편311 건강보험(2501).pdf', '연금보험_let care 연금저축손해보험Ⅰ(2401).pdf', '상해,질병_(무) let play 종합건강보험(토닥토닥)(2501).pdf', '일반_let safe 실손의료보험(국내여행).pdf', '기타_let way 자동차취급업자종합보험.pdf', '일반_주택 임차보증금반환 민사소송 및 강제집행 변호사선임비용 보장보험.pdf', '상해,질병_(무) 직장인보험(2501).pdf', '제도성특약_4세대 실손의료비보장 계약전환제도(2021) 특별약관.pdf', '운전자_(무) 운전자보험(2501).pdf', '일반_let safe 주택화재보험.pdf', '상해,질병_(무) let smile 종합건강보험(더채움 베이직)(2501).pdf', '일반_let safe 상해보험.pdf', '일반_let safe 제품보증연장보험(간단손해보험대리점).pdf', '상해,질병_(무) let smile 종합건강보험(더끌림 포맨)(2501).pdf', '운전면허교습생_let way 운전면허교습생자동차보험.pdf', '일반_let discover 해외여행보험Ⅱ.pdf', '일반_let safe 펫보험.pdf', '일반_let click 운전자보험.pdf', '제도성특약_장기요양등급 변경적용 특별약관.pdf', '상해,질병_(무) let care 단체보험(2501).pdf', '일반_let safe 안심화재종합보험.pdf', '상해,질병_(무) let click 실손의료보험Ⅳ(계약전환용)(2501).pdf', '공동인수_업무용 자동차보험(공동).pdf', '일반_let safe 휴대폰보험.pdf', '일반_let safe 타이어교체보험.pdf', '일반_let safe 가정종합보험.pdf', '일반_let safe 제품보증연장보험.pdf', '제도성특약_연금저축보험 계약이전수수료 면제 특별약관.pdf', '일반_let discover 국내여행보험.pdf', '상해,질병_(무) let play 1540종합보험(10플러스)(2501).pdf', '상해,질병_(무) let care 노후실손의료보험Ⅱ(2501).pdf', '상해,질병_(무) let simple 간편325 건강보험(라이트)(2404).pdf', '일반_let safe 도난보험Ⅱ.pdf', '상해,질병_(무) 의료진보험(2404).pdf', '상해,질병_(무) 청소년보험(2409).pdf', '상해,질병_(무) let simple 간편355 간병보험(for VIP)(2404).pdf', '개인용_let way 개인용자동차보험.pdf', '일반_let discover 해외여행보험.pdf', '상해,질병_(무) 미니뇌심보험(2404).pdf', '상해,질병_(무) let care 간병보험Ⅱ(2501).pdf', '일반_let safe 롯데카드회원여행보험.pdf', '일반_let safe 군인보험.pdf', '업무용_let way 업무용개인소유자동차보험.pdf', '일반_let discover 국내여행보험Ⅲ.pdf', '업무용_let click 업무용법인소유자동차보험(인터넷).pdf', '일반_let click 해외여행보험Ⅲ.pdf', '농기계_let way 농기계보험.pdf', '제도성특약_군장병 실손의료보험 중지 및 재개 특별약관.pdf', '운전자_let way 운전자보험.pdf', '제도성특약_장애인전용보험전환 특별약관.pdf', '상해,질병_(무) 레이디보험(2404).pdf', '일반_let discover 해외장기체류자보험Ⅱ.pdf', '상해,질병_(무) 뇌심보험(2502).pdf', '공동인수_개인용 자동차보험(공동).pdf', '제도성특약_자동차사고변호사선임비용 변호사 직접지급 특별약관Ⅲ.pdf', '기타_let way 배달플랫폼자동차보험.pdf', '일반_let safe 웨딩보험.pdf', '일반_let safe 동산종합보험.pdf', '일반_let safe 레저투데이보험.pdf', '상해,질병_(무) let smile 4060종합보험(10플러스 세만기형)(2501).pdf', '제도성특약_실손의료보험 개인실손전환(단체→개인) 특별약관.pdf', '제도성특약_조건부계약 계약전환 제도성 특별약관.pdf', '상해,질병_(무) let simple 3N5 간편맞춤 건강보험(연만기형)(2501).pdf', '일반_let hug 키즈보험.pdf', '제도성특약_유병력자 실손의료비보장 안정화 할인(2023) 특별약관.pdf', '업무용_let click 업무용개인소유자동차보험(TM).pdf', '상해,질병_(무) let simple 3N5 간편맞춤 건강보험(세만기형)(2501).pdf', '제도성특약_실손의료보험 중지 및 재개 특별약관.pdf', '일반_let safe 실손의료보험(해외장기체류자).pdf', '일반_let safe 아파트종합보험.pdf', '일반_let safe 실손의료보험(단체).pdf', '상해,질병_(무) let care 상해보험(2404) 2종.pdf', '일반_let safe 실손의료보험(개인).pdf', '영업용_let click 영업용자동차보험(TM).pdf', '일반_let safe 금융사기보상보험.pdf', '일반_let safe 원라운딩골프보험.pdf', '상해,질병_(무) let care 실손의료보험Ⅳ(2501).pdf', '상해,질병_(무) let care 실손의료보험Ⅳ(계약전환용)(2501).pdf', '일반_let safe 수리비용보험.pdf', '상해,질병_(무) let smile 종합암보험(88플러스)(2501).pdf', '상해,질병_(무) 베이비보험(2404).pdf', '상해,질병_(무) let smile 종합건강보험(더끌림 포우먼)(2501) 3종.pdf', '상해,질병_(무) let simple 간편3·10·10 건강보험(세만기형)(2501).pdf', '제도성특약_다자녀가정 할인 제도성 특별약관.pdf', '상해,질병_(무) let smile 4060종합보험(10플러스 연만기형)(2501).pdf', '연금보험_let care 연금저축손해보험Ⅱ(2401).pdf', '일반_let safe 도난보험.pdf', '상해,질병_(무) let care 유병력자실손의료보험(2406).pdf', '업무용_let click 업무용개인소유자동차보험(인터넷).pdf', '제도성특약_자동차사고변호사선임비용 변호사 직접지급 특별약관Ⅰ.pdf', '기타_CREW 원데이자동차보험.pdf', '상해,질병_(무) let simple 간편335 암보험(88)(2410).pdf', '제도성특약_교통사고처리지원금(스쿨존, 6주미만) 추가보장 특별약관.pdf', '일반_let safe 아파트종합보험(공제용).pdf', '일반_let safe 수상레저종합보험.pdf', '운전자_(무) let drive 운전자보험(2501).pdf', '개인용_let click 개인용자동차보험(TM).pdf', '일반_let guard 안심사이버보험.pdf', '재물_(무) let care 화재배상책임보험(2404).pdf', '재물_(무) let care 재물종합보험(2404).pdf', '일반_let safe 다이버상해보험.pdf', '일반_let safe 단체상해보험.pdf', '상해,질병_(무) 소방관보험(2404).pdf', '일반_let 안심 가전보험(수리).pdf', '상해,질병_(무) let play 자녀보험(도담도담)(2501).pdf', '업무용_let click 업무용법인소유자동차보험(TM).pdf', '일반_let discover 해외장기체류자보험.pdf', '일반_let safe 아파트종합보험Ⅱ.pdf', '일반_let safe 수리비용보험Ⅱ.pdf', '제도성특약_자동차사고변호사선임비용 변호사 직접지급 특별약관Ⅱ.pdf', '공동인수_이륜자동차보험(공동).pdf', '일반_let 안심케어보험.pdf', '상해,질병_(무) let smile 종합건강보험(for VIP)(2404).pdf', '연금보험_let care 연금저축손해보험(계약이전)(2401).pdf', '영업용_let way 영업용자동차보험.pdf', '일반_let safe 지방자치단체 자전거상해보험.pdf', '일반_let 안심 가전보험(보증연장).pdf', '일반_let celebrate 홀인원보험.pdf', '상해,질병_(무) let simple 간편 암보험(2404).pdf', '일반_let safe 공무원상해보험.pdf', '기타_let click 배달플랫폼자동차보험(인터넷).pdf', '제도성특약_실손의료비 보장 무사고할인 특별약관 [2011.4.1 이후 갱신도래 계약 적용].pdf', '상해,질병_(무) let care 치아보험(2404).pdf', '상해,질병_(무) let care 상해보험(2404) 1종.pdf']\n"
     ]
    }
   ],
   "source": [
    "import os\n",
    "\n",
    "# path = \"C:\\\\KIMUJUNG\\\\team_project\\\\team_project3\\\\pdf_folder\"\n",
    "path = \"pdf_folder\"\n",
    "file_list = os.listdir(path)\n",
    "\n",
    "print (\"file_list: {}\".format(file_list))"
   ]
  },
  {
   "cell_type": "code",
   "execution_count": 1,
   "metadata": {},
   "outputs": [
    {
     "name": "stderr",
     "output_type": "stream",
     "text": [
      "/home/kwj/team_proj/faiss_2/lib/python3.8/site-packages/tqdm/auto.py:21: TqdmWarning: IProgress not found. Please update jupyter and ipywidgets. See https://ipywidgets.readthedocs.io/en/stable/user_install.html\n",
      "  from .autonotebook import tqdm as notebook_tqdm\n"
     ]
    },
    {
     "name": "stdout",
     "output_type": "stream",
     "text": [
      "Using device: cuda\n"
     ]
    }
   ],
   "source": [
    "import os\n",
    "import faiss\n",
    "import pickle\n",
    "import numpy as np\n",
    "import torch\n",
    "from langchain.vectorstores import FAISS\n",
    "from langchain.schema import Document\n",
    "from langchain_community.document_loaders import PyPDFLoader\n",
    "from langchain.text_splitter import RecursiveCharacterTextSplitter\n",
    "from transformers import AutoModel, AutoTokenizer\n",
    "import fitz  # PyMuPDF\n",
    "\n",
    "# 1️⃣ GPU 사용 여부 확인\n",
    "device = torch.device(\"cuda\" if torch.cuda.is_available() else \"cpu\")\n",
    "print(f\"Using device: {device}\")"
   ]
  },
  {
   "cell_type": "code",
   "execution_count": 2,
   "metadata": {},
   "outputs": [],
   "source": [
    "# path = \"C:\\\\KIMUJUNG\\\\team_project\\\\team_project3\\\\pdf_folder\"\n",
    "path = \"pdf_folder\"\n",
    "file_list = os.listdir(path)"
   ]
  },
  {
   "cell_type": "code",
   "execution_count": 3,
   "metadata": {},
   "outputs": [
    {
     "name": "stdout",
     "output_type": "stream",
     "text": [
      "✅ 일반_let safe 팬덤안심 상해보험.pdf 처리 완료\n",
      "✅ 일반_let safe 골프보험.pdf 처리 완료\n",
      "✅ 일반_let safe 주택화재보험Ⅱ.pdf 처리 완료\n",
      "✅ 공동인수_영업용 자동차보험(공동).pdf 처리 완료\n"
     ]
    },
    {
     "name": "stderr",
     "output_type": "stream",
     "text": [
      "Ignoring wrong pointing object 147 0 (offset 0)\n",
      "Ignoring wrong pointing object 149 0 (offset 0)\n"
     ]
    },
    {
     "name": "stdout",
     "output_type": "stream",
     "text": [
      "✅ 상해,질병_(무) let care 실손의료보험Ⅳ(개인 단체연계용)(2501).pdf 처리 완료\n",
      "✅ 상해,질병_(무) 암보험(2502).pdf 처리 완료\n",
      "✅ 이륜차_let way 이륜자동차보험.pdf 처리 완료\n"
     ]
    },
    {
     "name": "stderr",
     "output_type": "stream",
     "text": [
      "Ignoring wrong pointing object 237 0 (offset 0)\n",
      "Ignoring wrong pointing object 239 0 (offset 0)\n"
     ]
    },
    {
     "name": "stdout",
     "output_type": "stream",
     "text": [
      "✅ 일반_let safe 레저상해보험.pdf 처리 완료\n",
      "✅ 상해,질병_(무) let smile 종합건강보험(더끌림 포우먼)(2501) 1~2종.pdf 처리 완료\n",
      "✅ 일반_let safe 시민안전보험.pdf 처리 완료\n",
      "✅ 개인용_let click 개인용자동차보험(인터넷).pdf 처리 완료\n"
     ]
    },
    {
     "name": "stderr",
     "output_type": "stream",
     "text": [
      "Ignoring wrong pointing object 117 0 (offset 0)\n"
     ]
    },
    {
     "name": "stdout",
     "output_type": "stream",
     "text": [
      "✅ 일반_let safe 원게임골프보험.pdf 처리 완료\n"
     ]
    },
    {
     "name": "stderr",
     "output_type": "stream",
     "text": [
      "Ignoring wrong pointing object 121 0 (offset 0)\n",
      "Ignoring wrong pointing object 123 0 (offset 0)\n"
     ]
    },
    {
     "name": "stdout",
     "output_type": "stream",
     "text": [
      "✅ 상해,질병_(무) 미니암보험(2404).pdf 처리 완료\n",
      "✅ 상해,질병_(무) 입원비보험(2409).pdf 처리 완료\n",
      "✅ 일반_let discover 국내여행보험Ⅱ.pdf 처리 완료\n",
      "✅ 업무용_let way 업무용법인소유자동차보험.pdf 처리 완료\n"
     ]
    },
    {
     "name": "stderr",
     "output_type": "stream",
     "text": [
      "Ignoring wrong pointing object 357 0 (offset 0)\n",
      "Ignoring wrong pointing object 359 0 (offset 0)\n"
     ]
    },
    {
     "name": "stdout",
     "output_type": "stream",
     "text": [
      "✅ 일반_let safe 실손의료보험(해외여행).pdf 처리 완료\n",
      "✅ 상해,질병_(무) let simple 간편311 건강보험(2501).pdf 처리 완료\n"
     ]
    },
    {
     "name": "stderr",
     "output_type": "stream",
     "text": [
      "Ignoring wrong pointing object 209 0 (offset 0)\n",
      "Ignoring wrong pointing object 211 0 (offset 0)\n"
     ]
    },
    {
     "name": "stdout",
     "output_type": "stream",
     "text": [
      "✅ 연금보험_let care 연금저축손해보험Ⅰ(2401).pdf 처리 완료\n",
      "✅ 상해,질병_(무) let play 종합건강보험(토닥토닥)(2501).pdf 처리 완료\n",
      "✅ 일반_let safe 실손의료보험(국내여행).pdf 처리 완료\n",
      "✅ 기타_let way 자동차취급업자종합보험.pdf 처리 완료\n"
     ]
    },
    {
     "name": "stderr",
     "output_type": "stream",
     "text": [
      "Ignoring wrong pointing object 133 0 (offset 0)\n"
     ]
    },
    {
     "name": "stdout",
     "output_type": "stream",
     "text": [
      "✅ 일반_주택 임차보증금반환 민사소송 및 강제집행 변호사선임비용 보장보험.pdf 처리 완료\n",
      "✅ 상해,질병_(무) 직장인보험(2501).pdf 처리 완료\n",
      "✅ 제도성특약_4세대 실손의료비보장 계약전환제도(2021) 특별약관.pdf 처리 완료\n",
      "✅ 운전자_(무) 운전자보험(2501).pdf 처리 완료\n"
     ]
    },
    {
     "name": "stderr",
     "output_type": "stream",
     "text": [
      "Ignoring wrong pointing object 187 0 (offset 0)\n",
      "Ignoring wrong pointing object 189 0 (offset 0)\n"
     ]
    },
    {
     "name": "stdout",
     "output_type": "stream",
     "text": [
      "✅ 일반_let safe 주택화재보험.pdf 처리 완료\n",
      "✅ 상해,질병_(무) let smile 종합건강보험(더채움 베이직)(2501).pdf 처리 완료\n",
      "✅ 일반_let safe 상해보험.pdf 처리 완료\n"
     ]
    },
    {
     "name": "stderr",
     "output_type": "stream",
     "text": [
      "Ignoring wrong pointing object 229 0 (offset 0)\n",
      "Ignoring wrong pointing object 231 0 (offset 0)\n"
     ]
    },
    {
     "name": "stdout",
     "output_type": "stream",
     "text": [
      "✅ 일반_let safe 제품보증연장보험(간단손해보험대리점).pdf 처리 완료\n",
      "✅ 상해,질병_(무) let smile 종합건강보험(더끌림 포맨)(2501).pdf 처리 완료\n",
      "✅ 운전면허교습생_let way 운전면허교습생자동차보험.pdf 처리 완료\n",
      "✅ 일반_let discover 해외여행보험Ⅱ.pdf 처리 완료\n",
      "✅ 일반_let safe 펫보험.pdf 처리 완료\n",
      "✅ 일반_let click 운전자보험.pdf 처리 완료\n"
     ]
    },
    {
     "name": "stderr",
     "output_type": "stream",
     "text": [
      "Ignoring wrong pointing object 133 0 (offset 0)\n"
     ]
    },
    {
     "name": "stdout",
     "output_type": "stream",
     "text": [
      "✅ 제도성특약_장기요양등급 변경적용 특별약관.pdf 처리 완료\n",
      "✅ 상해,질병_(무) let care 단체보험(2501).pdf 처리 완료\n",
      "✅ 일반_let safe 안심화재종합보험.pdf 처리 완료\n",
      "✅ 상해,질병_(무) let click 실손의료보험Ⅳ(계약전환용)(2501).pdf 처리 완료\n",
      "✅ 공동인수_업무용 자동차보험(공동).pdf 처리 완료\n",
      "✅ 일반_let safe 휴대폰보험.pdf 처리 완료\n",
      "✅ 일반_let safe 타이어교체보험.pdf 처리 완료\n",
      "✅ 일반_let safe 가정종합보험.pdf 처리 완료\n",
      "✅ 일반_let safe 제품보증연장보험.pdf 처리 완료\n",
      "✅ 제도성특약_연금저축보험 계약이전수수료 면제 특별약관.pdf 처리 완료\n"
     ]
    },
    {
     "name": "stderr",
     "output_type": "stream",
     "text": [
      "Ignoring wrong pointing object 213 0 (offset 0)\n",
      "Ignoring wrong pointing object 215 0 (offset 0)\n"
     ]
    },
    {
     "name": "stdout",
     "output_type": "stream",
     "text": [
      "✅ 일반_let discover 국내여행보험.pdf 처리 완료\n",
      "✅ 상해,질병_(무) let play 1540종합보험(10플러스)(2501).pdf 처리 완료\n"
     ]
    },
    {
     "name": "stderr",
     "output_type": "stream",
     "text": [
      "Ignoring wrong pointing object 195 0 (offset 0)\n"
     ]
    },
    {
     "name": "stdout",
     "output_type": "stream",
     "text": [
      "✅ 상해,질병_(무) let care 노후실손의료보험Ⅱ(2501).pdf 처리 완료\n",
      "✅ 상해,질병_(무) let simple 간편325 건강보험(라이트)(2404).pdf 처리 완료\n"
     ]
    },
    {
     "name": "stderr",
     "output_type": "stream",
     "text": [
      "Ignoring wrong pointing object 135 0 (offset 0)\n"
     ]
    },
    {
     "name": "stdout",
     "output_type": "stream",
     "text": [
      "✅ 일반_let safe 도난보험Ⅱ.pdf 처리 완료\n"
     ]
    },
    {
     "name": "stderr",
     "output_type": "stream",
     "text": [
      "Ignoring wrong pointing object 133 0 (offset 0)\n"
     ]
    },
    {
     "name": "stdout",
     "output_type": "stream",
     "text": [
      "✅ 상해,질병_(무) 의료진보험(2404).pdf 처리 완료\n"
     ]
    },
    {
     "name": "stderr",
     "output_type": "stream",
     "text": [
      "Ignoring wrong pointing object 165 0 (offset 0)\n"
     ]
    },
    {
     "name": "stdout",
     "output_type": "stream",
     "text": [
      "✅ 상해,질병_(무) 청소년보험(2409).pdf 처리 완료\n",
      "✅ 상해,질병_(무) let simple 간편355 간병보험(for VIP)(2404).pdf 처리 완료\n",
      "✅ 개인용_let way 개인용자동차보험.pdf 처리 완료\n"
     ]
    },
    {
     "name": "stderr",
     "output_type": "stream",
     "text": [
      "Ignoring wrong pointing object 117 0 (offset 0)\n"
     ]
    },
    {
     "name": "stdout",
     "output_type": "stream",
     "text": [
      "✅ 일반_let discover 해외여행보험.pdf 처리 완료\n"
     ]
    },
    {
     "name": "stderr",
     "output_type": "stream",
     "text": [
      "Ignoring wrong pointing object 203 0 (offset 0)\n",
      "Ignoring wrong pointing object 205 0 (offset 0)\n"
     ]
    },
    {
     "name": "stdout",
     "output_type": "stream",
     "text": [
      "✅ 상해,질병_(무) 미니뇌심보험(2404).pdf 처리 완료\n",
      "✅ 상해,질병_(무) let care 간병보험Ⅱ(2501).pdf 처리 완료\n",
      "✅ 일반_let safe 롯데카드회원여행보험.pdf 처리 완료\n",
      "✅ 일반_let safe 군인보험.pdf 처리 완료\n",
      "✅ 업무용_let way 업무용개인소유자동차보험.pdf 처리 완료\n",
      "✅ 일반_let discover 국내여행보험Ⅲ.pdf 처리 완료\n",
      "✅ 업무용_let click 업무용법인소유자동차보험(인터넷).pdf 처리 완료\n",
      "✅ 일반_let click 해외여행보험Ⅲ.pdf 처리 완료\n",
      "✅ 농기계_let way 농기계보험.pdf 처리 완료\n",
      "✅ 제도성특약_군장병 실손의료보험 중지 및 재개 특별약관.pdf 처리 완료\n",
      "✅ 운전자_let way 운전자보험.pdf 처리 완료\n"
     ]
    },
    {
     "name": "stderr",
     "output_type": "stream",
     "text": [
      "Ignoring wrong pointing object 129 0 (offset 0)\n"
     ]
    },
    {
     "name": "stdout",
     "output_type": "stream",
     "text": [
      "✅ 제도성특약_장애인전용보험전환 특별약관.pdf 처리 완료\n",
      "✅ 상해,질병_(무) 레이디보험(2404).pdf 처리 완료\n"
     ]
    },
    {
     "name": "stderr",
     "output_type": "stream",
     "text": [
      "Ignoring wrong pointing object 131 0 (offset 0)\n",
      "Ignoring wrong pointing object 133 0 (offset 0)\n"
     ]
    },
    {
     "name": "stdout",
     "output_type": "stream",
     "text": [
      "✅ 일반_let discover 해외장기체류자보험Ⅱ.pdf 처리 완료\n",
      "✅ 상해,질병_(무) 뇌심보험(2502).pdf 처리 완료\n",
      "✅ 공동인수_개인용 자동차보험(공동).pdf 처리 완료\n",
      "✅ 제도성특약_자동차사고변호사선임비용 변호사 직접지급 특별약관Ⅲ.pdf 처리 완료\n",
      "✅ 기타_let way 배달플랫폼자동차보험.pdf 처리 완료\n",
      "✅ 일반_let safe 웨딩보험.pdf 처리 완료\n",
      "✅ 일반_let safe 동산종합보험.pdf 처리 완료\n"
     ]
    },
    {
     "name": "stderr",
     "output_type": "stream",
     "text": [
      "Ignoring wrong pointing object 233 0 (offset 0)\n",
      "Ignoring wrong pointing object 235 0 (offset 0)\n"
     ]
    },
    {
     "name": "stdout",
     "output_type": "stream",
     "text": [
      "✅ 일반_let safe 레저투데이보험.pdf 처리 완료\n",
      "✅ 상해,질병_(무) let smile 4060종합보험(10플러스 세만기형)(2501).pdf 처리 완료\n",
      "✅ 제도성특약_실손의료보험 개인실손전환(단체→개인) 특별약관.pdf 처리 완료\n"
     ]
    },
    {
     "name": "stderr",
     "output_type": "stream",
     "text": [
      "Ignoring wrong pointing object 127 0 (offset 0)\n",
      "Ignoring wrong pointing object 129 0 (offset 0)\n"
     ]
    },
    {
     "name": "stdout",
     "output_type": "stream",
     "text": [
      "✅ 제도성특약_조건부계약 계약전환 제도성 특별약관.pdf 처리 완료\n",
      "✅ 상해,질병_(무) let simple 3N5 간편맞춤 건강보험(연만기형)(2501).pdf 처리 완료\n",
      "MuPDF error: syntax error: unknown keyword: '0.11944T'\n",
      "\n",
      "MuPDF error: syntax error: syntax error in content stream\n",
      "\n",
      "MuPDF error: syntax error: syntax error in content stream\n",
      "\n",
      "MuPDF error: syntax error: unknown keyword: '88.2352989z'\n",
      "\n",
      "MuPDF error: syntax error: unknown keyword: '-10Tm'\n",
      "\n",
      "MuPDF error: syntax error: unknown keyword: '88.2352989z'\n",
      "\n",
      "MuPDF error: syntax error: unknown keyword: '-17fm'\n",
      "\n",
      "MuPDF error: syntax error: unknown keyword: '88.2828989z'\n",
      "\n",
      "MuPDF error: syntax error: unknown keyword: '-1c6.63'\n",
      "\n",
      "MuPDF error: syntax error: unknown keyword: '6Tm'\n",
      "\n",
      "MuPDF error: syntax error: unknown keyword: '88.23e86989z'\n",
      "\n",
      "MuPDF error: syntax error: unknown keyword: '88.23261089z'\n",
      "\n",
      "MuPDF error: syntax error: unknown keyword: '88.21484089z'\n",
      "\n",
      "MuPDF error: syntax error: unknown keyword: '39132Tm'\n",
      "\n",
      "MuPDF error: syntax error: unknown keyword: 'T7'\n",
      "\n",
      "MuPDF error: syntax error: unknown keyword: 'Tm3013428'\n",
      "\n",
      "MuPDF error: syntax error: unknown keyword: 'Tr04.31'\n",
      "\n",
      "MuPDF error: syntax error: unknown keyword: 'Tr2'\n",
      "\n",
      "MuPDF error: syntax error: unknown keyword: '-0Tm'\n",
      "\n",
      "MuPDF error: syntax error: unknown keyword: 'T1396.31'\n",
      "\n",
      "MuPDF error: syntax error: syntax error in content stream\n",
      "\n",
      "MuPDF error: syntax error: unknown keyword: '88.2352932Tz'\n",
      "\n",
      "MuPDF error: syntax error: unknown keyword: '88.2352932Tz'\n",
      "\n",
      "MuPDF error: syntax error: unknown keyword: '-2Tm'\n",
      "\n",
      "MuPDF error: syntax error: syntax error in array\n",
      "\n",
      "MuPDF error: syntax error: unknown keyword: '88.2352932Tz'\n",
      "\n",
      "MuPDF error: syntax error: unknown keyword: '88.2352932Tz'\n",
      "\n",
      "MuPDF error: syntax error: unknown keyword: '-1d9.7'\n",
      "\n",
      "MuPDF error: syntax error: unknown keyword: '5f9.7'\n",
      "\n",
      "MuPDF error: syntax error: unknown keyword: '88.2.83432Tz'\n",
      "\n",
      "MuPDF error: syntax error: syntax error in content stream\n",
      "\n",
      "MuPDF error: syntax error: unknown keyword: '88.2352932Tz'\n",
      "\n",
      "MuPDF error: syntax error: syntax error in content stream\n",
      "\n",
      "MuPDF error: syntax error: unknown keyword: '88.23333932Tz'\n",
      "\n",
      "MuPDF error: syntax error: unknown keyword: '88.23252932Tz'\n",
      "\n",
      "MuPDF error: syntax error: unknown keyword: '-1Tm'\n",
      "\n",
      "MuPDF error: syntax error: syntax error in array\n",
      "\n",
      "MuPDF error: syntax error: syntax error in content stream\n",
      "\n",
      "MuPDF error: syntax error: unknown keyword: '88.21552932Tz'\n",
      "\n",
      "MuPDF error: syntax error: unknown keyword: '88.23693932Tz'\n",
      "\n",
      "MuPDF error: syntax error: unknown keyword: '88.23832932Tz'\n",
      "\n",
      "MuPDF error: syntax error: unknown keyword: '-2fm'\n",
      "\n",
      "MuPDF error: syntax error: unknown keyword: '88.23913432Tz'\n",
      "\n",
      "MuPDF error: syntax error: unknown keyword: '3m'\n",
      "\n",
      "MuPDF error: syntax error: unknown keyword: '0'\n",
      "\n",
      "MuPDF error: syntax error: syntax error in array\n",
      "\n",
      "MuPDF error: syntax error: unknown keyword: '88.251.3434'\n",
      "\n",
      "MuPDF error: syntax error: syntax error in content stream\n",
      "\n",
      "MuPDF error: syntax error: syntax error in content stream\n",
      "\n",
      "MuPDF error: syntax error: unknown keyword: '88.2d'\n",
      "\n",
      "MuPDF error: syntax error: syntax error in content stream\n",
      "\n",
      "MuPDF error: syntax error: unknown keyword: '88.2352935z'\n",
      "\n",
      "MuPDF error: syntax error: unknown keyword: '88.2351935z'\n",
      "\n",
      "MuPDF error: syntax error: unknown keyword: 'w35z'\n",
      "\n",
      "MuPDF error: syntax error: unknown keyword: '6806208682fm'\n",
      "\n",
      "MuPDF error: syntax error: unknown keyword: '88.2398935z'\n",
      "\n",
      "MuPDF error: syntax error: unknown keyword: '-11e62621988'\n",
      "\n",
      "MuPDF error: syntax error: unknown keyword: '88.2552935z'\n",
      "\n",
      "MuPDF error: syntax error: unknown keyword: '-11Tm'\n",
      "\n",
      "MuPDF error: syntax error: syntax error in array\n",
      "\n",
      "MuPDF error: syntax error: unknown keyword: '88.23e87935z'\n",
      "\n",
      "MuPDF error: syntax error: unknown keyword: '88.2351.345z'\n",
      "\n",
      "MuPDF error: syntax error: unknown keyword: '-11Tm3626868'\n",
      "\n",
      "MuPDF error: syntax error: unknown keyword: '88.23r'\n",
      "\n",
      "MuPDF error: syntax error: unknown keyword: '1.35z'\n",
      "\n",
      "MuPDF error: syntax error: unknown keyword: '88.21642935z'\n",
      "\n",
      "MuPDF error: syntax error: unknown keyword: '-19Tm'\n",
      "\n",
      "MuPDF error: syntax error: unknown keyword: '88.23782935z'\n",
      "\n",
      "MuPDF error: syntax error: syntax error in content stream\n",
      "\n",
      "MuPDF error: syntax error: unknown keyword: '16946231685fm'\n",
      "\n",
      "MuPDF error: syntax error: syntax error in array\n",
      "\n",
      "✅ 일반_let hug 키즈보험.pdf 처리 완료\n",
      "✅ 제도성특약_유병력자 실손의료비보장 안정화 할인(2023) 특별약관.pdf 처리 완료\n"
     ]
    },
    {
     "name": "stderr",
     "output_type": "stream",
     "text": [
      "Ignoring wrong pointing object 238 0 (offset 0)\n",
      "Ignoring wrong pointing object 240 0 (offset 0)\n"
     ]
    },
    {
     "name": "stdout",
     "output_type": "stream",
     "text": [
      "✅ 업무용_let click 업무용개인소유자동차보험(TM).pdf 처리 완료\n",
      "✅ 상해,질병_(무) let simple 3N5 간편맞춤 건강보험(세만기형)(2501).pdf 처리 완료\n",
      "✅ 제도성특약_실손의료보험 중지 및 재개 특별약관.pdf 처리 완료\n",
      "✅ 일반_let safe 실손의료보험(해외장기체류자).pdf 처리 완료\n",
      "✅ 일반_let safe 아파트종합보험.pdf 처리 완료\n"
     ]
    },
    {
     "name": "stderr",
     "output_type": "stream",
     "text": [
      "Ignoring wrong pointing object 163 0 (offset 0)\n"
     ]
    },
    {
     "name": "stdout",
     "output_type": "stream",
     "text": [
      "✅ 일반_let safe 실손의료보험(단체).pdf 처리 완료\n",
      "✅ 상해,질병_(무) let care 상해보험(2404) 2종.pdf 처리 완료\n",
      "✅ 일반_let safe 실손의료보험(개인).pdf 처리 완료\n",
      "✅ 영업용_let click 영업용자동차보험(TM).pdf 처리 완료\n",
      "✅ 일반_let safe 금융사기보상보험.pdf 처리 완료\n",
      "✅ 일반_let safe 원라운딩골프보험.pdf 처리 완료\n",
      "✅ 상해,질병_(무) let care 실손의료보험Ⅳ(2501).pdf 처리 완료\n",
      "✅ 상해,질병_(무) let care 실손의료보험Ⅳ(계약전환용)(2501).pdf 처리 완료\n",
      "✅ 일반_let safe 수리비용보험.pdf 처리 완료\n"
     ]
    },
    {
     "name": "stderr",
     "output_type": "stream",
     "text": [
      "Ignoring wrong pointing object 129 0 (offset 0)\n"
     ]
    },
    {
     "name": "stdout",
     "output_type": "stream",
     "text": [
      "✅ 상해,질병_(무) let smile 종합암보험(88플러스)(2501).pdf 처리 완료\n"
     ]
    },
    {
     "name": "stderr",
     "output_type": "stream",
     "text": [
      "Ignoring wrong pointing object 113 0 (offset 0)\n"
     ]
    },
    {
     "name": "stdout",
     "output_type": "stream",
     "text": [
      "✅ 상해,질병_(무) 베이비보험(2404).pdf 처리 완료\n"
     ]
    },
    {
     "name": "stderr",
     "output_type": "stream",
     "text": [
      "Ignoring wrong pointing object 227 0 (offset 0)\n",
      "Ignoring wrong pointing object 229 0 (offset 0)\n"
     ]
    },
    {
     "name": "stdout",
     "output_type": "stream",
     "text": [
      "✅ 상해,질병_(무) let smile 종합건강보험(더끌림 포우먼)(2501) 3종.pdf 처리 완료\n",
      "✅ 상해,질병_(무) let simple 간편3·10·10 건강보험(세만기형)(2501).pdf 처리 완료\n"
     ]
    },
    {
     "name": "stderr",
     "output_type": "stream",
     "text": [
      "Ignoring wrong pointing object 187 0 (offset 0)\n"
     ]
    },
    {
     "name": "stdout",
     "output_type": "stream",
     "text": [
      "✅ 제도성특약_다자녀가정 할인 제도성 특별약관.pdf 처리 완료\n",
      "✅ 상해,질병_(무) let smile 4060종합보험(10플러스 연만기형)(2501).pdf 처리 완료\n",
      "✅ 연금보험_let care 연금저축손해보험Ⅱ(2401).pdf 처리 완료\n",
      "✅ 일반_let safe 도난보험.pdf 처리 완료\n",
      "✅ 상해,질병_(무) let care 유병력자실손의료보험(2406).pdf 처리 완료\n",
      "✅ 업무용_let click 업무용개인소유자동차보험(인터넷).pdf 처리 완료\n",
      "✅ 제도성특약_자동차사고변호사선임비용 변호사 직접지급 특별약관Ⅰ.pdf 처리 완료\n"
     ]
    },
    {
     "name": "stderr",
     "output_type": "stream",
     "text": [
      "Ignoring wrong pointing object 187 0 (offset 0)\n",
      "Ignoring wrong pointing object 189 0 (offset 0)\n"
     ]
    },
    {
     "name": "stdout",
     "output_type": "stream",
     "text": [
      "✅ 기타_CREW 원데이자동차보험.pdf 처리 완료\n",
      "✅ 상해,질병_(무) let simple 간편335 암보험(88)(2410).pdf 처리 완료\n",
      "✅ 제도성특약_교통사고처리지원금(스쿨존, 6주미만) 추가보장 특별약관.pdf 처리 완료\n",
      "✅ 일반_let safe 아파트종합보험(공제용).pdf 처리 완료\n"
     ]
    },
    {
     "name": "stderr",
     "output_type": "stream",
     "text": [
      "Ignoring wrong pointing object 157 0 (offset 0)\n"
     ]
    },
    {
     "name": "stdout",
     "output_type": "stream",
     "text": [
      "✅ 일반_let safe 수상레저종합보험.pdf 처리 완료\n",
      "✅ 운전자_(무) let drive 운전자보험(2501).pdf 처리 완료\n",
      "✅ 개인용_let click 개인용자동차보험(TM).pdf 처리 완료\n"
     ]
    },
    {
     "name": "stderr",
     "output_type": "stream",
     "text": [
      "Ignoring wrong pointing object 131 0 (offset 0)\n"
     ]
    },
    {
     "name": "stdout",
     "output_type": "stream",
     "text": [
      "✅ 일반_let guard 안심사이버보험.pdf 처리 완료\n"
     ]
    },
    {
     "name": "stderr",
     "output_type": "stream",
     "text": [
      "Ignoring wrong pointing object 147 0 (offset 0)\n"
     ]
    },
    {
     "name": "stdout",
     "output_type": "stream",
     "text": [
      "✅ 재물_(무) let care 화재배상책임보험(2404).pdf 처리 완료\n",
      "✅ 재물_(무) let care 재물종합보험(2404).pdf 처리 완료\n",
      "✅ 일반_let safe 다이버상해보험.pdf 처리 완료\n"
     ]
    },
    {
     "name": "stderr",
     "output_type": "stream",
     "text": [
      "Ignoring wrong pointing object 143 0 (offset 0)\n"
     ]
    },
    {
     "name": "stdout",
     "output_type": "stream",
     "text": [
      "✅ 일반_let safe 단체상해보험.pdf 처리 완료\n",
      "✅ 상해,질병_(무) 소방관보험(2404).pdf 처리 완료\n"
     ]
    },
    {
     "name": "stderr",
     "output_type": "stream",
     "text": [
      "Ignoring wrong pointing object 235 0 (offset 0)\n",
      "Ignoring wrong pointing object 237 0 (offset 0)\n"
     ]
    },
    {
     "name": "stdout",
     "output_type": "stream",
     "text": [
      "✅ 일반_let 안심 가전보험(수리).pdf 처리 완료\n",
      "✅ 상해,질병_(무) let play 자녀보험(도담도담)(2501).pdf 처리 완료\n",
      "✅ 업무용_let click 업무용법인소유자동차보험(TM).pdf 처리 완료\n",
      "✅ 일반_let discover 해외장기체류자보험.pdf 처리 완료\n",
      "✅ 일반_let safe 아파트종합보험Ⅱ.pdf 처리 완료\n",
      "✅ 일반_let safe 수리비용보험Ⅱ.pdf 처리 완료\n",
      "✅ 제도성특약_자동차사고변호사선임비용 변호사 직접지급 특별약관Ⅱ.pdf 처리 완료\n",
      "✅ 공동인수_이륜자동차보험(공동).pdf 처리 완료\n"
     ]
    },
    {
     "name": "stderr",
     "output_type": "stream",
     "text": [
      "Ignoring wrong pointing object 149 0 (offset 0)\n"
     ]
    },
    {
     "name": "stdout",
     "output_type": "stream",
     "text": [
      "✅ 일반_let 안심케어보험.pdf 처리 완료\n",
      "✅ 상해,질병_(무) let smile 종합건강보험(for VIP)(2404).pdf 처리 완료\n",
      "✅ 연금보험_let care 연금저축손해보험(계약이전)(2401).pdf 처리 완료\n",
      "✅ 영업용_let way 영업용자동차보험.pdf 처리 완료\n",
      "✅ 일반_let safe 지방자치단체 자전거상해보험.pdf 처리 완료\n",
      "✅ 일반_let 안심 가전보험(보증연장).pdf 처리 완료\n"
     ]
    },
    {
     "name": "stderr",
     "output_type": "stream",
     "text": [
      "Ignoring wrong pointing object 155 0 (offset 0)\n"
     ]
    },
    {
     "name": "stdout",
     "output_type": "stream",
     "text": [
      "✅ 일반_let celebrate 홀인원보험.pdf 처리 완료\n",
      "✅ 상해,질병_(무) let simple 간편 암보험(2404).pdf 처리 완료\n",
      "✅ 일반_let safe 공무원상해보험.pdf 처리 완료\n",
      "✅ 기타_let click 배달플랫폼자동차보험(인터넷).pdf 처리 완료\n"
     ]
    },
    {
     "name": "stderr",
     "output_type": "stream",
     "text": [
      "Ignoring wrong pointing object 163 0 (offset 0)\n"
     ]
    },
    {
     "name": "stdout",
     "output_type": "stream",
     "text": [
      "✅ 제도성특약_실손의료비 보장 무사고할인 특별약관 [2011.4.1 이후 갱신도래 계약 적용].pdf 처리 완료\n"
     ]
    },
    {
     "name": "stderr",
     "output_type": "stream",
     "text": [
      "Ignoring wrong pointing object 155 0 (offset 0)\n"
     ]
    },
    {
     "name": "stdout",
     "output_type": "stream",
     "text": [
      "✅ 상해,질병_(무) let care 치아보험(2404).pdf 처리 완료\n",
      "✅ 상해,질병_(무) let care 상해보험(2404) 1종.pdf 처리 완료\n",
      "🎉 모든 문서 처리 및 저장 완료!\n"
     ]
    }
   ],
   "source": [
    "\n",
    "# 2️⃣ 모델 및 토크나이저 로드 (GPU로 이동)\n",
    "model_name = \"kakaocorp/kanana-nano-2.1b-embedding\"\n",
    "tokenizer = AutoTokenizer.from_pretrained(model_name, trust_remote_code=True)\n",
    "model = AutoModel.from_pretrained(model_name, trust_remote_code=True).to(device)\n",
    "\n",
    "# 3️⃣ 임베딩 생성 함수\n",
    "def get_embeddings(texts):\n",
    "    inputs = tokenizer(texts, padding=True, truncation=True, max_length=512, return_tensors=\"pt\")\n",
    "    # 모든 입력 텐서를 GPU로 이동\n",
    "    inputs = {key: val.to(device) for key, val in inputs.items()}\n",
    "    pool_mask = torch.ones(inputs[\"input_ids\"].shape, dtype=torch.long).to(device)\n",
    "\n",
    "    with torch.no_grad():\n",
    "        outputs = model(**inputs, pool_mask=pool_mask)\n",
    "\n",
    "    return outputs.embedding.cpu().numpy()  # GPU에서 CPU로 변환 후 반환\n",
    "\n",
    "# 4️⃣ 저장 경로 설정\n",
    "faiss_index_path = \"./faiss_index.bin\"\n",
    "metadata_path = \"./documents.pkl\"\n",
    "\n",
    "# 5️⃣ PDF 문서 리스트\n",
    "# file_list = [\"document1.pdf\", \"document2.pdf\"]  # 실제 파일 경로로 변경\n",
    "# path = \"/your/pdf/path\"  # 실제 경로로 변경\n",
    "\n",
    "# 6️⃣ FAISS GPU 인덱스 생성\n",
    "res = faiss.StandardGpuResources()  # GPU 리소스 할당\n",
    "index = None\n",
    "\n",
    "# 7️⃣ 문서 처리\n",
    "all_documents = []\n",
    "for file in file_list:\n",
    "    file_path = os.path.join(path, file)\n",
    "    try:\n",
    "        loader = PyPDFLoader(file_path)\n",
    "        documents = loader.load()\n",
    "    except:\n",
    "        documents = []\n",
    "        with fitz.open(file_path) as pdf:\n",
    "            metadata = pdf.metadata # PDF의 메타데이터 추출\n",
    "            \n",
    "            for page_num, page in enumerate(pdf):\n",
    "                page_text = page.get_text()\n",
    "                if \"MuPDF error:\" not in page_text:\n",
    "                    documents.append(Document(\n",
    "                        page_content=page_text,\n",
    "                        metadata={\n",
    "                            'producer': metadata.get('producer', ''),\n",
    "                            'creator': metadata.get('creator', ''),\n",
    "                            'creationdate': metadata.get('creationDate', ''),\n",
    "                            'title': metadata.get('title', ''),\n",
    "                            'author': metadata.get('author', ''),\n",
    "                            'moddate': metadata.get('modDate', ''),\n",
    "                            'pdfversion': metadata.get('pdfVersion', ''),\n",
    "                            'source': file_path,\n",
    "                            'total_pages': pdf.page_count,\n",
    "                            'page': page_num,\n",
    "                            'page_label': str(page_num + 1)\n",
    "                        }\n",
    "                    ))\n",
    "\n",
    "    # 8️⃣ 텍스트 정제\n",
    "    for doc in documents:\n",
    "        doc.page_content = doc.page_content.replace(\"\\n\", \" \").replace(\"  \", \" \")\n",
    "        doc.metadata[\"source\"] = file\n",
    "\n",
    "    # 9️⃣ 문서 스플리팅\n",
    "    splitter = RecursiveCharacterTextSplitter(chunk_size=1000, chunk_overlap=500)\n",
    "    split_documents = splitter.split_documents(documents)\n",
    "\n",
    "    # 1️⃣0️⃣ 텍스트 추출 및 임베딩 생성\n",
    "    texts = [doc.page_content for doc in split_documents]\n",
    "    embeddings = []\n",
    "\n",
    "    batch_size = 16\n",
    "    for i in range(0, len(texts), batch_size):\n",
    "        batch = texts[i : i + batch_size]\n",
    "        batch_embeddings = get_embeddings(batch)\n",
    "        embeddings.extend(batch_embeddings)\n",
    "\n",
    "    embeddings = np.array(embeddings, dtype=np.float32)\n",
    "    \n",
    "    # 1️⃣1️⃣ FAISS GPU 인덱스 생성 (처음이면 초기화)\n",
    "    if index is None:\n",
    "        embedding_dim = embeddings.shape[1]\n",
    "        cpu_index = faiss.IndexFlatL2(embedding_dim)  # CPU 인덱스\n",
    "        index = faiss.index_cpu_to_gpu(res, 0, cpu_index)  # GPU로 변환\n",
    "    \n",
    "    # 1️⃣2️⃣ FAISS 인덱스에 데이터 추가\n",
    "    index.add(embeddings)\n",
    "    all_documents.extend(split_documents)\n",
    "\n",
    "    print(f\"✅ {file} 처리 완료\")\n",
    "\n",
    "# 1️⃣3️⃣ FAISS 인덱스 저장\n",
    "faiss.write_index(faiss.index_gpu_to_cpu(index), faiss_index_path)\n",
    "\n",
    "# 1️⃣4️⃣ 문서 저장\n",
    "with open(metadata_path, \"wb\") as f:\n",
    "    pickle.dump(all_documents, f)\n",
    "\n",
    "print(\"🎉 모든 문서 처리 및 저장 완료!\")\n"
   ]
  },
  {
   "cell_type": "code",
   "execution_count": null,
   "metadata": {},
   "outputs": [],
   "source": []
  }
 ],
 "metadata": {
  "kernelspec": {
   "display_name": "Python 3.8 (faiss_2)",
   "language": "python",
   "name": "faiss_2"
  },
  "language_info": {
   "codemirror_mode": {
    "name": "ipython",
    "version": 3
   },
   "file_extension": ".py",
   "mimetype": "text/x-python",
   "name": "python",
   "nbconvert_exporter": "python",
   "pygments_lexer": "ipython3",
   "version": "3.8.20"
  }
 },
 "nbformat": 4,
 "nbformat_minor": 4
}
