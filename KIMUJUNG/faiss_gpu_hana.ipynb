{
 "cells": [
  {
   "cell_type": "code",
   "execution_count": 1,
   "metadata": {},
   "outputs": [
    {
     "name": "stdout",
     "output_type": "stream",
     "text": [
      "/home/kwj/team_proj/faiss_2/bin/python3\n"
     ]
    }
   ],
   "source": [
    "import sys\n",
    "print(sys.executable)"
   ]
  },
  {
   "cell_type": "code",
   "execution_count": 2,
   "metadata": {},
   "outputs": [
    {
     "name": "stdout",
     "output_type": "stream",
     "text": [
      "3.8.20 (default, Sep  7 2024, 18:35:08) \n",
      "[GCC 11.4.0]\n"
     ]
    }
   ],
   "source": [
    "import sys\n",
    "print(sys.version)"
   ]
  },
  {
   "cell_type": "code",
   "execution_count": 3,
   "metadata": {},
   "outputs": [],
   "source": [
    "# !pip install fitz frontend pymupdf"
   ]
  },
  {
   "cell_type": "code",
   "execution_count": 4,
   "metadata": {},
   "outputs": [],
   "source": [
    "# !pip install pypdf"
   ]
  },
  {
   "cell_type": "code",
   "execution_count": 5,
   "metadata": {
    "scrolled": true
   },
   "outputs": [],
   "source": [
    "# !pip install numpy dotenv langchain torch langchain_community transformers datasets"
   ]
  },
  {
   "cell_type": "code",
   "execution_count": 6,
   "metadata": {},
   "outputs": [],
   "source": [
    "# !pip install --upgrade pybind11\n",
    "# !pip uninstall faiss-gpu\n",
    "# !pip install faiss-gpu"
   ]
  },
  {
   "cell_type": "code",
   "execution_count": 7,
   "metadata": {},
   "outputs": [],
   "source": [
    "# !pip uninstall numpy\n",
    "# !pip install \"numpy<2\""
   ]
  },
  {
   "cell_type": "code",
   "execution_count": 1,
   "metadata": {},
   "outputs": [
    {
     "name": "stdout",
     "output_type": "stream",
     "text": [
      "1.24.4\n"
     ]
    }
   ],
   "source": [
    "import numpy as np\n",
    "print(np.__version__)"
   ]
  },
  {
   "cell_type": "code",
   "execution_count": 2,
   "metadata": {},
   "outputs": [
    {
     "data": {
      "text/plain": [
       "True"
      ]
     },
     "execution_count": 2,
     "metadata": {},
     "output_type": "execute_result"
    }
   ],
   "source": [
    "from dotenv import load_dotenv\n",
    "load_dotenv()"
   ]
  },
  {
   "cell_type": "code",
   "execution_count": 3,
   "metadata": {
    "scrolled": true
   },
   "outputs": [
    {
     "name": "stdout",
     "output_type": "stream",
     "text": [
      "file_list: ['21_34_(무)하나 가득담은 3.5.5 간편 건강보험(2411)(간편심사형) 1종(갱신형, 표준형)_pdf.pdf', '2_5_하나업무용자동차보험(다이렉트)_pdf.pdf', '3_2_하나영업용자동차보험_pdf.pdf', '14_3_하나 사이버금융범죄보상보험(Ⅰ)_pdf.pdf', '21_17_(무)하나 가득담은 3.0.5 간편 건강보험(일반심사형)(3대질병형)_pdf.pdf', '12_3_하나 Grade 주택화재보험_pdf.pdf', '11_11_하나 해외여행보험(방카)_pdf.pdf', '21_43_(무)하나 가득담은 3대질환보험(2411)(일반심사형) 2종(세만기형,해약환급금미지급형Ⅱ)_pdf.pdf', '12_1_하나 주택화재보험_pdf.pdf', '21_37_(무)하나 가득담은 3.5.5 간편 건강보험(2411)(일반심사형) 1종(갱신형, 표준형)_pdf.pdf', '5_2_원데이취급사원자동차보험_pdf.pdf', '5_4_원데이렌터카법인자동차보험_pdf.pdf', '21_9_(무)하나 가득담은 암보험(2404) 1종(세만기형, 표준형)_pdf.pdf', '21_36_(무)하나 가득담은 3.5.5 간편 건강보험(2411)(간편심사형) 3종(세만기, 해약환급금미지급형Ⅱ)_pdf.pdf', '21_39_(무)하나 가득담은 3.5.5 간편 건강보험(2411)(일반심사형) 3종(세만기, 해약환급금미지급형Ⅱ)_pdf.pdf', '21_20_(무)하나 가득담은 암보험(TM)(2404)(일반심사형)_pdf.pdf', '11_15_원데이 운전자보험(Ⅱ)_pdf.pdf', '11_20_하나 슬기로운자녀생활보험_pdf.pdf', '21_29_(무)뉴 건강하면 더 좋은 하나의 간편 보험(2409) 1종(세만기형, 일반형)_pdf.pdf', '11_10_하나 실손의료보험(해외여행용)_pdf.pdf', '11_12_원데이 레저보험(Ⅱ)_pdf.pdf', '11_17_하나 해외유학_장기체류보험_pdf.pdf', '21_18_(무)하나 가득담은 치아보험(다이렉트)(2404)_pdf.pdf', '21_35_(무)하나 가득담은 3.5.5 간편 건강보험(2411)(간편심사형) 2종(세만기, 표준형)_pdf.pdf', '1_1_개인용 자동차보험_pdf.pdf', '21_10_(무)하나 가득담은 암보험(2404) 2종(갱신형, 표준형)_pdf.pdf', '21_22_(무)하나로 시작하는 건강보험(2404) 2종(해약환급금미지급형Ⅱ)_pdf.pdf', '4_1_공동인수 자동차보험(이륜차)_pdf.pdf', '21_16_(무)하나 가득담은 3.0.5 간편 건강보험(간편심사형) 3종(3대질병형)_pdf.pdf', '21_5_(무) 하나 가득담은 3.2.5 간편 건강보험(2501)(간편심사형) 3종(세만기형, 해약환급금미지급형Ⅱ)_pdf.pdf', '21_42_(무)하나 가득담은 3대질환보험(2411)(일반심사형) 1종(세만기형,표준형)_pdf.pdf', '5_9_원타임이륜자동차보험_pdf.pdf', '13_2_하나 골프보험(방카)_pdf.pdf', '21_24_(무)하나로 다모은 종합건강보험 2종(세만기, 표준형)_pdf.pdf', '11_9_하나 해외여행보험(III)_pdf.pdf', '11_3_하나 국내여행보험_pdf.pdf', '2_4_하나업무용자동차보험_pdf.pdf', '2_3_공동인수 자동차보험(업무용)_pdf.pdf', '11_13_원데이 귀가안심보험(Ⅱ)_pdf.pdf', '21_6_(무)하나 가득담은 치아보험(2502)_pdf.pdf', '21_27_(무)뉴 건강하면 더 좋은 하나의 보험(2409) 2종(세만기형, 해약환급금미지급형Ⅱ)_pdf.pdf', '21_8_(무)하나더넥스트 치매간병보험(2502) 2종(세만기형, 해약환급금일부지급형)_pdf.pdf', '21_21_(무)하나로 시작하는 건강보험(2404) 1종(표준형)_pdf.pdf', '13_1_하나 골프보험(Ⅱ)_pdf.pdf', '1_5_하나개인용자동차보험(다이렉트)_pdf.pdf', '1_4_하나개인용자동차보험_pdf.pdf', '21_19_(무)하나 가득담은 암보험(TM)(2404)(간편심사형)_pdf.pdf', '21_33_(무)하나 가득담은 운전자상해종합보험(2410)_pdf.pdf', '14_4_하나 사이버금융범죄 보상보험(Ⅱ)_pdf.pdf', '4_2_하나이륜자동차보험_pdf.pdf', '21_32_(무)하나 가득담은 교직원 안심보험(2410)_pdf.pdf', '21_30_(무)뉴 건강하면 더 좋은 하나의 간편 보험(2409) 2종(세만기형, 해약환급금미지급형Ⅱ)_pdf.pdf', '21_2_(무) 하나 가득담은 3.2.5 간편 건강보험(2501)(일반심사형) 3종(세만기형, 해약환급금미지급형Ⅱ)_pdf.pdf', '11_7_하나 실손의료보험(단체상해용)_pdf.pdf', '11_5_하나 단체안심상해보험(Ⅱ)_pdf.pdf', '11_6_하나 실손의료보험(국내여행용)_pdf.pdf', '21_13_(무)하나 가득담은 암보험(방카)(2404)_pdf.pdf', '5_6_원타임취급업자자동차보험_pdf.pdf', '11_18_하나 실손의료보험(하나해외유학_장기체류보험용)_pdf.pdf', '11_19_하나 해외유학_장기체류보험(방카)_pdf.pdf', '1_3_공동인수 자동차보험(개인용)_pdf.pdf', '5_7_원타임펫택시자동차보험_pdf.pdf', '11_4_하나 단체안심상해보험(Ⅰ)_pdf.pdf', '21_45_(무) 하나 가득담은 3.2.5 간편 건강보험(2501)(일반심사형) 1종(갱신형, 표준형)_pdf.pdf', '11_2_하나 개인실손의료보험(단체전환용)_pdf.pdf', '21_15_(무)하나 가득담은 3.0.5 간편 건강보험(간편심사형) 2종(2대질병형)_pdf.pdf', '21_14_(무)하나 가득담은 3.0.5 간편 건강보험(간편심사형) 1종(암집중형)_pdf.pdf', '21_40_(무)하나 가득담은 간편 3대질환보험(2411)(간편심사형) 1종(세만기형,표준형)_pdf.pdf', '14_6_하나 휴대폰보험(Ⅱ)_pdf.pdf', '21_3_(무) 하나 가득담은 3.2.5 간편 건강보험(2501)(간편심사형) 1종(갱신형, 표준형)_pdf.pdf', '21_23_(무)하나로 다모은 종합건강보험 1종(갱신형, 표준형)_pdf.pdf', '14_1_내집마련 부동산 권리보험(소유권용)_pdf.pdf', '5_5_원데이자동차보험_pdf.pdf', '21_1_(무) 하나 가득담은 3.2.5 간편 건강보험(2501)(일반심사형) 2종(세만기형, 표준형)_pdf.pdf', '3_1_공동인수 자동차보험(영업용)_pdf.pdf', '11_1_하나 ON마음 효도보험(방카)_pdf.pdf', '5_1_원데이렌터카자동차보험_pdf.pdf', '21_44_(무)하나 가득담은 운전자보험(다이렉트)(2501)_pdf.pdf', '21_41_(무)하나 가득담은 간편 3대질환보험(2411)(간편심사형) 2종(세만기형,해약환급금미지급형Ⅱ)_pdf.pdf', '14_2_하나 도난보험_pdf.pdf', '21_12_(무)하나 가득담은 암보험(다이렉트)(2404)_pdf.pdf', '21_28_(무)뉴 건강하면 더 좋은 하나의 보험(2409) 3종(갱신형, 일반형)_pdf.pdf', '23_1_(무)하나 가득담은 화재보험(2410)_pdf.pdf', '1_2_하나개인용자동차보험(TM)_pdf.pdf', '11_16_원데이 전동킥보드(PM)보험_pdf.pdf', '21_38_(무)하나 가득담은 3.5.5 간편 건강보험(2411)(일반심사형) 2종(세만기, 표준형)_pdf.pdf', '12_2_하나 주택화재보험(방카)_pdf.pdf', '11_8_하나 해외여행보험_pdf.pdf', '11_21_하나 아나필락시스쇼크 보장보험_pdf.pdf', '21_31_(무)뉴 건강하면 더 좋은 하나의 간편 보험(2409) 3종(갱신형, 일반형)_pdf.pdf', '21_25_(무)하나로 다모은 종합건강보험 3종(세만기, 해약환급금미지급형Ⅱ)_pdf.pdf', '14_7_하나 신차교환보상보험_pdf.pdf', '11_14_하나 운전자보험(방카)_pdf.pdf', '5_3_하나중고차딜러종합보험_pdf.pdf', '21_11_(무)하나 가득담은 암보험(2404) 3종(세만기형, 해약환급금미지급형Ⅱ)_pdf.pdf', '2_2_하나업무용개인소유자동차보험(TM)_pdf.pdf', '21_4_(무) 하나 가득담은 3.2.5 간편 건강보험(2501)(간편심사형) 2종(세만기형, 표준형)_pdf.pdf', '2_1_하나업무용자동차보험(TM)_pdf.pdf', '21_26_(무)뉴 건강하면 더 좋은 하나의 보험(2409) 1종(세만기형, 일반형)_pdf.pdf', '21_7_(무)하나더넥스트 치매간병보험(2502) 1종(세만기형, 일반형)_pdf.pdf', '14_5_하나 휴대폰보험(Ⅰ)_pdf.pdf', '5_8_원타임플랫폼자동차보험_pdf.pdf']\n"
     ]
    }
   ],
   "source": [
    "import os\n",
    "\n",
    "# path = \"C:\\\\KIMUJUNG\\\\team_project\\\\team_project3\\\\pdf_folder\"\n",
    "path = \"pdf_folder_hana\"\n",
    "file_list = os.listdir(path)\n",
    "\n",
    "print (\"file_list: {}\".format(file_list))"
   ]
  },
  {
   "cell_type": "code",
   "execution_count": 4,
   "metadata": {},
   "outputs": [
    {
     "name": "stderr",
     "output_type": "stream",
     "text": [
      "/home/kwj/team_proj/faiss_2/lib/python3.8/site-packages/tqdm/auto.py:21: TqdmWarning: IProgress not found. Please update jupyter and ipywidgets. See https://ipywidgets.readthedocs.io/en/stable/user_install.html\n",
      "  from .autonotebook import tqdm as notebook_tqdm\n"
     ]
    },
    {
     "name": "stdout",
     "output_type": "stream",
     "text": [
      "Using device: cuda\n"
     ]
    }
   ],
   "source": [
    "import os\n",
    "import faiss\n",
    "import pickle\n",
    "import numpy as np\n",
    "import torch\n",
    "from langchain.vectorstores import FAISS\n",
    "from langchain.schema import Document\n",
    "from langchain_community.document_loaders import PyPDFLoader\n",
    "from langchain.text_splitter import RecursiveCharacterTextSplitter\n",
    "from transformers import AutoModel, AutoTokenizer\n",
    "import fitz  # PyMuPDF\n",
    "\n",
    "# 1️⃣ GPU 사용 여부 확인\n",
    "device = torch.device(\"cuda\" if torch.cuda.is_available() else \"cpu\")\n",
    "print(f\"Using device: {device}\")"
   ]
  },
  {
   "cell_type": "code",
   "execution_count": 5,
   "metadata": {},
   "outputs": [],
   "source": [
    "# path = \"C:\\\\KIMUJUNG\\\\team_project\\\\team_project3\\\\pdf_folder\"\n",
    "path = \"pdf_folder_hana\"\n",
    "file_list = os.listdir(path)"
   ]
  },
  {
   "cell_type": "code",
   "execution_count": 6,
   "metadata": {},
   "outputs": [
    {
     "name": "stdout",
     "output_type": "stream",
     "text": [
      "✅ 21_34_(무)하나 가득담은 3.5.5 간편 건강보험(2411)(간편심사형) 1종(갱신형, 표준형)_pdf.pdf 처리 완료\n",
      "✅ 2_5_하나업무용자동차보험(다이렉트)_pdf.pdf 처리 완료\n",
      "✅ 3_2_하나영업용자동차보험_pdf.pdf 처리 완료\n",
      "✅ 14_3_하나 사이버금융범죄보상보험(Ⅰ)_pdf.pdf 처리 완료\n",
      "✅ 21_17_(무)하나 가득담은 3.0.5 간편 건강보험(일반심사형)(3대질병형)_pdf.pdf 처리 완료\n",
      "✅ 12_3_하나 Grade 주택화재보험_pdf.pdf 처리 완료\n",
      "✅ 11_11_하나 해외여행보험(방카)_pdf.pdf 처리 완료\n",
      "✅ 21_43_(무)하나 가득담은 3대질환보험(2411)(일반심사형) 2종(세만기형,해약환급금미지급형Ⅱ)_pdf.pdf 처리 완료\n",
      "✅ 12_1_하나 주택화재보험_pdf.pdf 처리 완료\n",
      "✅ 21_37_(무)하나 가득담은 3.5.5 간편 건강보험(2411)(일반심사형) 1종(갱신형, 표준형)_pdf.pdf 처리 완료\n",
      "✅ 5_2_원데이취급사원자동차보험_pdf.pdf 처리 완료\n",
      "✅ 5_4_원데이렌터카법인자동차보험_pdf.pdf 처리 완료\n",
      "✅ 21_9_(무)하나 가득담은 암보험(2404) 1종(세만기형, 표준형)_pdf.pdf 처리 완료\n",
      "✅ 21_36_(무)하나 가득담은 3.5.5 간편 건강보험(2411)(간편심사형) 3종(세만기, 해약환급금미지급형Ⅱ)_pdf.pdf 처리 완료\n",
      "✅ 21_39_(무)하나 가득담은 3.5.5 간편 건강보험(2411)(일반심사형) 3종(세만기, 해약환급금미지급형Ⅱ)_pdf.pdf 처리 완료\n",
      "✅ 21_20_(무)하나 가득담은 암보험(TM)(2404)(일반심사형)_pdf.pdf 처리 완료\n",
      "✅ 11_15_원데이 운전자보험(Ⅱ)_pdf.pdf 처리 완료\n",
      "✅ 11_20_하나 슬기로운자녀생활보험_pdf.pdf 처리 완료\n",
      "✅ 21_29_(무)뉴 건강하면 더 좋은 하나의 간편 보험(2409) 1종(세만기형, 일반형)_pdf.pdf 처리 완료\n",
      "✅ 11_10_하나 실손의료보험(해외여행용)_pdf.pdf 처리 완료\n",
      "✅ 11_12_원데이 레저보험(Ⅱ)_pdf.pdf 처리 완료\n",
      "✅ 11_17_하나 해외유학_장기체류보험_pdf.pdf 처리 완료\n",
      "✅ 21_18_(무)하나 가득담은 치아보험(다이렉트)(2404)_pdf.pdf 처리 완료\n",
      "✅ 21_35_(무)하나 가득담은 3.5.5 간편 건강보험(2411)(간편심사형) 2종(세만기, 표준형)_pdf.pdf 처리 완료\n",
      "✅ 1_1_개인용 자동차보험_pdf.pdf 처리 완료\n",
      "✅ 21_10_(무)하나 가득담은 암보험(2404) 2종(갱신형, 표준형)_pdf.pdf 처리 완료\n",
      "✅ 21_22_(무)하나로 시작하는 건강보험(2404) 2종(해약환급금미지급형Ⅱ)_pdf.pdf 처리 완료\n",
      "✅ 4_1_공동인수 자동차보험(이륜차)_pdf.pdf 처리 완료\n",
      "✅ 21_16_(무)하나 가득담은 3.0.5 간편 건강보험(간편심사형) 3종(3대질병형)_pdf.pdf 처리 완료\n",
      "✅ 21_5_(무) 하나 가득담은 3.2.5 간편 건강보험(2501)(간편심사형) 3종(세만기형, 해약환급금미지급형Ⅱ)_pdf.pdf 처리 완료\n",
      "✅ 21_42_(무)하나 가득담은 3대질환보험(2411)(일반심사형) 1종(세만기형,표준형)_pdf.pdf 처리 완료\n",
      "✅ 5_9_원타임이륜자동차보험_pdf.pdf 처리 완료\n",
      "✅ 13_2_하나 골프보험(방카)_pdf.pdf 처리 완료\n",
      "✅ 21_24_(무)하나로 다모은 종합건강보험 2종(세만기, 표준형)_pdf.pdf 처리 완료\n",
      "✅ 11_9_하나 해외여행보험(III)_pdf.pdf 처리 완료\n",
      "✅ 11_3_하나 국내여행보험_pdf.pdf 처리 완료\n",
      "✅ 2_4_하나업무용자동차보험_pdf.pdf 처리 완료\n",
      "✅ 2_3_공동인수 자동차보험(업무용)_pdf.pdf 처리 완료\n",
      "✅ 11_13_원데이 귀가안심보험(Ⅱ)_pdf.pdf 처리 완료\n",
      "✅ 21_6_(무)하나 가득담은 치아보험(2502)_pdf.pdf 처리 완료\n",
      "✅ 21_27_(무)뉴 건강하면 더 좋은 하나의 보험(2409) 2종(세만기형, 해약환급금미지급형Ⅱ)_pdf.pdf 처리 완료\n",
      "✅ 21_8_(무)하나더넥스트 치매간병보험(2502) 2종(세만기형, 해약환급금일부지급형)_pdf.pdf 처리 완료\n",
      "✅ 21_21_(무)하나로 시작하는 건강보험(2404) 1종(표준형)_pdf.pdf 처리 완료\n",
      "✅ 13_1_하나 골프보험(Ⅱ)_pdf.pdf 처리 완료\n",
      "✅ 1_5_하나개인용자동차보험(다이렉트)_pdf.pdf 처리 완료\n",
      "✅ 1_4_하나개인용자동차보험_pdf.pdf 처리 완료\n",
      "✅ 21_19_(무)하나 가득담은 암보험(TM)(2404)(간편심사형)_pdf.pdf 처리 완료\n",
      "✅ 21_33_(무)하나 가득담은 운전자상해종합보험(2410)_pdf.pdf 처리 완료\n",
      "✅ 14_4_하나 사이버금융범죄 보상보험(Ⅱ)_pdf.pdf 처리 완료\n",
      "✅ 4_2_하나이륜자동차보험_pdf.pdf 처리 완료\n",
      "✅ 21_32_(무)하나 가득담은 교직원 안심보험(2410)_pdf.pdf 처리 완료\n",
      "✅ 21_30_(무)뉴 건강하면 더 좋은 하나의 간편 보험(2409) 2종(세만기형, 해약환급금미지급형Ⅱ)_pdf.pdf 처리 완료\n",
      "✅ 21_2_(무) 하나 가득담은 3.2.5 간편 건강보험(2501)(일반심사형) 3종(세만기형, 해약환급금미지급형Ⅱ)_pdf.pdf 처리 완료\n",
      "✅ 11_7_하나 실손의료보험(단체상해용)_pdf.pdf 처리 완료\n",
      "✅ 11_5_하나 단체안심상해보험(Ⅱ)_pdf.pdf 처리 완료\n",
      "✅ 11_6_하나 실손의료보험(국내여행용)_pdf.pdf 처리 완료\n",
      "✅ 21_13_(무)하나 가득담은 암보험(방카)(2404)_pdf.pdf 처리 완료\n",
      "✅ 5_6_원타임취급업자자동차보험_pdf.pdf 처리 완료\n",
      "✅ 11_18_하나 실손의료보험(하나해외유학_장기체류보험용)_pdf.pdf 처리 완료\n",
      "✅ 11_19_하나 해외유학_장기체류보험(방카)_pdf.pdf 처리 완료\n",
      "✅ 1_3_공동인수 자동차보험(개인용)_pdf.pdf 처리 완료\n",
      "✅ 5_7_원타임펫택시자동차보험_pdf.pdf 처리 완료\n",
      "✅ 11_4_하나 단체안심상해보험(Ⅰ)_pdf.pdf 처리 완료\n",
      "✅ 21_45_(무) 하나 가득담은 3.2.5 간편 건강보험(2501)(일반심사형) 1종(갱신형, 표준형)_pdf.pdf 처리 완료\n",
      "✅ 11_2_하나 개인실손의료보험(단체전환용)_pdf.pdf 처리 완료\n",
      "✅ 21_15_(무)하나 가득담은 3.0.5 간편 건강보험(간편심사형) 2종(2대질병형)_pdf.pdf 처리 완료\n",
      "✅ 21_14_(무)하나 가득담은 3.0.5 간편 건강보험(간편심사형) 1종(암집중형)_pdf.pdf 처리 완료\n",
      "✅ 21_40_(무)하나 가득담은 간편 3대질환보험(2411)(간편심사형) 1종(세만기형,표준형)_pdf.pdf 처리 완료\n",
      "✅ 14_6_하나 휴대폰보험(Ⅱ)_pdf.pdf 처리 완료\n",
      "✅ 21_3_(무) 하나 가득담은 3.2.5 간편 건강보험(2501)(간편심사형) 1종(갱신형, 표준형)_pdf.pdf 처리 완료\n",
      "✅ 21_23_(무)하나로 다모은 종합건강보험 1종(갱신형, 표준형)_pdf.pdf 처리 완료\n",
      "✅ 14_1_내집마련 부동산 권리보험(소유권용)_pdf.pdf 처리 완료\n",
      "✅ 5_5_원데이자동차보험_pdf.pdf 처리 완료\n",
      "✅ 21_1_(무) 하나 가득담은 3.2.5 간편 건강보험(2501)(일반심사형) 2종(세만기형, 표준형)_pdf.pdf 처리 완료\n",
      "✅ 3_1_공동인수 자동차보험(영업용)_pdf.pdf 처리 완료\n",
      "✅ 11_1_하나 ON마음 효도보험(방카)_pdf.pdf 처리 완료\n",
      "✅ 5_1_원데이렌터카자동차보험_pdf.pdf 처리 완료\n",
      "✅ 21_44_(무)하나 가득담은 운전자보험(다이렉트)(2501)_pdf.pdf 처리 완료\n",
      "✅ 21_41_(무)하나 가득담은 간편 3대질환보험(2411)(간편심사형) 2종(세만기형,해약환급금미지급형Ⅱ)_pdf.pdf 처리 완료\n",
      "✅ 14_2_하나 도난보험_pdf.pdf 처리 완료\n",
      "✅ 21_12_(무)하나 가득담은 암보험(다이렉트)(2404)_pdf.pdf 처리 완료\n",
      "✅ 21_28_(무)뉴 건강하면 더 좋은 하나의 보험(2409) 3종(갱신형, 일반형)_pdf.pdf 처리 완료\n",
      "✅ 23_1_(무)하나 가득담은 화재보험(2410)_pdf.pdf 처리 완료\n",
      "✅ 1_2_하나개인용자동차보험(TM)_pdf.pdf 처리 완료\n",
      "✅ 11_16_원데이 전동킥보드(PM)보험_pdf.pdf 처리 완료\n",
      "✅ 21_38_(무)하나 가득담은 3.5.5 간편 건강보험(2411)(일반심사형) 2종(세만기, 표준형)_pdf.pdf 처리 완료\n",
      "✅ 12_2_하나 주택화재보험(방카)_pdf.pdf 처리 완료\n",
      "✅ 11_8_하나 해외여행보험_pdf.pdf 처리 완료\n",
      "✅ 11_21_하나 아나필락시스쇼크 보장보험_pdf.pdf 처리 완료\n",
      "✅ 21_31_(무)뉴 건강하면 더 좋은 하나의 간편 보험(2409) 3종(갱신형, 일반형)_pdf.pdf 처리 완료\n",
      "✅ 21_25_(무)하나로 다모은 종합건강보험 3종(세만기, 해약환급금미지급형Ⅱ)_pdf.pdf 처리 완료\n",
      "✅ 14_7_하나 신차교환보상보험_pdf.pdf 처리 완료\n",
      "✅ 11_14_하나 운전자보험(방카)_pdf.pdf 처리 완료\n",
      "✅ 5_3_하나중고차딜러종합보험_pdf.pdf 처리 완료\n",
      "✅ 21_11_(무)하나 가득담은 암보험(2404) 3종(세만기형, 해약환급금미지급형Ⅱ)_pdf.pdf 처리 완료\n",
      "✅ 2_2_하나업무용개인소유자동차보험(TM)_pdf.pdf 처리 완료\n",
      "✅ 21_4_(무) 하나 가득담은 3.2.5 간편 건강보험(2501)(간편심사형) 2종(세만기형, 표준형)_pdf.pdf 처리 완료\n",
      "✅ 2_1_하나업무용자동차보험(TM)_pdf.pdf 처리 완료\n",
      "✅ 21_26_(무)뉴 건강하면 더 좋은 하나의 보험(2409) 1종(세만기형, 일반형)_pdf.pdf 처리 완료\n",
      "✅ 21_7_(무)하나더넥스트 치매간병보험(2502) 1종(세만기형, 일반형)_pdf.pdf 처리 완료\n",
      "✅ 14_5_하나 휴대폰보험(Ⅰ)_pdf.pdf 처리 완료\n",
      "✅ 5_8_원타임플랫폼자동차보험_pdf.pdf 처리 완료\n",
      "🎉 모든 문서 처리 및 저장 완료!\n"
     ]
    }
   ],
   "source": [
    "# 2️⃣ 모델 및 토크나이저 로드 (GPU로 이동)\n",
    "model_name = \"kakaocorp/kanana-nano-2.1b-embedding\"\n",
    "tokenizer = AutoTokenizer.from_pretrained(model_name, trust_remote_code=True)\n",
    "model = AutoModel.from_pretrained(model_name, trust_remote_code=True).to(device)\n",
    "\n",
    "# 3️⃣ 임베딩 생성 함수\n",
    "def get_embeddings(texts):\n",
    "    inputs = tokenizer(texts, padding=True, truncation=True, max_length=512, return_tensors=\"pt\")\n",
    "    # 모든 입력 텐서를 GPU로 이동\n",
    "    inputs = {key: val.to(device) for key, val in inputs.items()}\n",
    "    pool_mask = torch.ones(inputs[\"input_ids\"].shape, dtype=torch.long).to(device)\n",
    "\n",
    "    with torch.no_grad():\n",
    "        outputs = model(**inputs, pool_mask=pool_mask)\n",
    "\n",
    "    return outputs.embedding.cpu().numpy()  # GPU에서 CPU로 변환 후 반환\n",
    "\n",
    "# 4️⃣ 저장 경로 설정\n",
    "faiss_index_path = \"./faiss_index_hana.bin\"\n",
    "metadata_path = \"./documents_hana.pkl\"\n",
    "\n",
    "# 5️⃣ PDF 문서 리스트\n",
    "# file_list = [\"document1.pdf\", \"document2.pdf\"]  # 실제 파일 경로로 변경\n",
    "# path = \"/your/pdf/path\"  # 실제 경로로 변경\n",
    "\n",
    "# 6️⃣ FAISS GPU 인덱스 생성\n",
    "res = faiss.StandardGpuResources()  # GPU 리소스 할당\n",
    "index = None\n",
    "\n",
    "# 7️⃣ 문서 처리\n",
    "all_documents = []\n",
    "for file in file_list:\n",
    "    file_path = os.path.join(path, file)\n",
    "    try:\n",
    "        loader = PyPDFLoader(file_path)\n",
    "        documents = loader.load()\n",
    "    except:\n",
    "        documents = []\n",
    "        with fitz.open(file_path) as pdf:\n",
    "            metadata = pdf.metadata # PDF의 메타데이터 추출\n",
    "            \n",
    "            for page_num, page in enumerate(pdf):\n",
    "                page_text = page.get_text()\n",
    "                if \"MuPDF error:\" not in page_text:\n",
    "                    documents.append(Document(\n",
    "                        page_content=page_text,\n",
    "                        metadata={\n",
    "                            'producer': metadata.get('producer', ''),\n",
    "                            'creator': metadata.get('creator', ''),\n",
    "                            'creationdate': metadata.get('creationDate', ''),\n",
    "                            'title': metadata.get('title', ''),\n",
    "                            'author': metadata.get('author', ''),\n",
    "                            'moddate': metadata.get('modDate', ''),\n",
    "                            'pdfversion': metadata.get('pdfVersion', ''),\n",
    "                            'source': file_path,\n",
    "                            'total_pages': pdf.page_count,\n",
    "                            'page': page_num,\n",
    "                            'page_label': str(page_num + 1)\n",
    "                        }\n",
    "                    ))\n",
    "\n",
    "    # 8️⃣ 텍스트 정제\n",
    "    for doc in documents:\n",
    "        doc.page_content = doc.page_content.replace(\"\\n\", \" \").replace(\"  \", \" \")\n",
    "        doc.metadata[\"source\"] = file\n",
    "\n",
    "    # 9️⃣ 문서 스플리팅\n",
    "    splitter = RecursiveCharacterTextSplitter(chunk_size=1000, chunk_overlap=500)\n",
    "    split_documents = splitter.split_documents(documents)\n",
    "\n",
    "    # 1️⃣0️⃣ 텍스트 추출 및 임베딩 생성\n",
    "    texts = [doc.page_content for doc in split_documents]\n",
    "    embeddings = []\n",
    "\n",
    "    batch_size = 16\n",
    "    for i in range(0, len(texts), batch_size):\n",
    "        batch = texts[i : i + batch_size]\n",
    "        batch_embeddings = get_embeddings(batch)\n",
    "        embeddings.extend(batch_embeddings)\n",
    "\n",
    "    embeddings = np.array(embeddings, dtype=np.float32)\n",
    "    \n",
    "    # 1️⃣1️⃣ FAISS GPU 인덱스 생성 (처음이면 초기화)\n",
    "    if index is None:\n",
    "        embedding_dim = embeddings.shape[1]\n",
    "        cpu_index = faiss.IndexFlatL2(embedding_dim)  # CPU 인덱스\n",
    "        index = faiss.index_cpu_to_gpu(res, 0, cpu_index)  # GPU로 변환\n",
    "    \n",
    "    # 1️⃣2️⃣ FAISS 인덱스에 데이터 추가\n",
    "    index.add(embeddings)\n",
    "    all_documents.extend(split_documents)\n",
    "\n",
    "    print(f\"✅ {file} 처리 완료\")\n",
    "\n",
    "# 1️⃣3️⃣ FAISS 인덱스 저장\n",
    "faiss.write_index(faiss.index_gpu_to_cpu(index), faiss_index_path)\n",
    "\n",
    "# 1️⃣4️⃣ 문서 저장\n",
    "with open(metadata_path, \"wb\") as f:\n",
    "    pickle.dump(all_documents, f)\n",
    "\n",
    "print(\"🎉 모든 문서 처리 및 저장 완료!\")\n"
   ]
  },
  {
   "cell_type": "code",
   "execution_count": null,
   "metadata": {},
   "outputs": [],
   "source": []
  }
 ],
 "metadata": {
  "kernelspec": {
   "display_name": "Python 3.8 (faiss_2)",
   "language": "python",
   "name": "faiss_2"
  },
  "language_info": {
   "codemirror_mode": {
    "name": "ipython",
    "version": 3
   },
   "file_extension": ".py",
   "mimetype": "text/x-python",
   "name": "python",
   "nbconvert_exporter": "python",
   "pygments_lexer": "ipython3",
   "version": "3.8.20"
  }
 },
 "nbformat": 4,
 "nbformat_minor": 4
}
