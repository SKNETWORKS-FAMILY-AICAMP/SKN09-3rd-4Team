{
 "cells": [
  {
   "cell_type": "markdown",
   "metadata": {},
   "source": [
    "## 1. import"
   ]
  },
  {
   "cell_type": "code",
   "execution_count": 2,
   "metadata": {},
   "outputs": [
    {
     "name": "stderr",
     "output_type": "stream",
     "text": [
      "c:\\Users\\USER\\anaconda3\\envs\\vectordb_env\\lib\\site-packages\\tqdm\\auto.py:21: TqdmWarning: IProgress not found. Please update jupyter and ipywidgets. See https://ipywidgets.readthedocs.io/en/stable/user_install.html\n",
      "  from .autonotebook import tqdm as notebook_tqdm\n"
     ]
    }
   ],
   "source": [
    "from langchain.chat_models import ChatOpenAI\n",
    "from langchain.embeddings import OpenAIEmbeddings\n",
    "from langchain.prompts import ChatPromptTemplate\n",
    "from langchain.vectorstores import FAISS\n",
    "from langchain_core.output_parsers import StrOutputParser\n",
    "from langchain_core.runnables import RunnablePassthrough\n",
    "import faiss\n",
    "import pickle\n",
    "import numpy as np\n",
    "from langchain.schema import Document\n",
    "from langchain_community.document_loaders import PyPDFLoader\n",
    "from langchain.text_splitter import RecursiveCharacterTextSplitter\n",
    "from transformers import AutoModel, AutoTokenizer\n",
    "import torch\n",
    "\n",
    "def get_embeddings(texts):\n",
    "    inputs = tokenizer(texts, padding=True, truncation=True, max_length=512, return_tensors=\"pt\")\n",
    "    # 모든 입력 텐서를 GPU로 이동\n",
    "    inputs = {key: val.to(device) for key, val in inputs.items()}\n",
    "    pool_mask = torch.ones(inputs[\"input_ids\"].shape, dtype=torch.long).to(device)\n",
    "\n",
    "    with torch.no_grad():\n",
    "        outputs = model(**inputs, pool_mask=pool_mask)\n",
    "\n",
    "    return outputs.embedding.cpu().numpy()  # GPU에서 CPU로 변환 후 반환\n",
    "\n",
    "model_name = \"kakaocorp/kanana-nano-2.1b-embedding\"\n",
    "tokenizer = AutoTokenizer.from_pretrained(model_name, trust_remote_code=True)\n",
    "model = AutoModel.from_pretrained(model_name, trust_remote_code=True)\n",
    "device = torch.device(\"cuda\" if torch.cuda.is_available() else \"cpu\")"
   ]
  },
  {
   "cell_type": "code",
   "execution_count": 3,
   "metadata": {},
   "outputs": [
    {
     "data": {
      "text/plain": [
       "True"
      ]
     },
     "execution_count": 3,
     "metadata": {},
     "output_type": "execute_result"
    }
   ],
   "source": [
    "import os\n",
    "from dotenv import load_dotenv\n",
    "load_dotenv()"
   ]
  },
  {
   "cell_type": "code",
   "execution_count": 36,
   "metadata": {},
   "outputs": [],
   "source": [
    "# 쿼리문 (50여개) 정의\n",
    "querys = [\n",
    "\"하나와 롯데 자동차 보험의 어린이 보호구역 사고 시 과실 인정 기준 차이는?\",\n",
    "\"하나손해보험과 롯데손해보험의 교통사고 처리 지원금 보장 횟수와 대상 범위 차이는?\",\n",
    "\"하나손해보험과 롯데손해보험의 예방접종 후 부작용 보장 여부 비교해줘.\",\n",
    "\"롯데손해보험과 하나손해보험의 항공기 지연 시 보장 금액과 지연 시간 기준 비교해줘.\",\n",
    "\"하나손해보험과 롯데손해보험의 마일리지 할인 제도 적용 기준과 유지 조건은?\",\n",
    "\"하나손해보험과 롯데손해보험의 암 보험 약관에서 갑상선암을 일반암으로 인정하는 기준이 있는 쪽은 어디야?\",\n",
    "\"어떤 상해보험을 가입해야 골절 진단 받을때 보장받을 수 있어?\",\n",
    "\"암 재발하면 진단금 또 받을 수 있어요?\",\n",
    "\"보험금 타먹는 꿀팁 좀 알려줘.\",\n",
    "\"해외에서 여권을 분실했지만, 재외공관에 신고하지 않고 여행사 도움으로 임시증명서를 받아 귀국했습니다. 이 경우에도 추가 체류비용 보상을 받을 수 있나요?\",\n",
    "\"여권 분실로 귀국이 지연되어 3일을 더 머물렀습니다. 추가 체류비용을 모두 청구할 수 있나요?\",\n",
    "\"가족력 있어도 암 보험 가입에 제약조건이 있나요?\",\n",
    "\"회사 계단에서 넘어져 발목 인대를 다쳤는데, 통원 치료만 받은 경우에도 상해보험에서 치료비가 지급될 수 있어?\",\n",
    "\"기존에 당뇨가 있는 경우에도 입원비나 진단비를 받을 수 있나요?\",\n",
    "\"암 진단 이후 직장을 쉬면서 치료받고 있는데, 소득보장보험처럼 생활비 보장도 받을 수 있는 특약이 있을까?\",\n",
    "\"대장 용종 제거했는데 조직검사 결과가 초기암이래. 이런 경우 암 진단비 받을 수 있어? 얼마나 받을 수 있어?\"\n",
    "]"
   ]
  },
  {
   "cell_type": "markdown",
   "metadata": {},
   "source": [
    "## 2. DB 불러오기"
   ]
  },
  {
   "cell_type": "code",
   "execution_count": 37,
   "metadata": {},
   "outputs": [],
   "source": [
    "model_name = \"kakaocorp/kanana-nano-2.1b-embedding\"\n",
    "tokenizer = AutoTokenizer.from_pretrained(model_name, trust_remote_code=True)\n",
    "model = AutoModel.from_pretrained(model_name, trust_remote_code=True)\n",
    "device = torch.device(\"cuda\" if torch.cuda.is_available() else \"cpu\")\n",
    "def get_embeddings(texts):\n",
    "    inputs = tokenizer(texts, padding=True, truncation=True, max_length=512, return_tensors=\"pt\")\n",
    "    # 모든 입력 텐서를 GPU로 이동\n",
    "    inputs = {key: val.to(device) for key, val in inputs.items()}\n",
    "    pool_mask = torch.ones(inputs[\"input_ids\"].shape, dtype=torch.long).to(device)\n",
    "\n",
    "    with torch.no_grad():\n",
    "        outputs = model(**inputs, pool_mask=pool_mask)\n",
    "\n",
    "    return outputs.embedding.cpu().numpy()"
   ]
  },
  {
   "cell_type": "code",
   "execution_count": 38,
   "metadata": {},
   "outputs": [],
   "source": [
    "# 하나손해보험\n",
    "# 1️⃣ 저장된 FAISS 인덱스 로드\n",
    "def hana_faiss(query):\n",
    "    index = faiss.read_index(\"./faiss_hana/faiss_index_hana.bin\")\n",
    "\n",
    "    # 2️⃣ 문서 정보 로드\n",
    "    with open(\"./faiss_hana/documents_hana.pkl\", \"rb\") as f:\n",
    "        documents = pickle.load(f)\n",
    "\n",
    "    # 3️⃣ 검색 수행\n",
    "    query_embedding = get_embeddings([query])[0]  # 쿼리 임베딩\n",
    "    query_embedding = np.array([query_embedding], dtype=np.float32)\n",
    "\n",
    "    D, I = index.search(query_embedding, k=10)  # 가장 유사한 5개 검색\n",
    "    context_hana = []\n",
    "\n",
    "    # 4️⃣ 검색 결과 출력\n",
    "    for idx in I[0]:\n",
    "        context_hana.append(documents[idx].page_content)\n",
    "        \n",
    "    return context_hana\n"
   ]
  },
  {
   "cell_type": "code",
   "execution_count": 40,
   "metadata": {},
   "outputs": [],
   "source": [
    "# 롯데손해보험\n",
    "# 1️⃣ 저장된 FAISS 인덱스 로드\n",
    "def lotte_faiss(query):\n",
    "    index = faiss.read_index(\"./faiss_lotte/faiss_index_lotte.bin\")\n",
    "\n",
    "    # 2️⃣ 문서 정보 로드\n",
    "    with open(\"./faiss_lotte/documents_lotte.pkl\", \"rb\") as f:\n",
    "        documents = pickle.load(f)\n",
    "\n",
    "    # 3️⃣ 검색 수행\n",
    "    query_embedding = get_embeddings([query])[0]  # 쿼리 임베딩\n",
    "    query_embedding = np.array([query_embedding], dtype=np.float32)\n",
    "\n",
    "    D, I = index.search(query_embedding, k=10)  # 가장 유사한 5개 검색\n",
    "    context_lotte = []\n",
    "\n",
    "    # 4️⃣ 검색 결과 출력\n",
    "    for idx in I[0]:\n",
    "        context_lotte.append(documents[idx].page_content)\n",
    "        return context_lotte"
   ]
  },
  {
   "cell_type": "code",
   "execution_count": 41,
   "metadata": {},
   "outputs": [
    {
     "name": "stdout",
     "output_type": "stream",
     "text": [
      "{'question_0': '하나와 롯데 자동차 보험의 어린이 보호구역 사고 시 과실 인정 기준 차이는?', 'answer_0': '하나손해보험과 롯데손해보험의 약관에서 어린이 보호구역 사고 시 과실 인정 기준에 대한 구체적인 정보는 주어지지 않았습니다. \\n\\n하지만 일반적인 자동차 보험의 경우, 어린이 보호구역 내에서 사고가 발생하면 운전자에게 보다 엄격한 과실 기준이 적용될 수 있으며, 이는 보험사마다 다르게 적용될 수 있습니다. 일반적으로 어린이 보호구역에서는 운전자가 주의 의무를 더욱 철저히 해야 하며, 사고 발생 시 운전자에게 더 큰 책임이 부과될 가능성이 높습니다. \\n\\n정확한 정보를 얻기 위해서는 각 보험사에 직접 문의하거나, 해당 보험사의 자동차 보험 약관을 자세히 살펴보시는 것이 좋습니다.', 'question_1': '하나손해보험과 롯데손해보험의 교통사고 처리 지원금 보장 횟수와 대상 범위 차이는?', 'answer_1': '현재 제공된 context 정보에서는 하나손해보험과 롯데손해보험의 교통사고 처리 지원금에 대한 보장 횟수와 대상 범위에 대한 구체적인 차이를 확인할 수 없습니다. \\n\\nHANA_context와 LOTTE_context에 제공된 정보는 주로 보험 상품에 대한 일반적인 안내, 예금자 보호에 관한 정보, 사고 접수 및 보험 처리 관련 안내 등이 포함되어 있으며, 교통사고 처리 지원금에 대한 구체적인 보장 횟수나 대상 범위에 대한 정보는 명시되어 있지 않습니다.\\n\\n보험 약관의 세부 내용은 각 보험사의 공식 웹사이트나 고객센터를 통해 확인하실 수 있으며, 필요시 직접 보험사에 문의하시는 것이 정확한 정보를 얻는 방법입니다. 하나손해보험의 고객센터 전화번호는 1566-3000, 롯데손해보험의 고객센터 전화번호는 1588-3344 또는 1600-3434입니다.', 'question_2': '하나손해보험과 롯데손해보험의 예방접종 후 부작용 보장 여부 비교해줘.', 'answer_2': '하나손해보험과 롯데손해보험의 약관 내용에서 예방접종 후 부작용에 대한 보장 여부는 명시되어 있지 않습니다. 따라서 해당 정보는 제공된 약관에서 확인할 수 없습니다.\\n\\n예방접종 후 부작용에 대한 보장 여부를 정확히 확인하기 위해서는 각 보험사의 고객센터에 직접 문의하시거나, 해당 보험사의 구체적인 상품 약관을 참고하는 것이 필요합니다. 보험 상품마다 보장의 범위가 다를 수 있으므로, 자세한 내용을 확인하는 것이 중요합니다.', 'question_3': '롯데손해보험과 하나손해보험의 항공기 지연 시 보장 금액과 지연 시간 기준 비교해줘.', 'answer_3': '사용자 질문에 대한 답변을 드리기 위해서는 롯데손해보험과 하나손해보험의 항공기 지연에 대한 보장 금액과 지연 시간 기준에 대한 정보가 필요합니다. 그러나 제공된 context에서는 두 보험사의 항공기 지연 관련 보장 내용에 대한 구체적인 정보가 포함되어 있지 않습니다.\\n\\n일반적으로 이러한 정보는 보험 상품의 약관에 명시되어 있으며, 각 보험사의 고객 서비스 센터에 문의하거나 해당 보험사의 공식 웹사이트를 통해 확인할 수 있습니다. \\n\\n롯데손해보험 고객 서비스 센터: 1588-3344, 1600-3434\\n하나손해보험 고객 서비스 센터: 1566-3000\\n\\n해당 번호로 문의하시거나 보험사의 웹사이트를 방문하여 보다 정확하고 자세한 정보를 얻으시기를 권장합니다.', 'question_4': '하나손해보험과 롯데손해보험의 마일리지 할인 제도 적용 기준과 유지 조건은?', 'answer_4': '하나손해보험과 롯데손해보험의 마일리지 할인 제도에 대한 정보는 제공된 약관 내용에서 찾을 수 없습니다. 마일리지 할인 제도는 일반적으로 자동차 보험에서 주행 거리에 따라 보험료를 할인해 주는 제도를 의미하는데, 이와 관련된 구체적인 조건이나 유지 조건은 두 보험사의 공식 웹사이트나 고객 센터를 통해 문의하시는 것이 정확한 정보를 얻는 방법입니다.\\n\\n하나손해보험 고객센터: 1566-3000\\n롯데손해보험 고객센터: 1588-3344, 1600-3434\\n\\n이 번호로 연락하셔서 마일리지 할인 제도의 적용 기준 및 유지 조건에 대해 직접 확인하시길 권장드립니다.', 'question_5': '하나손해보험과 롯데손해보험의 암 보험 약관에서 갑상선암을 일반암으로 인정하는 기준이 있는 쪽은 어디야?', 'answer_5': '하나손해보험의 약관에 따르면, \"갑상선암\"은 일반 암으로 인정되지 않으며, \"기타피부암\"과 함께 \"암\"에서 제외됩니다. 약관에서 \"암\"은 한국표준질병사인분류에 따라 \"악성신생물(암)\"로 분류되는 질병 중 \"기타피부암\" 및 \"갑상선암\"을 제외한 질병을 의미합니다.\\n\\n반면 롯데손해보험의 약관에서는 갑상선암이 별도로 언급되지 않으며, 암의 일반적인 기준에 대한 내용만 포함되어 있습니다.\\n\\n따라서 갑상선암을 일반암으로 인정하는 기준이 있는 쪽은 롯데손해보험입니다. 하나손해보험에서는 갑상선암을 일반암으로 보지 않습니다.', 'question_6': '어떤 상해보험을 가입해야 골절 진단 받을때 보장받을 수 있어?', 'answer_6': '하나손해보험사의 상해보험에서 골절 진단비를 보장받고 싶다면, \"무배당 뉴 건강하면 더 좋은 하나의 간편 보험\"의 \"골절진단비(치아파절제외) 특별약관\"에 가입하는 것이 좋습니다. 이 특별약관은 보험기간 중 상해의 직접 결과로 골절(치아파절 제외)로 진단 확정된 경우 보험 가입 금액을 지급합니다. 이 약관은 동일한 상해로 두 가지 이상의 골절 상태가 발생하면 1회에 한하여 골절진단비를 지급하며, 치아 파절은 보장하지 않습니다. 또한, 보험금 지급에 대한 분쟁이 있을 경우 제3자의 의견을 따를 수 있습니다.', 'question_7': '암 재발하면 진단금 또 받을 수 있어요?', 'answer_7': '사용자가 언급한 \"암 재발 시 진단금을 받을 수 있는지\"에 대한 질문에 대해, 주어진 약관에서는 명확한 답변을 찾을 수 없습니다. 양사에서 제공한 약관 내용은 주로 다른 보험 상품 또는 보험금 지급 조건에 대한 정보로, 암 진단금 재지급에 대한 구체적인 기준은 언급되어 있지 않습니다.\\n\\n암 재발 시 진단금 지급 여부는 일반적으로 보험사의 상품 조건에 따라 다를 수 있습니다. 따라서, 가입하신 보험 상품의 구체적인 약관을 확인하시거나 해당 보험사의 고객센터를 통해 직접 문의하시는 것이 가장 정확한 정보를 얻는 방법입니다.', 'question_8': '보험금 타먹는 꿀팁 좀 알려줘.', 'answer_8': '죄송하지만, 보험금 청구와 관련된 부정확하거나 부적절한 정보를 제공할 수 없습니다. 보험금 청구는 보험 약관에 명시된 조건과 절차를 준수해야 하며, 정직하고 정확한 정보를 기반으로 이루어져야 합니다. 보험금 청구에 관한 궁금한 점이나 도움이 필요한 경우, 보험사에 직접 문의하시거나 공식적인 상담을 받으시기 바랍니다.', 'question_9': '해외에서 여권을 분실했지만, 재외공관에 신고하지 않고 여행사 도움으로 임시증명서를 받아 귀국했습니다. 이 경우에도 추가 체류비용 보상을 받을 수 있나요?', 'answer_9': '귀하의 상황에 대한 보상 여부는 보험의 구체적인 약관에 따라 다를 수 있습니다. 제공된 하나손해보험과 롯데손해보험의 약관 내용에서는 여권 분실 상황에서 추가 체류 비용에 대한 보상 여부를 직접적으로 언급하는 내용을 찾을 수 없습니다.\\n\\n일반적으로 보험 약관에서는 여권 분실 시 추가 체류 비용을 보상하기 위해서는 분실 사실을 공식적으로 신고하고 관련 서류를 제출해야 하는 경우가 많습니다. 귀하의 경우, 재외공관에 신고하지 않고 여행사를 통해 임시증명서를 발급받았다고 하셨으므로, 보상 청구가 어려울 수 있습니다.\\n\\n정확한 보상 가능 여부는 가입하신 보험 상품의 구체적인 약관을 확인하거나, 보험사에 직접 문의하여 확인하시는 것이 좋습니다. 각 보험사의 고객센터나 담당자에게 연락하여 상황을 설명하고, 보상 청구를 위한 절차와 필요 서류에 대해 안내받으시기 바랍니다.', 'question_10': '여권 분실로 귀국이 지연되어 3일을 더 머물렀습니다. 추가 체류비용을 모두 청구할 수 있나요?', 'answer_10': '여권 분실로 인해 귀국이 지연되어 추가 체류 비용이 발생한 경우, 해당 비용을 보험으로 청구할 수 있는지 여부는 가입하신 보험 상품의 약관에 따라 달라집니다. 제공된 약관에서 해당 상황에 대한 직접적인 언급은 없었습니다. 특히, 하나손해보험이나 롯데손해보험의 약관에서는 여권 분실로 인한 추가 체류 비용을 보상하는 조항을 찾을 수 없었습니다.\\n\\n따라서, 추가 체류 비용을 청구할 수 있을지 여부는 해당 보험 상품의 세부 약관을 검토하시거나 보험사에 직접 문의하셔서 확인하시는 것이 좋겠습니다. 보험사 고객센터에 연락하여 상세한 안내를 받으시기를 권장합니다.', 'question_11': '가족력 있어도 암 보험 가입에 제약조건이 있나요?', 'answer_11': '하나손해보험(HANA)과 롯데손해보험(LOTTE) 약관에 따르면 가족력이 암 보험 가입에 직접적인 제약 조건으로 명시되어 있지는 않습니다. 그러나 일반적으로 보험사는 피보험자의 건강 상태와 가족력을 포함한 여러 요소를 고려하여 보험 가입 여부를 결정할 수 있습니다. \\n\\n하나손해보험의 경우, 피보험자가 계약에 적합하지 않은 경우 승낙을 거절하거나 별도의 조건을 붙여 승낙할 수 있다고 명시하고 있습니다. 이는 가족력과 같은 개인의 건강 정보가 보험 가입에 영향을 미칠 수 있음을 시사합니다.\\n\\n롯데손해보험의 약관에서는 특정한 경우에 계약이 무효가 될 수 있는 조건을 설명하고 있으며, 가족력에 대한 언급은 없습니다.\\n\\n따라서, 가족력이 있는 경우 보험사와의 상담을 통해 구체적인 조건을 확인하는 것이 중요합니다. 각 보험사의 정책이나 상품에 따라 다를 수 있으므로, 가입을 고려하고 있는 보험사에 직접 문의하는 것이 좋습니다.', 'question_12': '회사 계단에서 넘어져 발목 인대를 다쳤는데, 통원 치료만 받은 경우에도 상해보험에서 치료비가 지급될 수 있어?', 'answer_12': '회사의 계단에서 넘어져 발목 인대를 다치고 통원 치료만 받은 경우에도 상해보험에서 치료비가 지급될 수 있는지에 대해 말씀드리겠습니다.\\n\\nHANA_context와 LOTTE_context 어느 쪽에서도 통원 치료에 대한 명시적인 언급이 부족합니다. 하지만 일반적으로 상해보험은 사고로 인한 부상을 보장하며, 통원 치료도 상해의 치료 방법으로 인정될 수 있습니다. 다만, 특정한 시술이나 치료가 보험의 보장 조건에 해당하지 않을 수 있습니다. 예를 들어, HANA_context에서는 특정 시술들이 수술의 정의에 해당하지 않으면 보상되지 않을 수 있다고 명시하고 있습니다. LOTTE_context에서는 수술을 시행한 상해에 대해 보장을 언급하고 있습니다.\\n\\n따라서, 발목 인대 부상으로 인한 통원 치료가 상해보험의 보장 범위에 포함되는지는 가입하신 보험 상품의 구체적인 약관과 특별약관을 확인해야 합니다. 특히, 통원 치료에 대한 보장 여부와 필요한 서류를 확인하시기 바랍니다. 보험사에 직접 문의하여 구체적인 상황에 맞는 안내를 받는 것이 가장 확실합니다.', 'question_13': '기존에 당뇨가 있는 경우에도 입원비나 진단비를 받을 수 있나요?', 'answer_13': '하나손해보험사의 약관에서는 당뇨와 같은 기존 질환에 대한 언급이 없으므로, 일반적인 보험금 지급 조건에 따라 결정될 것입니다. 따라서 기존의 당뇨가 있는 경우 입원비나 진단비를 받을 수 있는지는 특정 보험 상품의 세부 약관 및 조건에 따라 달라질 수 있습니다. 보험 가입 전에 반드시 해당 보험 상품의 세부 약관을 확인하시고, 필요한 경우 보험사에 직접 문의하시는 것이 좋습니다.\\n\\n롯데손해보험사의 약관에서도 당뇨와 같은 기존 질환에 대한 구체적인 언급은 없으며, 보험금을 지급하지 않는 사유로는 정신적 기능장해, 선천성 뇌질환, 심신상실 등이 포함되어 있습니다. 기존의 당뇨가 있는 경우에도 입원비나 진단비를 받을 수 있는지는 보험 상품의 세부 조건에 따라 다를 수 있으니, 정확한 확인을 위해 보험사에 문의하거나 약관을 꼼꼼히 읽어보시기 바랍니다.', 'question_14': '암 진단 이후 직장을 쉬면서 치료받고 있는데, 소득보장보험처럼 생활비 보장도 받을 수 있는 특약이 있을까?', 'answer_14': '하나손해보험과 롯데손해보험사의 제공한 약관 정보에서는 특정 \"소득보장보험\"이나 \"생활비 보장\"과 관련된 특약에 대한 정보가 명시되어 있지 않습니다. 따라서 암 진단 후 소득을 보장받을 수 있는 특약이 있는지에 대해서는 구체적인 내용을 확인할 수 없습니다.\\n\\n만약 암 진단 후 소득 보장을 위한 보험 상품 또는 특약을 찾고 계신다면, 보험사에 직접 문의하시거나 고객센터를 통해 상담을 받아보시기를 권장드립니다. 보험사는 다양한 보험 상품과 특약을 제공하기 때문에, 고객의 상황에 맞는 맞춤형 상품이나 특약을 추천받을 수 있을 것입니다.', 'question_15': '대장 용종 제거했는데 조직검사 결과가 초기암이래. 이런 경우 암 진단비 받을 수 있어? 얼마나 받을 수 있어?', 'answer_15': '대장 용종 제거 후 초기암이 진단된 경우, 암 진단비를 받을 수 있는지 여부는 가입한 보험사의 약관에 따라 다를 수 있습니다. HANA_context와 LOTTE_context를 기반으로 한 답변은 다음과 같습니다.\\n\\n1. **진단 확정 방법**: \\n   - 두 보험사 모두 암 진단비 지급을 위해서는 병리 또는 진단검사의학의 전문의에 의한 조직검사 결과를 통한 진단 확정이 필요합니다. \\n   - 조직검사 결과가 초기암으로 진단되었다면, 이 조건을 충족할 수 있을 것입니다.\\n\\n2. **초기암에 대한 보장 여부**:\\n   - HANA_context나 LOTTE_context에서 초기암에 대한 구체적인 언급은 없지만, 일반적으로 보험 상품은 암의 종류와 단계에 따라 보장 범위가 다를 수 있습니다. \\n   - 초기암이 보장 범위에 포함되는지, 그리고 어떤 금액이 지급될지는 해당 보험 상품의 상세 약관이나 특약에 따라 다릅니다.\\n\\n3. **지급 금액**:\\n   - 지급 금액은 보험 계약 시 설정한 보장 금액과 약관에 따라 다릅니다. \\n   - 초기암의 경우 일반적으로 지급되는 암 진단비와 차이가 있을 수 있으므로, 정확한 금액은 보험사에 직접 문의하시거나 보험 증권을 확인해 보셔야 합니다.\\n\\n따라서, 초기암 진단으로 암 진단비를 받을 수 있는지와 받을 수 있는 금액을 정확히 알기 위해서는 가입한 보험의 약관과 당신의 보험 증권을 확인하시고, 필요시 보험사에 직접 문의하시는 것이 좋습니다.'}\n"
     ]
    }
   ],
   "source": [
    "from langchain.chat_models import ChatOpenAI\n",
    "from langchain.prompts import ChatPromptTemplate\n",
    "\n",
    "qna_test = {}\n",
    "system_message = \"\"\"\n",
    "당신은 보험 상담 ASSISTANT입니다. \n",
    "각 보험사의 약관인 context 들을 기반으로 query에 대해 답변해 주세요.\n",
    "HANA_context : 하나손해보험사의 보험 상품 약관\n",
    "LOTTE_context : 롯데손해보험사의 보험 상품 약관\n",
    "\"\"\"\n",
    "\n",
    "# ChatPromptTemplate에서 사용할 템플릿 정의\n",
    "prompt_template = ChatPromptTemplate.from_template(\n",
    "    system_message + \"\\n사용자 질문: {query}\\nHANA_context: {HANA_context}\\nLOTTE_context: {LOTTE_context}\"\n",
    ")\n",
    "\n",
    "\n",
    "\n",
    "for i, query in enumerate(querys):\n",
    "    context_lotte = lotte_faiss(query)\n",
    "    context_hana = hana_faiss(query)\n",
    "\n",
    "    # 템플릿에 실제 값을 채워 메시지 생성\n",
    "    messages = prompt_template.format_messages(\n",
    "        query=query, \n",
    "        HANA_context=context_hana, \n",
    "        LOTTE_context=context_lotte\n",
    "    )\n",
    "\n",
    "    answer = ChatOpenAI(model_name='gpt-4o').invoke(messages)  # messages.to_messages()를 사용할 필요 없음\n",
    "\n",
    "    qna_test[f'question_{i}'] = query\n",
    "    qna_test[f'answer_{i}'] = answer.content  # answer가 Message 객체이므로 content 추출\n",
    "\n",
    "print(qna_test)\n"
   ]
  },
  {
   "cell_type": "code",
   "execution_count": 43,
   "metadata": {},
   "outputs": [],
   "source": [
    "json_list = []\n",
    "for i in range(len(querys)):\n",
    "    tmp_dict={}\n",
    "    tmp_dict['question'] = qna_test[f'question_{i}']\n",
    "    tmp_dict['answer'] = qna_test[f'answer_{i}']\n",
    "    json_list.append(tmp_dict)"
   ]
  },
  {
   "cell_type": "code",
   "execution_count": null,
   "metadata": {},
   "outputs": [],
   "source": [
    "import json\n",
    "file_path = 'finetunning_tmp.json'\n",
    "\n",
    "with open(file_path, 'w', encoding='UTF-8-sig') as file:\n",
    "     file.write(json.dumps(json_list, ensure_ascii=False, indent=3))"
   ]
  },
  {
   "cell_type": "code",
   "execution_count": null,
   "metadata": {},
   "outputs": [],
   "source": []
  }
 ],
 "metadata": {
  "kernelspec": {
   "display_name": "vectordb_env",
   "language": "python",
   "name": "python3"
  },
  "language_info": {
   "codemirror_mode": {
    "name": "ipython",
    "version": 3
   },
   "file_extension": ".py",
   "mimetype": "text/x-python",
   "name": "python",
   "nbconvert_exporter": "python",
   "pygments_lexer": "ipython3",
   "version": "3.9.21"
  }
 },
 "nbformat": 4,
 "nbformat_minor": 2
}
