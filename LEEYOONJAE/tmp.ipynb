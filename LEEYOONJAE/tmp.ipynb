{
 "cells": [
  {
   "cell_type": "code",
   "execution_count": 1,
   "metadata": {},
   "outputs": [
    {
     "data": {
      "text/plain": [
       "True"
      ]
     },
     "execution_count": 1,
     "metadata": {},
     "output_type": "execute_result"
    }
   ],
   "source": [
    "from dotenv import load_dotenv\n",
    "load_dotenv()"
   ]
  },
  {
   "cell_type": "code",
   "execution_count": null,
   "metadata": {},
   "outputs": [
    {
     "name": "stdout",
     "output_type": "stream",
     "text": [
      "file_list: ['24599_3_1[0].pdf', '24600_3_1.pdf', '24602_3_1.pdf', '24603_3_1.pdf', '24605_3_1.pdf', '24606_3_1.pdf', '24608_3_1.pdf', '24609_3_1.pdf', '24610_3_1.pdf', '24611_3_1(일반).pdf']\n"
     ]
    }
   ],
   "source": [
    "import os\n",
    "\n",
    "path = \"./data/상해보험\"\n",
    "file_list = os.listdir(path)\n",
    "\n",
    "print (\"file_list: {}\".format(file_list))"
   ]
  },
  {
   "cell_type": "code",
   "execution_count": 62,
   "metadata": {},
   "outputs": [],
   "source": [
    "# model_name = \"Bllossom/llama-3.2-Korean-Bllossom-3B\"\n",
    "model_name = \"kakaocorp/kanana-nano-2.1b-embedding\"\n",
    "tokenizer = AutoTokenizer.from_pretrained(model_name, trust_remote_code=True)\n",
    "model = AutoModel.from_pretrained(model_name, trust_remote_code=True)\n",
    "\n",
    "def get_embeddings(texts):\n",
    "    inputs = tokenizer(texts, padding=True, truncation=True, max_length=512, return_tensors=\"pt\")\n",
    "\n",
    "    # pool_mask 생성 (입력 시퀀스 길이에 맞춰서 1로 설정)\n",
    "    pool_mask = torch.ones(inputs[\"input_ids\"].shape, dtype=torch.long)\n",
    "\n",
    "    with torch.no_grad():\n",
    "        outputs = model(**inputs, pool_mask=pool_mask)  # pool_mask 추가\n",
    "\n",
    "    return outputs.embedding.numpy()"
   ]
  },
  {
   "cell_type": "code",
   "execution_count": null,
   "metadata": {},
   "outputs": [],
   "source": [
    "import faiss\n",
    "import pickle\n",
    "import numpy as np\n",
    "from langchain.document_loaders import PyPDFLoader\n",
    "from langchain.schema import Document\n",
    "from langchain.text_splitter import RecursiveCharacterTextSplitter\n",
    "from sentence_transformers import SentenceTransformer\n",
    "\n",
    "# 1️⃣ FAISS 저장 경로\n",
    "faiss_index_path = \"./faiss_index_1.bin\"\n",
    "metadata_path = \"./documents_1.pkl\"\n",
    "\n",
    "# 2️⃣ 임베딩 모델 로드 (Sentence-BERT 사용)\n",
    "embedding_model = SentenceTransformer(\"sentence-transformers/all-MiniLM-L6-v2\")\n",
    "\n",
    "\n",
    "# ## 변환\n",
    "# def get_embeddings(texts):\n",
    "#     \"\"\"텍스트 리스트를 입력받아 임베딩을 반환하는 함수\"\"\"\n",
    "#     return embedding_model.encode(texts, convert_to_numpy=True)\n",
    "\n",
    "def get_embeddings(texts):\n",
    "    inputs = tokenizer(texts, padding=True, truncation=True, max_length=512, return_tensors=\"pt\")\n",
    "    pool_mask = torch.ones(inputs[\"input_ids\"].shape, dtype=torch.long)\n",
    "\n",
    "    with torch.no_grad():\n",
    "        outputs = model(**inputs, pool_mask=pool_mask)\n",
    "\n",
    "    return outputs.embedding.numpy()\n",
    "\n",
    "\n",
    "# 3️⃣ PDF 문서 로드\n",
    "documents = []  # 모든 문서를 저장할 리스트\n",
    "for file in file_list:  # 첫 번째 파일만 로드\n",
    "    loader = PyPDFLoader(path + \"\\\\\" + file)\n",
    "    documents.extend(loader.load())  # ✅ 여러 문서를 리스트에 추가\n",
    "\n",
    "# 4️⃣ 문서 전처리\n",
    "for doc in documents:\n",
    "    doc.page_content = doc.page_content.replace(\"\\n\", \" \").replace(\"  \", \" \")\n",
    "    doc.metadata[\"source\"] = file  # ✅ 문서의 출처 정보를 추가\n",
    "\n",
    "# 5️⃣ 문서 스플리팅\n",
    "splitter = RecursiveCharacterTextSplitter(chunk_size=512, chunk_overlap=128)\n",
    "split_documents = splitter.split_documents(documents)  # ✅ 리스트 전체를 입력해야 함\n",
    "\n",
    "# 6️⃣ 스플릿된 문서로 벡터 생성\n",
    "batch_size = 16\n",
    "texts = [doc.page_content for doc in split_documents]\n",
    "embeddings = []\n",
    "# print(texts)\n",
    "\n",
    "for i in range(0, len(texts), batch_size):\n",
    "    batch = texts[i : i + batch_size]\n",
    "    batch_embeddings = get_embeddings(batch)  # 🔥 배치 단위로 임베딩 생성\n",
    "    embeddings.extend(batch_embeddings)\n",
    "\n",
    "# 7️⃣ FAISS 인덱스 생성 및 저장\n",
    "embedding_dim = len(embeddings[0])\n",
    "index = faiss.IndexFlatL2(embedding_dim)\n",
    "index.add(np.array(embeddings, dtype=np.float32))\n",
    "\n",
    "faiss.write_index(index, faiss_index_path)\n",
    "with open(metadata_path, \"wb\") as f:\n",
    "    pickle.dump(split_documents, f)\n",
    "\n",
    "print(\"✅ FAISS 인덱스 및 문서 저장 완료!\")"
   ]
  },
  {
   "cell_type": "code",
   "execution_count": null,
   "metadata": {},
   "outputs": [
    {
     "name": "stdout",
     "output_type": "stream",
     "text": [
      "✅ FAISS 인덱스 로드 완료!\n",
      "🔹 저장된 문서 개수: 6488\n"
     ]
    }
   ],
   "source": [
    "# 코드 저장됬는지 확인\n",
    "import faiss\n",
    "import pickle\n",
    "\n",
    "# 저장된 인덱스 & 문서 불러오기\n",
    "index = faiss.read_index(\"./faiss_index_1.bin\")\n",
    "\n",
    "with open(\"./documents_1.pkl\", \"rb\") as f:\n",
    "    split_documents = pickle.load(f)\n",
    "\n",
    "print(\"✅ FAISS 인덱스 로드 완료!\")\n",
    "print(f\"🔹 저장된 문서 개수: {len(split_documents)}\")"
   ]
  }
 ],
 "metadata": {
  "kernelspec": {
   "display_name": "vectordb_env",
   "language": "python",
   "name": "python3"
  },
  "language_info": {
   "codemirror_mode": {
    "name": "ipython",
    "version": 3
   },
   "file_extension": ".py",
   "mimetype": "text/x-python",
   "name": "python",
   "nbconvert_exporter": "python",
   "pygments_lexer": "ipython3",
   "version": "3.9.21"
  }
 },
 "nbformat": 4,
 "nbformat_minor": 2
}
